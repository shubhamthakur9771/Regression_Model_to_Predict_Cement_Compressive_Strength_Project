{
  "nbformat": 4,
  "nbformat_minor": 0,
  "metadata": {
    "colab": {
      "provenance": [],
      "collapsed_sections": [
        "iJSJ0jd4FVnq",
        "gvnh9W7sGLbD",
        "l02fLIoxGTph",
        "myrQpjZ2GfRV",
        "yZi486JGGp8E",
        "fJupZxNDG2GC",
        "wgr9-Ja2G9HZ",
        "EuqZxqbeHIvr",
        "2XfaBkeKHQmG"
      ],
      "authorship_tag": "ABX9TyOAXs5zmE+z5CxiISj9M695",
      "include_colab_link": true
    },
    "kernelspec": {
      "name": "python3",
      "display_name": "Python 3"
    },
    "language_info": {
      "name": "python"
    }
  },
  "cells": [
    {
      "cell_type": "markdown",
      "metadata": {
        "id": "view-in-github",
        "colab_type": "text"
      },
      "source": [
        "<a href=\"https://colab.research.google.com/github/shubhamthakur9771/Regression_Model_to_Predict_Cement_Compressive_Strength_Project/blob/main/Movie_Recommendation_System.ipynb\" target=\"_parent\"><img src=\"https://colab.research.google.com/assets/colab-badge.svg\" alt=\"Open In Colab\"/></a>"
      ]
    },
    {
      "cell_type": "markdown",
      "source": [
        "# **Movie Recommendation System**"
      ],
      "metadata": {
        "id": "iJSJ0jd4FVnq"
      }
    },
    {
      "cell_type": "markdown",
      "source": [
        "**Recommender System** is a system that seeks to predict or filter preferences according to the user's choices. Recommender systems are utilized in a variety of areas including movies, music, news, books, research articles, search queries, social tags, and products in general. Recommender systems produce a list of recommendations in any of the two ways -\n",
        "\n",
        "**Collaborative filtering:** Collaborative filtering approaches build a model from the user's past behavior (i.e. items purchased or searched by the user) as well as similar decisions made by other users. This model is then used to predict items(or ratings for items) that users may have an interest in.\n",
        "\n",
        "**Content-based filtering:** Content-base filtering approaches uses a series of discrete characteristics of an item in order to recommend additional items with similar properties. Content-based filtering methods are totally based on a description of the item and a profile of the user's preferences. It recommends items based on the user's past preferences. Let's develop a basic recommendation system using Python and Pandas.\n",
        "\n",
        "Let's develop a basic recommendation system by suggesting items that are most similar to a particular item, in this case, movies. It just tells what movies/items are most similar to the user's movie choice.**"
      ],
      "metadata": {
        "id": "HW72GvUqFc5g"
      }
    },
    {
      "cell_type": "markdown",
      "source": [
        "# **Import Library**"
      ],
      "metadata": {
        "id": "gvnh9W7sGLbD"
      }
    },
    {
      "cell_type": "code",
      "execution_count": 1,
      "metadata": {
        "id": "CBNynBNu-vqa"
      },
      "outputs": [],
      "source": [
        "import pandas as pd\n"
      ]
    },
    {
      "cell_type": "code",
      "source": [
        "import numpy as np\n"
      ],
      "metadata": {
        "id": "5DByk1my-0Pe"
      },
      "execution_count": 2,
      "outputs": []
    },
    {
      "cell_type": "markdown",
      "source": [
        "# **Import Dataset**"
      ],
      "metadata": {
        "id": "l02fLIoxGTph"
      }
    },
    {
      "cell_type": "code",
      "source": [
        "df = pd.read_csv(r'https://raw.githubusercontent.com/YBI-Foundation/Dataset/main/Movies%20Recommendation.csv')"
      ],
      "metadata": {
        "id": "wptnpROO-0Sc"
      },
      "execution_count": 3,
      "outputs": []
    },
    {
      "cell_type": "code",
      "source": [
        "df.head()"
      ],
      "metadata": {
        "colab": {
          "base_uri": "https://localhost:8080/",
          "height": 637
        },
        "id": "yT4jyZe7-0VF",
        "outputId": "43d1f005-2f07-41ef-e89a-9e9d55622903"
      },
      "execution_count": 4,
      "outputs": [
        {
          "output_type": "execute_result",
          "data": {
            "text/plain": [
              "   Movie_ID      Movie_Title                       Movie_Genre Movie_Language  \\\n",
              "0         1       Four Rooms                      Crime Comedy             en   \n",
              "1         2        Star Wars  Adventure Action Science Fiction             en   \n",
              "2         3     Finding Nemo                  Animation Family             en   \n",
              "3         4     Forrest Gump              Comedy Drama Romance             en   \n",
              "4         5  American Beauty                             Drama             en   \n",
              "\n",
              "   Movie_Budget  Movie_Popularity Movie_Release_Date  Movie_Revenue  \\\n",
              "0       4000000         22.876230         09-12-1995        4300000   \n",
              "1      11000000        126.393695         25-05-1977      775398007   \n",
              "2      94000000         85.688789         30-05-2003      940335536   \n",
              "3      55000000        138.133331         06-07-1994      677945399   \n",
              "4      15000000         80.878605         15-09-1999      356296601   \n",
              "\n",
              "   Movie_Runtime  Movie_Vote  ...  \\\n",
              "0           98.0         6.5  ...   \n",
              "1          121.0         8.1  ...   \n",
              "2          100.0         7.6  ...   \n",
              "3          142.0         8.2  ...   \n",
              "4          122.0         7.9  ...   \n",
              "\n",
              "                                      Movie_Homepage  \\\n",
              "0                                                NaN   \n",
              "1  http://www.starwars.com/films/star-wars-episod...   \n",
              "2              http://movies.disney.com/finding-nemo   \n",
              "3                                                NaN   \n",
              "4                      http://www.dreamworks.com/ab/   \n",
              "\n",
              "                                      Movie_Keywords  \\\n",
              "0          hotel new year's eve witch bet hotel room   \n",
              "1        android galaxy hermit death star lightsaber   \n",
              "2  father son relationship harbor underwater fish...   \n",
              "3  vietnam veteran hippie mentally disabled runni...   \n",
              "4  male nudity female nudity adultery midlife cri...   \n",
              "\n",
              "                                      Movie_Overview  \\\n",
              "0  It's Ted the Bellhop's first night on the job....   \n",
              "1  Princess Leia is captured and held hostage by ...   \n",
              "2  Nemo, an adventurous young clownfish, is unexp...   \n",
              "3  A man with a low IQ has accomplished great thi...   \n",
              "4  Lester Burnham, a depressed suburban father in...   \n",
              "\n",
              "                              Movie_Production_House  \\\n",
              "0  [{\"name\": \"Miramax Films\", \"id\": 14}, {\"name\":...   \n",
              "1  [{\"name\": \"Lucasfilm\", \"id\": 1}, {\"name\": \"Twe...   \n",
              "2     [{\"name\": \"Pixar Animation Studios\", \"id\": 3}]   \n",
              "3          [{\"name\": \"Paramount Pictures\", \"id\": 4}]   \n",
              "4  [{\"name\": \"DreamWorks SKG\", \"id\": 27}, {\"name\"...   \n",
              "\n",
              "                            Movie_Production_Country  \\\n",
              "0  [{\"iso_3166_1\": \"US\", \"name\": \"United States o...   \n",
              "1  [{\"iso_3166_1\": \"US\", \"name\": \"United States o...   \n",
              "2  [{\"iso_3166_1\": \"US\", \"name\": \"United States o...   \n",
              "3  [{\"iso_3166_1\": \"US\", \"name\": \"United States o...   \n",
              "4  [{\"iso_3166_1\": \"US\", \"name\": \"United States o...   \n",
              "\n",
              "                      Movie_Spoken_Language  \\\n",
              "0  [{\"iso_639_1\": \"en\", \"name\": \"English\"}]   \n",
              "1  [{\"iso_639_1\": \"en\", \"name\": \"English\"}]   \n",
              "2  [{\"iso_639_1\": \"en\", \"name\": \"English\"}]   \n",
              "3  [{\"iso_639_1\": \"en\", \"name\": \"English\"}]   \n",
              "4  [{\"iso_639_1\": \"en\", \"name\": \"English\"}]   \n",
              "\n",
              "                                       Movie_Tagline  \\\n",
              "0  Twelve outrageous guests. Four scandalous requ...   \n",
              "1       A long time ago in a galaxy far, far away...   \n",
              "2  There are 3.7 trillion fish in the ocean, they...   \n",
              "3  The world will never be the same, once you've ...   \n",
              "4                                       Look closer.   \n",
              "\n",
              "                                          Movie_Cast  \\\n",
              "0  Tim Roth Antonio Banderas Jennifer Beals Madon...   \n",
              "1  Mark Hamill Harrison Ford Carrie Fisher Peter ...   \n",
              "2  Albert Brooks Ellen DeGeneres Alexander Gould ...   \n",
              "3  Tom Hanks Robin Wright Gary Sinise Mykelti Wil...   \n",
              "4  Kevin Spacey Annette Bening Thora Birch Wes Be...   \n",
              "\n",
              "                                          Movie_Crew   Movie_Director  \n",
              "0  [{'name': 'Allison Anders', 'gender': 1, 'depa...   Allison Anders  \n",
              "1  [{'name': 'George Lucas', 'gender': 2, 'depart...     George Lucas  \n",
              "2  [{'name': 'Andrew Stanton', 'gender': 2, 'depa...   Andrew Stanton  \n",
              "3  [{'name': 'Alan Silvestri', 'gender': 2, 'depa...  Robert Zemeckis  \n",
              "4  [{'name': 'Thomas Newman', 'gender': 2, 'depar...       Sam Mendes  \n",
              "\n",
              "[5 rows x 21 columns]"
            ],
            "text/html": [
              "\n",
              "  <div id=\"df-7d37ff43-8047-4e9c-ac26-9e9e5eb2327b\" class=\"colab-df-container\">\n",
              "    <div>\n",
              "<style scoped>\n",
              "    .dataframe tbody tr th:only-of-type {\n",
              "        vertical-align: middle;\n",
              "    }\n",
              "\n",
              "    .dataframe tbody tr th {\n",
              "        vertical-align: top;\n",
              "    }\n",
              "\n",
              "    .dataframe thead th {\n",
              "        text-align: right;\n",
              "    }\n",
              "</style>\n",
              "<table border=\"1\" class=\"dataframe\">\n",
              "  <thead>\n",
              "    <tr style=\"text-align: right;\">\n",
              "      <th></th>\n",
              "      <th>Movie_ID</th>\n",
              "      <th>Movie_Title</th>\n",
              "      <th>Movie_Genre</th>\n",
              "      <th>Movie_Language</th>\n",
              "      <th>Movie_Budget</th>\n",
              "      <th>Movie_Popularity</th>\n",
              "      <th>Movie_Release_Date</th>\n",
              "      <th>Movie_Revenue</th>\n",
              "      <th>Movie_Runtime</th>\n",
              "      <th>Movie_Vote</th>\n",
              "      <th>...</th>\n",
              "      <th>Movie_Homepage</th>\n",
              "      <th>Movie_Keywords</th>\n",
              "      <th>Movie_Overview</th>\n",
              "      <th>Movie_Production_House</th>\n",
              "      <th>Movie_Production_Country</th>\n",
              "      <th>Movie_Spoken_Language</th>\n",
              "      <th>Movie_Tagline</th>\n",
              "      <th>Movie_Cast</th>\n",
              "      <th>Movie_Crew</th>\n",
              "      <th>Movie_Director</th>\n",
              "    </tr>\n",
              "  </thead>\n",
              "  <tbody>\n",
              "    <tr>\n",
              "      <th>0</th>\n",
              "      <td>1</td>\n",
              "      <td>Four Rooms</td>\n",
              "      <td>Crime Comedy</td>\n",
              "      <td>en</td>\n",
              "      <td>4000000</td>\n",
              "      <td>22.876230</td>\n",
              "      <td>09-12-1995</td>\n",
              "      <td>4300000</td>\n",
              "      <td>98.0</td>\n",
              "      <td>6.5</td>\n",
              "      <td>...</td>\n",
              "      <td>NaN</td>\n",
              "      <td>hotel new year's eve witch bet hotel room</td>\n",
              "      <td>It's Ted the Bellhop's first night on the job....</td>\n",
              "      <td>[{\"name\": \"Miramax Films\", \"id\": 14}, {\"name\":...</td>\n",
              "      <td>[{\"iso_3166_1\": \"US\", \"name\": \"United States o...</td>\n",
              "      <td>[{\"iso_639_1\": \"en\", \"name\": \"English\"}]</td>\n",
              "      <td>Twelve outrageous guests. Four scandalous requ...</td>\n",
              "      <td>Tim Roth Antonio Banderas Jennifer Beals Madon...</td>\n",
              "      <td>[{'name': 'Allison Anders', 'gender': 1, 'depa...</td>\n",
              "      <td>Allison Anders</td>\n",
              "    </tr>\n",
              "    <tr>\n",
              "      <th>1</th>\n",
              "      <td>2</td>\n",
              "      <td>Star Wars</td>\n",
              "      <td>Adventure Action Science Fiction</td>\n",
              "      <td>en</td>\n",
              "      <td>11000000</td>\n",
              "      <td>126.393695</td>\n",
              "      <td>25-05-1977</td>\n",
              "      <td>775398007</td>\n",
              "      <td>121.0</td>\n",
              "      <td>8.1</td>\n",
              "      <td>...</td>\n",
              "      <td>http://www.starwars.com/films/star-wars-episod...</td>\n",
              "      <td>android galaxy hermit death star lightsaber</td>\n",
              "      <td>Princess Leia is captured and held hostage by ...</td>\n",
              "      <td>[{\"name\": \"Lucasfilm\", \"id\": 1}, {\"name\": \"Twe...</td>\n",
              "      <td>[{\"iso_3166_1\": \"US\", \"name\": \"United States o...</td>\n",
              "      <td>[{\"iso_639_1\": \"en\", \"name\": \"English\"}]</td>\n",
              "      <td>A long time ago in a galaxy far, far away...</td>\n",
              "      <td>Mark Hamill Harrison Ford Carrie Fisher Peter ...</td>\n",
              "      <td>[{'name': 'George Lucas', 'gender': 2, 'depart...</td>\n",
              "      <td>George Lucas</td>\n",
              "    </tr>\n",
              "    <tr>\n",
              "      <th>2</th>\n",
              "      <td>3</td>\n",
              "      <td>Finding Nemo</td>\n",
              "      <td>Animation Family</td>\n",
              "      <td>en</td>\n",
              "      <td>94000000</td>\n",
              "      <td>85.688789</td>\n",
              "      <td>30-05-2003</td>\n",
              "      <td>940335536</td>\n",
              "      <td>100.0</td>\n",
              "      <td>7.6</td>\n",
              "      <td>...</td>\n",
              "      <td>http://movies.disney.com/finding-nemo</td>\n",
              "      <td>father son relationship harbor underwater fish...</td>\n",
              "      <td>Nemo, an adventurous young clownfish, is unexp...</td>\n",
              "      <td>[{\"name\": \"Pixar Animation Studios\", \"id\": 3}]</td>\n",
              "      <td>[{\"iso_3166_1\": \"US\", \"name\": \"United States o...</td>\n",
              "      <td>[{\"iso_639_1\": \"en\", \"name\": \"English\"}]</td>\n",
              "      <td>There are 3.7 trillion fish in the ocean, they...</td>\n",
              "      <td>Albert Brooks Ellen DeGeneres Alexander Gould ...</td>\n",
              "      <td>[{'name': 'Andrew Stanton', 'gender': 2, 'depa...</td>\n",
              "      <td>Andrew Stanton</td>\n",
              "    </tr>\n",
              "    <tr>\n",
              "      <th>3</th>\n",
              "      <td>4</td>\n",
              "      <td>Forrest Gump</td>\n",
              "      <td>Comedy Drama Romance</td>\n",
              "      <td>en</td>\n",
              "      <td>55000000</td>\n",
              "      <td>138.133331</td>\n",
              "      <td>06-07-1994</td>\n",
              "      <td>677945399</td>\n",
              "      <td>142.0</td>\n",
              "      <td>8.2</td>\n",
              "      <td>...</td>\n",
              "      <td>NaN</td>\n",
              "      <td>vietnam veteran hippie mentally disabled runni...</td>\n",
              "      <td>A man with a low IQ has accomplished great thi...</td>\n",
              "      <td>[{\"name\": \"Paramount Pictures\", \"id\": 4}]</td>\n",
              "      <td>[{\"iso_3166_1\": \"US\", \"name\": \"United States o...</td>\n",
              "      <td>[{\"iso_639_1\": \"en\", \"name\": \"English\"}]</td>\n",
              "      <td>The world will never be the same, once you've ...</td>\n",
              "      <td>Tom Hanks Robin Wright Gary Sinise Mykelti Wil...</td>\n",
              "      <td>[{'name': 'Alan Silvestri', 'gender': 2, 'depa...</td>\n",
              "      <td>Robert Zemeckis</td>\n",
              "    </tr>\n",
              "    <tr>\n",
              "      <th>4</th>\n",
              "      <td>5</td>\n",
              "      <td>American Beauty</td>\n",
              "      <td>Drama</td>\n",
              "      <td>en</td>\n",
              "      <td>15000000</td>\n",
              "      <td>80.878605</td>\n",
              "      <td>15-09-1999</td>\n",
              "      <td>356296601</td>\n",
              "      <td>122.0</td>\n",
              "      <td>7.9</td>\n",
              "      <td>...</td>\n",
              "      <td>http://www.dreamworks.com/ab/</td>\n",
              "      <td>male nudity female nudity adultery midlife cri...</td>\n",
              "      <td>Lester Burnham, a depressed suburban father in...</td>\n",
              "      <td>[{\"name\": \"DreamWorks SKG\", \"id\": 27}, {\"name\"...</td>\n",
              "      <td>[{\"iso_3166_1\": \"US\", \"name\": \"United States o...</td>\n",
              "      <td>[{\"iso_639_1\": \"en\", \"name\": \"English\"}]</td>\n",
              "      <td>Look closer.</td>\n",
              "      <td>Kevin Spacey Annette Bening Thora Birch Wes Be...</td>\n",
              "      <td>[{'name': 'Thomas Newman', 'gender': 2, 'depar...</td>\n",
              "      <td>Sam Mendes</td>\n",
              "    </tr>\n",
              "  </tbody>\n",
              "</table>\n",
              "<p>5 rows × 21 columns</p>\n",
              "</div>\n",
              "    <div class=\"colab-df-buttons\">\n",
              "\n",
              "  <div class=\"colab-df-container\">\n",
              "    <button class=\"colab-df-convert\" onclick=\"convertToInteractive('df-7d37ff43-8047-4e9c-ac26-9e9e5eb2327b')\"\n",
              "            title=\"Convert this dataframe to an interactive table.\"\n",
              "            style=\"display:none;\">\n",
              "\n",
              "  <svg xmlns=\"http://www.w3.org/2000/svg\" height=\"24px\" viewBox=\"0 -960 960 960\">\n",
              "    <path d=\"M120-120v-720h720v720H120Zm60-500h600v-160H180v160Zm220 220h160v-160H400v160Zm0 220h160v-160H400v160ZM180-400h160v-160H180v160Zm440 0h160v-160H620v160ZM180-180h160v-160H180v160Zm440 0h160v-160H620v160Z\"/>\n",
              "  </svg>\n",
              "    </button>\n",
              "\n",
              "  <style>\n",
              "    .colab-df-container {\n",
              "      display:flex;\n",
              "      gap: 12px;\n",
              "    }\n",
              "\n",
              "    .colab-df-convert {\n",
              "      background-color: #E8F0FE;\n",
              "      border: none;\n",
              "      border-radius: 50%;\n",
              "      cursor: pointer;\n",
              "      display: none;\n",
              "      fill: #1967D2;\n",
              "      height: 32px;\n",
              "      padding: 0 0 0 0;\n",
              "      width: 32px;\n",
              "    }\n",
              "\n",
              "    .colab-df-convert:hover {\n",
              "      background-color: #E2EBFA;\n",
              "      box-shadow: 0px 1px 2px rgba(60, 64, 67, 0.3), 0px 1px 3px 1px rgba(60, 64, 67, 0.15);\n",
              "      fill: #174EA6;\n",
              "    }\n",
              "\n",
              "    .colab-df-buttons div {\n",
              "      margin-bottom: 4px;\n",
              "    }\n",
              "\n",
              "    [theme=dark] .colab-df-convert {\n",
              "      background-color: #3B4455;\n",
              "      fill: #D2E3FC;\n",
              "    }\n",
              "\n",
              "    [theme=dark] .colab-df-convert:hover {\n",
              "      background-color: #434B5C;\n",
              "      box-shadow: 0px 1px 3px 1px rgba(0, 0, 0, 0.15);\n",
              "      filter: drop-shadow(0px 1px 2px rgba(0, 0, 0, 0.3));\n",
              "      fill: #FFFFFF;\n",
              "    }\n",
              "  </style>\n",
              "\n",
              "    <script>\n",
              "      const buttonEl =\n",
              "        document.querySelector('#df-7d37ff43-8047-4e9c-ac26-9e9e5eb2327b button.colab-df-convert');\n",
              "      buttonEl.style.display =\n",
              "        google.colab.kernel.accessAllowed ? 'block' : 'none';\n",
              "\n",
              "      async function convertToInteractive(key) {\n",
              "        const element = document.querySelector('#df-7d37ff43-8047-4e9c-ac26-9e9e5eb2327b');\n",
              "        const dataTable =\n",
              "          await google.colab.kernel.invokeFunction('convertToInteractive',\n",
              "                                                    [key], {});\n",
              "        if (!dataTable) return;\n",
              "\n",
              "        const docLinkHtml = 'Like what you see? Visit the ' +\n",
              "          '<a target=\"_blank\" href=https://colab.research.google.com/notebooks/data_table.ipynb>data table notebook</a>'\n",
              "          + ' to learn more about interactive tables.';\n",
              "        element.innerHTML = '';\n",
              "        dataTable['output_type'] = 'display_data';\n",
              "        await google.colab.output.renderOutput(dataTable, element);\n",
              "        const docLink = document.createElement('div');\n",
              "        docLink.innerHTML = docLinkHtml;\n",
              "        element.appendChild(docLink);\n",
              "      }\n",
              "    </script>\n",
              "  </div>\n",
              "\n",
              "\n",
              "<div id=\"df-9346f38e-6790-4ae0-b132-23efdb5021f2\">\n",
              "  <button class=\"colab-df-quickchart\" onclick=\"quickchart('df-9346f38e-6790-4ae0-b132-23efdb5021f2')\"\n",
              "            title=\"Suggest charts\"\n",
              "            style=\"display:none;\">\n",
              "\n",
              "<svg xmlns=\"http://www.w3.org/2000/svg\" height=\"24px\"viewBox=\"0 0 24 24\"\n",
              "     width=\"24px\">\n",
              "    <g>\n",
              "        <path d=\"M19 3H5c-1.1 0-2 .9-2 2v14c0 1.1.9 2 2 2h14c1.1 0 2-.9 2-2V5c0-1.1-.9-2-2-2zM9 17H7v-7h2v7zm4 0h-2V7h2v10zm4 0h-2v-4h2v4z\"/>\n",
              "    </g>\n",
              "</svg>\n",
              "  </button>\n",
              "\n",
              "<style>\n",
              "  .colab-df-quickchart {\n",
              "      --bg-color: #E8F0FE;\n",
              "      --fill-color: #1967D2;\n",
              "      --hover-bg-color: #E2EBFA;\n",
              "      --hover-fill-color: #174EA6;\n",
              "      --disabled-fill-color: #AAA;\n",
              "      --disabled-bg-color: #DDD;\n",
              "  }\n",
              "\n",
              "  [theme=dark] .colab-df-quickchart {\n",
              "      --bg-color: #3B4455;\n",
              "      --fill-color: #D2E3FC;\n",
              "      --hover-bg-color: #434B5C;\n",
              "      --hover-fill-color: #FFFFFF;\n",
              "      --disabled-bg-color: #3B4455;\n",
              "      --disabled-fill-color: #666;\n",
              "  }\n",
              "\n",
              "  .colab-df-quickchart {\n",
              "    background-color: var(--bg-color);\n",
              "    border: none;\n",
              "    border-radius: 50%;\n",
              "    cursor: pointer;\n",
              "    display: none;\n",
              "    fill: var(--fill-color);\n",
              "    height: 32px;\n",
              "    padding: 0;\n",
              "    width: 32px;\n",
              "  }\n",
              "\n",
              "  .colab-df-quickchart:hover {\n",
              "    background-color: var(--hover-bg-color);\n",
              "    box-shadow: 0 1px 2px rgba(60, 64, 67, 0.3), 0 1px 3px 1px rgba(60, 64, 67, 0.15);\n",
              "    fill: var(--button-hover-fill-color);\n",
              "  }\n",
              "\n",
              "  .colab-df-quickchart-complete:disabled,\n",
              "  .colab-df-quickchart-complete:disabled:hover {\n",
              "    background-color: var(--disabled-bg-color);\n",
              "    fill: var(--disabled-fill-color);\n",
              "    box-shadow: none;\n",
              "  }\n",
              "\n",
              "  .colab-df-spinner {\n",
              "    border: 2px solid var(--fill-color);\n",
              "    border-color: transparent;\n",
              "    border-bottom-color: var(--fill-color);\n",
              "    animation:\n",
              "      spin 1s steps(1) infinite;\n",
              "  }\n",
              "\n",
              "  @keyframes spin {\n",
              "    0% {\n",
              "      border-color: transparent;\n",
              "      border-bottom-color: var(--fill-color);\n",
              "      border-left-color: var(--fill-color);\n",
              "    }\n",
              "    20% {\n",
              "      border-color: transparent;\n",
              "      border-left-color: var(--fill-color);\n",
              "      border-top-color: var(--fill-color);\n",
              "    }\n",
              "    30% {\n",
              "      border-color: transparent;\n",
              "      border-left-color: var(--fill-color);\n",
              "      border-top-color: var(--fill-color);\n",
              "      border-right-color: var(--fill-color);\n",
              "    }\n",
              "    40% {\n",
              "      border-color: transparent;\n",
              "      border-right-color: var(--fill-color);\n",
              "      border-top-color: var(--fill-color);\n",
              "    }\n",
              "    60% {\n",
              "      border-color: transparent;\n",
              "      border-right-color: var(--fill-color);\n",
              "    }\n",
              "    80% {\n",
              "      border-color: transparent;\n",
              "      border-right-color: var(--fill-color);\n",
              "      border-bottom-color: var(--fill-color);\n",
              "    }\n",
              "    90% {\n",
              "      border-color: transparent;\n",
              "      border-bottom-color: var(--fill-color);\n",
              "    }\n",
              "  }\n",
              "</style>\n",
              "\n",
              "  <script>\n",
              "    async function quickchart(key) {\n",
              "      const quickchartButtonEl =\n",
              "        document.querySelector('#' + key + ' button');\n",
              "      quickchartButtonEl.disabled = true;  // To prevent multiple clicks.\n",
              "      quickchartButtonEl.classList.add('colab-df-spinner');\n",
              "      try {\n",
              "        const charts = await google.colab.kernel.invokeFunction(\n",
              "            'suggestCharts', [key], {});\n",
              "      } catch (error) {\n",
              "        console.error('Error during call to suggestCharts:', error);\n",
              "      }\n",
              "      quickchartButtonEl.classList.remove('colab-df-spinner');\n",
              "      quickchartButtonEl.classList.add('colab-df-quickchart-complete');\n",
              "    }\n",
              "    (() => {\n",
              "      let quickchartButtonEl =\n",
              "        document.querySelector('#df-9346f38e-6790-4ae0-b132-23efdb5021f2 button');\n",
              "      quickchartButtonEl.style.display =\n",
              "        google.colab.kernel.accessAllowed ? 'block' : 'none';\n",
              "    })();\n",
              "  </script>\n",
              "</div>\n",
              "\n",
              "    </div>\n",
              "  </div>\n"
            ],
            "application/vnd.google.colaboratory.intrinsic+json": {
              "type": "dataframe",
              "variable_name": "df"
            }
          },
          "metadata": {},
          "execution_count": 4
        }
      ]
    },
    {
      "cell_type": "code",
      "source": [
        "df.info()"
      ],
      "metadata": {
        "colab": {
          "base_uri": "https://localhost:8080/"
        },
        "id": "mrSFe7mz-0Xs",
        "outputId": "ec8d8d05-875c-4ed8-98a6-767494cf94e8"
      },
      "execution_count": 5,
      "outputs": [
        {
          "output_type": "stream",
          "name": "stdout",
          "text": [
            "<class 'pandas.core.frame.DataFrame'>\n",
            "RangeIndex: 4760 entries, 0 to 4759\n",
            "Data columns (total 21 columns):\n",
            " #   Column                    Non-Null Count  Dtype  \n",
            "---  ------                    --------------  -----  \n",
            " 0   Movie_ID                  4760 non-null   int64  \n",
            " 1   Movie_Title               4760 non-null   object \n",
            " 2   Movie_Genre               4760 non-null   object \n",
            " 3   Movie_Language            4760 non-null   object \n",
            " 4   Movie_Budget              4760 non-null   int64  \n",
            " 5   Movie_Popularity          4760 non-null   float64\n",
            " 6   Movie_Release_Date        4760 non-null   object \n",
            " 7   Movie_Revenue             4760 non-null   int64  \n",
            " 8   Movie_Runtime             4758 non-null   float64\n",
            " 9   Movie_Vote                4760 non-null   float64\n",
            " 10  Movie_Vote_Count          4760 non-null   int64  \n",
            " 11  Movie_Homepage            1699 non-null   object \n",
            " 12  Movie_Keywords            4373 non-null   object \n",
            " 13  Movie_Overview            4757 non-null   object \n",
            " 14  Movie_Production_House    4760 non-null   object \n",
            " 15  Movie_Production_Country  4760 non-null   object \n",
            " 16  Movie_Spoken_Language     4760 non-null   object \n",
            " 17  Movie_Tagline             3942 non-null   object \n",
            " 18  Movie_Cast                4733 non-null   object \n",
            " 19  Movie_Crew                4760 non-null   object \n",
            " 20  Movie_Director            4738 non-null   object \n",
            "dtypes: float64(3), int64(4), object(14)\n",
            "memory usage: 781.1+ KB\n"
          ]
        }
      ]
    },
    {
      "cell_type": "code",
      "source": [
        "df.shape\n"
      ],
      "metadata": {
        "colab": {
          "base_uri": "https://localhost:8080/"
        },
        "id": "R_Pzyj0d-0aQ",
        "outputId": "e799c501-c8d0-4192-a664-a100104ebc36"
      },
      "execution_count": 6,
      "outputs": [
        {
          "output_type": "execute_result",
          "data": {
            "text/plain": [
              "(4760, 21)"
            ]
          },
          "metadata": {},
          "execution_count": 6
        }
      ]
    },
    {
      "cell_type": "code",
      "source": [
        "df.columns\n"
      ],
      "metadata": {
        "colab": {
          "base_uri": "https://localhost:8080/"
        },
        "id": "pIEYC42T-0cl",
        "outputId": "e8b4b48a-1e1c-4259-d86c-00277fd46203"
      },
      "execution_count": 7,
      "outputs": [
        {
          "output_type": "execute_result",
          "data": {
            "text/plain": [
              "Index(['Movie_ID', 'Movie_Title', 'Movie_Genre', 'Movie_Language',\n",
              "       'Movie_Budget', 'Movie_Popularity', 'Movie_Release_Date',\n",
              "       'Movie_Revenue', 'Movie_Runtime', 'Movie_Vote', 'Movie_Vote_Count',\n",
              "       'Movie_Homepage', 'Movie_Keywords', 'Movie_Overview',\n",
              "       'Movie_Production_House', 'Movie_Production_Country',\n",
              "       'Movie_Spoken_Language', 'Movie_Tagline', 'Movie_Cast', 'Movie_Crew',\n",
              "       'Movie_Director'],\n",
              "      dtype='object')"
            ]
          },
          "metadata": {},
          "execution_count": 7
        }
      ]
    },
    {
      "cell_type": "markdown",
      "source": [
        "# **Get Feature Selection**"
      ],
      "metadata": {
        "id": "myrQpjZ2GfRV"
      }
    },
    {
      "cell_type": "code",
      "source": [
        "df_features = df[['Movie_Genre','Movie_Keywords','Movie_Tagline','Movie_Cast','Movie_Director']].fillna('')"
      ],
      "metadata": {
        "id": "qX7kfOXW-0e8"
      },
      "execution_count": 8,
      "outputs": []
    },
    {
      "cell_type": "code",
      "source": [
        "df_features.shape"
      ],
      "metadata": {
        "colab": {
          "base_uri": "https://localhost:8080/"
        },
        "id": "pLwTyK1s-0hk",
        "outputId": "6597370b-d330-4f0f-fe1b-9095ea0fe67a"
      },
      "execution_count": 9,
      "outputs": [
        {
          "output_type": "execute_result",
          "data": {
            "text/plain": [
              "(4760, 5)"
            ]
          },
          "metadata": {},
          "execution_count": 9
        }
      ]
    },
    {
      "cell_type": "code",
      "source": [
        "df_features\n"
      ],
      "metadata": {
        "colab": {
          "base_uri": "https://localhost:8080/",
          "height": 580
        },
        "id": "l1K8SoyS-0jq",
        "outputId": "55d98ba4-d531-481e-d552-6c154226c76b"
      },
      "execution_count": 10,
      "outputs": [
        {
          "output_type": "execute_result",
          "data": {
            "text/plain": [
              "                           Movie_Genre  \\\n",
              "0                         Crime Comedy   \n",
              "1     Adventure Action Science Fiction   \n",
              "2                     Animation Family   \n",
              "3                 Comedy Drama Romance   \n",
              "4                                Drama   \n",
              "...                                ...   \n",
              "4755                            Horror   \n",
              "4756               Comedy Family Drama   \n",
              "4757                    Thriller Drama   \n",
              "4758                            Family   \n",
              "4759                       Documentary   \n",
              "\n",
              "                                         Movie_Keywords  \\\n",
              "0             hotel new year's eve witch bet hotel room   \n",
              "1           android galaxy hermit death star lightsaber   \n",
              "2     father son relationship harbor underwater fish...   \n",
              "3     vietnam veteran hippie mentally disabled runni...   \n",
              "4     male nudity female nudity adultery midlife cri...   \n",
              "...                                                 ...   \n",
              "4755                                                      \n",
              "4756                                                      \n",
              "4757                     christian film sex trafficking   \n",
              "4758                                                      \n",
              "4759  music actors legendary perfomer classic hollyw...   \n",
              "\n",
              "                                          Movie_Tagline  \\\n",
              "0     Twelve outrageous guests. Four scandalous requ...   \n",
              "1          A long time ago in a galaxy far, far away...   \n",
              "2     There are 3.7 trillion fish in the ocean, they...   \n",
              "3     The world will never be the same, once you've ...   \n",
              "4                                          Look closer.   \n",
              "...                                                 ...   \n",
              "4755                The hot spot where Satan's waitin'.   \n",
              "4756           It’s better to stand out than to fit in.   \n",
              "4757           She never knew it could happen to her...   \n",
              "4758                                                      \n",
              "4759                                                      \n",
              "\n",
              "                                             Movie_Cast     Movie_Director  \n",
              "0     Tim Roth Antonio Banderas Jennifer Beals Madon...     Allison Anders  \n",
              "1     Mark Hamill Harrison Ford Carrie Fisher Peter ...       George Lucas  \n",
              "2     Albert Brooks Ellen DeGeneres Alexander Gould ...     Andrew Stanton  \n",
              "3     Tom Hanks Robin Wright Gary Sinise Mykelti Wil...    Robert Zemeckis  \n",
              "4     Kevin Spacey Annette Bening Thora Birch Wes Be...         Sam Mendes  \n",
              "...                                                 ...                ...  \n",
              "4755  Lisa Hart Carroll Michael Des Barres Paul Drak...         Pece Dingo  \n",
              "4756  Roni Akurati Brighton Sharbino Jason Lee Anjul...       Frank Lotito  \n",
              "4757  Nicole Smolen Kim Baldwin Ariana Stephens Brys...       Jaco Booyens  \n",
              "4758                                                                        \n",
              "4759                                    Tony Oppedisano  Simon Napier-Bell  \n",
              "\n",
              "[4760 rows x 5 columns]"
            ],
            "text/html": [
              "\n",
              "  <div id=\"df-f05faef5-a06b-4b64-8ccb-56c84e2d7da0\" class=\"colab-df-container\">\n",
              "    <div>\n",
              "<style scoped>\n",
              "    .dataframe tbody tr th:only-of-type {\n",
              "        vertical-align: middle;\n",
              "    }\n",
              "\n",
              "    .dataframe tbody tr th {\n",
              "        vertical-align: top;\n",
              "    }\n",
              "\n",
              "    .dataframe thead th {\n",
              "        text-align: right;\n",
              "    }\n",
              "</style>\n",
              "<table border=\"1\" class=\"dataframe\">\n",
              "  <thead>\n",
              "    <tr style=\"text-align: right;\">\n",
              "      <th></th>\n",
              "      <th>Movie_Genre</th>\n",
              "      <th>Movie_Keywords</th>\n",
              "      <th>Movie_Tagline</th>\n",
              "      <th>Movie_Cast</th>\n",
              "      <th>Movie_Director</th>\n",
              "    </tr>\n",
              "  </thead>\n",
              "  <tbody>\n",
              "    <tr>\n",
              "      <th>0</th>\n",
              "      <td>Crime Comedy</td>\n",
              "      <td>hotel new year's eve witch bet hotel room</td>\n",
              "      <td>Twelve outrageous guests. Four scandalous requ...</td>\n",
              "      <td>Tim Roth Antonio Banderas Jennifer Beals Madon...</td>\n",
              "      <td>Allison Anders</td>\n",
              "    </tr>\n",
              "    <tr>\n",
              "      <th>1</th>\n",
              "      <td>Adventure Action Science Fiction</td>\n",
              "      <td>android galaxy hermit death star lightsaber</td>\n",
              "      <td>A long time ago in a galaxy far, far away...</td>\n",
              "      <td>Mark Hamill Harrison Ford Carrie Fisher Peter ...</td>\n",
              "      <td>George Lucas</td>\n",
              "    </tr>\n",
              "    <tr>\n",
              "      <th>2</th>\n",
              "      <td>Animation Family</td>\n",
              "      <td>father son relationship harbor underwater fish...</td>\n",
              "      <td>There are 3.7 trillion fish in the ocean, they...</td>\n",
              "      <td>Albert Brooks Ellen DeGeneres Alexander Gould ...</td>\n",
              "      <td>Andrew Stanton</td>\n",
              "    </tr>\n",
              "    <tr>\n",
              "      <th>3</th>\n",
              "      <td>Comedy Drama Romance</td>\n",
              "      <td>vietnam veteran hippie mentally disabled runni...</td>\n",
              "      <td>The world will never be the same, once you've ...</td>\n",
              "      <td>Tom Hanks Robin Wright Gary Sinise Mykelti Wil...</td>\n",
              "      <td>Robert Zemeckis</td>\n",
              "    </tr>\n",
              "    <tr>\n",
              "      <th>4</th>\n",
              "      <td>Drama</td>\n",
              "      <td>male nudity female nudity adultery midlife cri...</td>\n",
              "      <td>Look closer.</td>\n",
              "      <td>Kevin Spacey Annette Bening Thora Birch Wes Be...</td>\n",
              "      <td>Sam Mendes</td>\n",
              "    </tr>\n",
              "    <tr>\n",
              "      <th>...</th>\n",
              "      <td>...</td>\n",
              "      <td>...</td>\n",
              "      <td>...</td>\n",
              "      <td>...</td>\n",
              "      <td>...</td>\n",
              "    </tr>\n",
              "    <tr>\n",
              "      <th>4755</th>\n",
              "      <td>Horror</td>\n",
              "      <td></td>\n",
              "      <td>The hot spot where Satan's waitin'.</td>\n",
              "      <td>Lisa Hart Carroll Michael Des Barres Paul Drak...</td>\n",
              "      <td>Pece Dingo</td>\n",
              "    </tr>\n",
              "    <tr>\n",
              "      <th>4756</th>\n",
              "      <td>Comedy Family Drama</td>\n",
              "      <td></td>\n",
              "      <td>It’s better to stand out than to fit in.</td>\n",
              "      <td>Roni Akurati Brighton Sharbino Jason Lee Anjul...</td>\n",
              "      <td>Frank Lotito</td>\n",
              "    </tr>\n",
              "    <tr>\n",
              "      <th>4757</th>\n",
              "      <td>Thriller Drama</td>\n",
              "      <td>christian film sex trafficking</td>\n",
              "      <td>She never knew it could happen to her...</td>\n",
              "      <td>Nicole Smolen Kim Baldwin Ariana Stephens Brys...</td>\n",
              "      <td>Jaco Booyens</td>\n",
              "    </tr>\n",
              "    <tr>\n",
              "      <th>4758</th>\n",
              "      <td>Family</td>\n",
              "      <td></td>\n",
              "      <td></td>\n",
              "      <td></td>\n",
              "      <td></td>\n",
              "    </tr>\n",
              "    <tr>\n",
              "      <th>4759</th>\n",
              "      <td>Documentary</td>\n",
              "      <td>music actors legendary perfomer classic hollyw...</td>\n",
              "      <td></td>\n",
              "      <td>Tony Oppedisano</td>\n",
              "      <td>Simon Napier-Bell</td>\n",
              "    </tr>\n",
              "  </tbody>\n",
              "</table>\n",
              "<p>4760 rows × 5 columns</p>\n",
              "</div>\n",
              "    <div class=\"colab-df-buttons\">\n",
              "\n",
              "  <div class=\"colab-df-container\">\n",
              "    <button class=\"colab-df-convert\" onclick=\"convertToInteractive('df-f05faef5-a06b-4b64-8ccb-56c84e2d7da0')\"\n",
              "            title=\"Convert this dataframe to an interactive table.\"\n",
              "            style=\"display:none;\">\n",
              "\n",
              "  <svg xmlns=\"http://www.w3.org/2000/svg\" height=\"24px\" viewBox=\"0 -960 960 960\">\n",
              "    <path d=\"M120-120v-720h720v720H120Zm60-500h600v-160H180v160Zm220 220h160v-160H400v160Zm0 220h160v-160H400v160ZM180-400h160v-160H180v160Zm440 0h160v-160H620v160ZM180-180h160v-160H180v160Zm440 0h160v-160H620v160Z\"/>\n",
              "  </svg>\n",
              "    </button>\n",
              "\n",
              "  <style>\n",
              "    .colab-df-container {\n",
              "      display:flex;\n",
              "      gap: 12px;\n",
              "    }\n",
              "\n",
              "    .colab-df-convert {\n",
              "      background-color: #E8F0FE;\n",
              "      border: none;\n",
              "      border-radius: 50%;\n",
              "      cursor: pointer;\n",
              "      display: none;\n",
              "      fill: #1967D2;\n",
              "      height: 32px;\n",
              "      padding: 0 0 0 0;\n",
              "      width: 32px;\n",
              "    }\n",
              "\n",
              "    .colab-df-convert:hover {\n",
              "      background-color: #E2EBFA;\n",
              "      box-shadow: 0px 1px 2px rgba(60, 64, 67, 0.3), 0px 1px 3px 1px rgba(60, 64, 67, 0.15);\n",
              "      fill: #174EA6;\n",
              "    }\n",
              "\n",
              "    .colab-df-buttons div {\n",
              "      margin-bottom: 4px;\n",
              "    }\n",
              "\n",
              "    [theme=dark] .colab-df-convert {\n",
              "      background-color: #3B4455;\n",
              "      fill: #D2E3FC;\n",
              "    }\n",
              "\n",
              "    [theme=dark] .colab-df-convert:hover {\n",
              "      background-color: #434B5C;\n",
              "      box-shadow: 0px 1px 3px 1px rgba(0, 0, 0, 0.15);\n",
              "      filter: drop-shadow(0px 1px 2px rgba(0, 0, 0, 0.3));\n",
              "      fill: #FFFFFF;\n",
              "    }\n",
              "  </style>\n",
              "\n",
              "    <script>\n",
              "      const buttonEl =\n",
              "        document.querySelector('#df-f05faef5-a06b-4b64-8ccb-56c84e2d7da0 button.colab-df-convert');\n",
              "      buttonEl.style.display =\n",
              "        google.colab.kernel.accessAllowed ? 'block' : 'none';\n",
              "\n",
              "      async function convertToInteractive(key) {\n",
              "        const element = document.querySelector('#df-f05faef5-a06b-4b64-8ccb-56c84e2d7da0');\n",
              "        const dataTable =\n",
              "          await google.colab.kernel.invokeFunction('convertToInteractive',\n",
              "                                                    [key], {});\n",
              "        if (!dataTable) return;\n",
              "\n",
              "        const docLinkHtml = 'Like what you see? Visit the ' +\n",
              "          '<a target=\"_blank\" href=https://colab.research.google.com/notebooks/data_table.ipynb>data table notebook</a>'\n",
              "          + ' to learn more about interactive tables.';\n",
              "        element.innerHTML = '';\n",
              "        dataTable['output_type'] = 'display_data';\n",
              "        await google.colab.output.renderOutput(dataTable, element);\n",
              "        const docLink = document.createElement('div');\n",
              "        docLink.innerHTML = docLinkHtml;\n",
              "        element.appendChild(docLink);\n",
              "      }\n",
              "    </script>\n",
              "  </div>\n",
              "\n",
              "\n",
              "<div id=\"df-42720bda-fe98-414c-bce1-a79dee7912bc\">\n",
              "  <button class=\"colab-df-quickchart\" onclick=\"quickchart('df-42720bda-fe98-414c-bce1-a79dee7912bc')\"\n",
              "            title=\"Suggest charts\"\n",
              "            style=\"display:none;\">\n",
              "\n",
              "<svg xmlns=\"http://www.w3.org/2000/svg\" height=\"24px\"viewBox=\"0 0 24 24\"\n",
              "     width=\"24px\">\n",
              "    <g>\n",
              "        <path d=\"M19 3H5c-1.1 0-2 .9-2 2v14c0 1.1.9 2 2 2h14c1.1 0 2-.9 2-2V5c0-1.1-.9-2-2-2zM9 17H7v-7h2v7zm4 0h-2V7h2v10zm4 0h-2v-4h2v4z\"/>\n",
              "    </g>\n",
              "</svg>\n",
              "  </button>\n",
              "\n",
              "<style>\n",
              "  .colab-df-quickchart {\n",
              "      --bg-color: #E8F0FE;\n",
              "      --fill-color: #1967D2;\n",
              "      --hover-bg-color: #E2EBFA;\n",
              "      --hover-fill-color: #174EA6;\n",
              "      --disabled-fill-color: #AAA;\n",
              "      --disabled-bg-color: #DDD;\n",
              "  }\n",
              "\n",
              "  [theme=dark] .colab-df-quickchart {\n",
              "      --bg-color: #3B4455;\n",
              "      --fill-color: #D2E3FC;\n",
              "      --hover-bg-color: #434B5C;\n",
              "      --hover-fill-color: #FFFFFF;\n",
              "      --disabled-bg-color: #3B4455;\n",
              "      --disabled-fill-color: #666;\n",
              "  }\n",
              "\n",
              "  .colab-df-quickchart {\n",
              "    background-color: var(--bg-color);\n",
              "    border: none;\n",
              "    border-radius: 50%;\n",
              "    cursor: pointer;\n",
              "    display: none;\n",
              "    fill: var(--fill-color);\n",
              "    height: 32px;\n",
              "    padding: 0;\n",
              "    width: 32px;\n",
              "  }\n",
              "\n",
              "  .colab-df-quickchart:hover {\n",
              "    background-color: var(--hover-bg-color);\n",
              "    box-shadow: 0 1px 2px rgba(60, 64, 67, 0.3), 0 1px 3px 1px rgba(60, 64, 67, 0.15);\n",
              "    fill: var(--button-hover-fill-color);\n",
              "  }\n",
              "\n",
              "  .colab-df-quickchart-complete:disabled,\n",
              "  .colab-df-quickchart-complete:disabled:hover {\n",
              "    background-color: var(--disabled-bg-color);\n",
              "    fill: var(--disabled-fill-color);\n",
              "    box-shadow: none;\n",
              "  }\n",
              "\n",
              "  .colab-df-spinner {\n",
              "    border: 2px solid var(--fill-color);\n",
              "    border-color: transparent;\n",
              "    border-bottom-color: var(--fill-color);\n",
              "    animation:\n",
              "      spin 1s steps(1) infinite;\n",
              "  }\n",
              "\n",
              "  @keyframes spin {\n",
              "    0% {\n",
              "      border-color: transparent;\n",
              "      border-bottom-color: var(--fill-color);\n",
              "      border-left-color: var(--fill-color);\n",
              "    }\n",
              "    20% {\n",
              "      border-color: transparent;\n",
              "      border-left-color: var(--fill-color);\n",
              "      border-top-color: var(--fill-color);\n",
              "    }\n",
              "    30% {\n",
              "      border-color: transparent;\n",
              "      border-left-color: var(--fill-color);\n",
              "      border-top-color: var(--fill-color);\n",
              "      border-right-color: var(--fill-color);\n",
              "    }\n",
              "    40% {\n",
              "      border-color: transparent;\n",
              "      border-right-color: var(--fill-color);\n",
              "      border-top-color: var(--fill-color);\n",
              "    }\n",
              "    60% {\n",
              "      border-color: transparent;\n",
              "      border-right-color: var(--fill-color);\n",
              "    }\n",
              "    80% {\n",
              "      border-color: transparent;\n",
              "      border-right-color: var(--fill-color);\n",
              "      border-bottom-color: var(--fill-color);\n",
              "    }\n",
              "    90% {\n",
              "      border-color: transparent;\n",
              "      border-bottom-color: var(--fill-color);\n",
              "    }\n",
              "  }\n",
              "</style>\n",
              "\n",
              "  <script>\n",
              "    async function quickchart(key) {\n",
              "      const quickchartButtonEl =\n",
              "        document.querySelector('#' + key + ' button');\n",
              "      quickchartButtonEl.disabled = true;  // To prevent multiple clicks.\n",
              "      quickchartButtonEl.classList.add('colab-df-spinner');\n",
              "      try {\n",
              "        const charts = await google.colab.kernel.invokeFunction(\n",
              "            'suggestCharts', [key], {});\n",
              "      } catch (error) {\n",
              "        console.error('Error during call to suggestCharts:', error);\n",
              "      }\n",
              "      quickchartButtonEl.classList.remove('colab-df-spinner');\n",
              "      quickchartButtonEl.classList.add('colab-df-quickchart-complete');\n",
              "    }\n",
              "    (() => {\n",
              "      let quickchartButtonEl =\n",
              "        document.querySelector('#df-42720bda-fe98-414c-bce1-a79dee7912bc button');\n",
              "      quickchartButtonEl.style.display =\n",
              "        google.colab.kernel.accessAllowed ? 'block' : 'none';\n",
              "    })();\n",
              "  </script>\n",
              "</div>\n",
              "\n",
              "  <div id=\"id_edc64f11-25e9-4583-aa7a-32c28d72d537\">\n",
              "    <style>\n",
              "      .colab-df-generate {\n",
              "        background-color: #E8F0FE;\n",
              "        border: none;\n",
              "        border-radius: 50%;\n",
              "        cursor: pointer;\n",
              "        display: none;\n",
              "        fill: #1967D2;\n",
              "        height: 32px;\n",
              "        padding: 0 0 0 0;\n",
              "        width: 32px;\n",
              "      }\n",
              "\n",
              "      .colab-df-generate:hover {\n",
              "        background-color: #E2EBFA;\n",
              "        box-shadow: 0px 1px 2px rgba(60, 64, 67, 0.3), 0px 1px 3px 1px rgba(60, 64, 67, 0.15);\n",
              "        fill: #174EA6;\n",
              "      }\n",
              "\n",
              "      [theme=dark] .colab-df-generate {\n",
              "        background-color: #3B4455;\n",
              "        fill: #D2E3FC;\n",
              "      }\n",
              "\n",
              "      [theme=dark] .colab-df-generate:hover {\n",
              "        background-color: #434B5C;\n",
              "        box-shadow: 0px 1px 3px 1px rgba(0, 0, 0, 0.15);\n",
              "        filter: drop-shadow(0px 1px 2px rgba(0, 0, 0, 0.3));\n",
              "        fill: #FFFFFF;\n",
              "      }\n",
              "    </style>\n",
              "    <button class=\"colab-df-generate\" onclick=\"generateWithVariable('df_features')\"\n",
              "            title=\"Generate code using this dataframe.\"\n",
              "            style=\"display:none;\">\n",
              "\n",
              "  <svg xmlns=\"http://www.w3.org/2000/svg\" height=\"24px\"viewBox=\"0 0 24 24\"\n",
              "       width=\"24px\">\n",
              "    <path d=\"M7,19H8.4L18.45,9,17,7.55,7,17.6ZM5,21V16.75L18.45,3.32a2,2,0,0,1,2.83,0l1.4,1.43a1.91,1.91,0,0,1,.58,1.4,1.91,1.91,0,0,1-.58,1.4L9.25,21ZM18.45,9,17,7.55Zm-12,3A5.31,5.31,0,0,0,4.9,8.1,5.31,5.31,0,0,0,1,6.5,5.31,5.31,0,0,0,4.9,4.9,5.31,5.31,0,0,0,6.5,1,5.31,5.31,0,0,0,8.1,4.9,5.31,5.31,0,0,0,12,6.5,5.46,5.46,0,0,0,6.5,12Z\"/>\n",
              "  </svg>\n",
              "    </button>\n",
              "    <script>\n",
              "      (() => {\n",
              "      const buttonEl =\n",
              "        document.querySelector('#id_edc64f11-25e9-4583-aa7a-32c28d72d537 button.colab-df-generate');\n",
              "      buttonEl.style.display =\n",
              "        google.colab.kernel.accessAllowed ? 'block' : 'none';\n",
              "\n",
              "      buttonEl.onclick = () => {\n",
              "        google.colab.notebook.generateWithVariable('df_features');\n",
              "      }\n",
              "      })();\n",
              "    </script>\n",
              "  </div>\n",
              "\n",
              "    </div>\n",
              "  </div>\n"
            ],
            "application/vnd.google.colaboratory.intrinsic+json": {
              "type": "dataframe",
              "variable_name": "df_features",
              "summary": "{\n  \"name\": \"df_features\",\n  \"rows\": 4760,\n  \"fields\": [\n    {\n      \"column\": \"Movie_Genre\",\n      \"properties\": {\n        \"dtype\": \"category\",\n        \"num_unique_values\": 1164,\n        \"samples\": [\n          \"Family Animation Adventure\",\n          \"Adventure Science Fiction Action\",\n          \"Action Crime Drama Romance Thriller\"\n        ],\n        \"semantic_type\": \"\",\n        \"description\": \"\"\n      }\n    },\n    {\n      \"column\": \"Movie_Keywords\",\n      \"properties\": {\n        \"dtype\": \"string\",\n        \"num_unique_values\": 4203,\n        \"samples\": [\n          \"canada nazis sequel spin off ancient evil\",\n          \"sex professor wedding woman director columbia university\",\n          \"prophecy sea beach gold small town\"\n        ],\n        \"semantic_type\": \"\",\n        \"description\": \"\"\n      }\n    },\n    {\n      \"column\": \"Movie_Tagline\",\n      \"properties\": {\n        \"dtype\": \"string\",\n        \"num_unique_values\": 3928,\n        \"samples\": [\n          \"The messenger must be silenced.\",\n          \"It's not the house that's haunted.\",\n          \"The final hunt begins.\"\n        ],\n        \"semantic_type\": \"\",\n        \"description\": \"\"\n      }\n    },\n    {\n      \"column\": \"Movie_Cast\",\n      \"properties\": {\n        \"dtype\": \"string\",\n        \"num_unique_values\": 4715,\n        \"samples\": [\n          \"Robin Tunney Fairuza Balk Neve Campbell Rachel True Skeet Ulrich\",\n          \"Peter Sellers Christopher Plummer Herbert Lom Catherine Schell Peter Arne\",\n          \"John Wayne Laraine Day Cedric Hardwicke Judith Anderson Anthony Quinn\"\n        ],\n        \"semantic_type\": \"\",\n        \"description\": \"\"\n      }\n    },\n    {\n      \"column\": \"Movie_Director\",\n      \"properties\": {\n        \"dtype\": \"category\",\n        \"num_unique_values\": 2332,\n        \"samples\": [\n          \"Rob McKittrick\",\n          \"Terron R. Parsons\",\n          \"Cyrus Nowrasteh\"\n        ],\n        \"semantic_type\": \"\",\n        \"description\": \"\"\n      }\n    }\n  ]\n}"
            }
          },
          "metadata": {},
          "execution_count": 10
        }
      ]
    },
    {
      "cell_type": "code",
      "source": [
        "x=df_features['Movie_Genre'] + ' ' + df_features['Movie_Keywords'] + ' ' + df_features['Movie_Tagline'] + ' ' + df_features['Movie_Cast'] + ' ' + df_features['Movie_Director']"
      ],
      "metadata": {
        "id": "69_W3I00-0l9"
      },
      "execution_count": 11,
      "outputs": []
    },
    {
      "cell_type": "code",
      "source": [
        "x"
      ],
      "metadata": {
        "colab": {
          "base_uri": "https://localhost:8080/",
          "height": 458
        },
        "id": "oEwDmZA7-0ok",
        "outputId": "c51914bd-241c-49ac-93e8-ca6e6d67c7c2"
      },
      "execution_count": 12,
      "outputs": [
        {
          "output_type": "execute_result",
          "data": {
            "text/plain": [
              "0       Crime Comedy hotel new year's eve witch bet ho...\n",
              "1       Adventure Action Science Fiction android galax...\n",
              "2       Animation Family father son relationship harbo...\n",
              "3       Comedy Drama Romance vietnam veteran hippie me...\n",
              "4       Drama male nudity female nudity adultery midli...\n",
              "                              ...                        \n",
              "4755    Horror  The hot spot where Satan's waitin'. Li...\n",
              "4756    Comedy Family Drama  It’s better to stand out ...\n",
              "4757    Thriller Drama christian film sex trafficking ...\n",
              "4758                                           Family    \n",
              "4759    Documentary music actors legendary perfomer cl...\n",
              "Length: 4760, dtype: object"
            ],
            "text/html": [
              "<div>\n",
              "<style scoped>\n",
              "    .dataframe tbody tr th:only-of-type {\n",
              "        vertical-align: middle;\n",
              "    }\n",
              "\n",
              "    .dataframe tbody tr th {\n",
              "        vertical-align: top;\n",
              "    }\n",
              "\n",
              "    .dataframe thead th {\n",
              "        text-align: right;\n",
              "    }\n",
              "</style>\n",
              "<table border=\"1\" class=\"dataframe\">\n",
              "  <thead>\n",
              "    <tr style=\"text-align: right;\">\n",
              "      <th></th>\n",
              "      <th>0</th>\n",
              "    </tr>\n",
              "  </thead>\n",
              "  <tbody>\n",
              "    <tr>\n",
              "      <th>0</th>\n",
              "      <td>Crime Comedy hotel new year's eve witch bet ho...</td>\n",
              "    </tr>\n",
              "    <tr>\n",
              "      <th>1</th>\n",
              "      <td>Adventure Action Science Fiction android galax...</td>\n",
              "    </tr>\n",
              "    <tr>\n",
              "      <th>2</th>\n",
              "      <td>Animation Family father son relationship harbo...</td>\n",
              "    </tr>\n",
              "    <tr>\n",
              "      <th>3</th>\n",
              "      <td>Comedy Drama Romance vietnam veteran hippie me...</td>\n",
              "    </tr>\n",
              "    <tr>\n",
              "      <th>4</th>\n",
              "      <td>Drama male nudity female nudity adultery midli...</td>\n",
              "    </tr>\n",
              "    <tr>\n",
              "      <th>...</th>\n",
              "      <td>...</td>\n",
              "    </tr>\n",
              "    <tr>\n",
              "      <th>4755</th>\n",
              "      <td>Horror  The hot spot where Satan's waitin'. Li...</td>\n",
              "    </tr>\n",
              "    <tr>\n",
              "      <th>4756</th>\n",
              "      <td>Comedy Family Drama  It’s better to stand out ...</td>\n",
              "    </tr>\n",
              "    <tr>\n",
              "      <th>4757</th>\n",
              "      <td>Thriller Drama christian film sex trafficking ...</td>\n",
              "    </tr>\n",
              "    <tr>\n",
              "      <th>4758</th>\n",
              "      <td>Family</td>\n",
              "    </tr>\n",
              "    <tr>\n",
              "      <th>4759</th>\n",
              "      <td>Documentary music actors legendary perfomer cl...</td>\n",
              "    </tr>\n",
              "  </tbody>\n",
              "</table>\n",
              "<p>4760 rows × 1 columns</p>\n",
              "</div><br><label><b>dtype:</b> object</label>"
            ]
          },
          "metadata": {},
          "execution_count": 12
        }
      ]
    },
    {
      "cell_type": "code",
      "source": [
        "x.shape"
      ],
      "metadata": {
        "colab": {
          "base_uri": "https://localhost:8080/"
        },
        "id": "bj5ZDDKb-0rL",
        "outputId": "b71ea394-f488-4b57-c437-2206e31b2bea"
      },
      "execution_count": 13,
      "outputs": [
        {
          "output_type": "execute_result",
          "data": {
            "text/plain": [
              "(4760,)"
            ]
          },
          "metadata": {},
          "execution_count": 13
        }
      ]
    },
    {
      "cell_type": "markdown",
      "source": [
        "# **Get Feature Text Conversions to Tokens**"
      ],
      "metadata": {
        "id": "yZi486JGGp8E"
      }
    },
    {
      "cell_type": "code",
      "source": [
        "!pip install numpy==1.21.2"
      ],
      "metadata": {
        "colab": {
          "base_uri": "https://localhost:8080/"
        },
        "id": "LNWif_k1-0tx",
        "outputId": "314101f3-da3f-4beb-ac04-bcffb7413015"
      },
      "execution_count": 1,
      "outputs": [
        {
          "output_type": "stream",
          "name": "stdout",
          "text": [
            "Requirement already satisfied: numpy==1.21.2 in /usr/local/lib/python3.10/dist-packages (1.21.2)\n"
          ]
        }
      ]
    },
    {
      "cell_type": "code",
      "source": [
        "from sklearn.feature_extraction.text import TfidfVectorizer\n"
      ],
      "metadata": {
        "id": "XJCxHS3i-0wH"
      },
      "execution_count": 15,
      "outputs": []
    },
    {
      "cell_type": "code",
      "source": [
        "tfidf = TfidfVectorizer()\n"
      ],
      "metadata": {
        "id": "0Ckgu7IE-0yd"
      },
      "execution_count": 16,
      "outputs": []
    },
    {
      "cell_type": "code",
      "source": [
        "X = tfidf.fit_transform(x)\n"
      ],
      "metadata": {
        "id": "tbflXflP-01V"
      },
      "execution_count": 17,
      "outputs": []
    },
    {
      "cell_type": "code",
      "source": [
        "X.shape"
      ],
      "metadata": {
        "colab": {
          "base_uri": "https://localhost:8080/"
        },
        "id": "A-21wFyo-038",
        "outputId": "40173673-d530-4ae2-e18f-0eb7ea3b582e"
      },
      "execution_count": 18,
      "outputs": [
        {
          "output_type": "execute_result",
          "data": {
            "text/plain": [
              "(4760, 17258)"
            ]
          },
          "metadata": {},
          "execution_count": 18
        }
      ]
    },
    {
      "cell_type": "code",
      "source": [
        "print(X)"
      ],
      "metadata": {
        "colab": {
          "base_uri": "https://localhost:8080/"
        },
        "id": "h5llrX5i-06i",
        "outputId": "473930b3-03d8-47e3-9bc1-1a9b23336898"
      },
      "execution_count": 19,
      "outputs": [
        {
          "output_type": "stream",
          "name": "stdout",
          "text": [
            "  (0, 3583)\t0.06486754376295062\n",
            "  (0, 3240)\t0.04527089872278055\n",
            "  (0, 7213)\t0.25146675849405775\n",
            "  (0, 10898)\t0.17625708810661284\n",
            "  (0, 17052)\t0.26079573581490934\n",
            "  (0, 5059)\t0.29553419178998613\n",
            "  (0, 16862)\t0.12768803549311025\n",
            "  (0, 1595)\t0.15687561633854538\n",
            "  (0, 13052)\t0.1465525095337543\n",
            "  (0, 15708)\t0.17654247479915475\n",
            "  (0, 11362)\t0.18801785343006192\n",
            "  (0, 6463)\t0.18801785343006192\n",
            "  (0, 5662)\t0.1465525095337543\n",
            "  (0, 13467)\t0.19712637387361423\n",
            "  (0, 12731)\t0.19712637387361423\n",
            "  (0, 614)\t0.07642616241686973\n",
            "  (0, 11244)\t0.08262965296941757\n",
            "  (0, 9206)\t0.15186283580984414\n",
            "  (0, 1495)\t0.19712637387361423\n",
            "  (0, 7454)\t0.14745635785412262\n",
            "  (0, 7071)\t0.19822417598406614\n",
            "  (0, 5499)\t0.11454057510303811\n",
            "  (0, 3878)\t0.11998399582562203\n",
            "  (0, 11242)\t0.07277788238484746\n",
            "  (0, 15219)\t0.09800472886453934\n",
            "  :\t:\n",
            "  (4757, 3485)\t0.199161573117024\n",
            "  (4757, 1184)\t0.18890726729447022\n",
            "  (4757, 14568)\t0.24255077606762876\n",
            "  (4757, 15508)\t0.24255077606762876\n",
            "  (4757, 5802)\t0.24255077606762876\n",
            "  (4757, 819)\t0.27474840155297187\n",
            "  (4757, 14195)\t0.28805858134028367\n",
            "  (4757, 2227)\t0.28805858134028367\n",
            "  (4757, 7691)\t0.28805858134028367\n",
            "  (4757, 1932)\t0.28805858134028367\n",
            "  (4758, 5238)\t1.0\n",
            "  (4759, 10666)\t0.15888268987343043\n",
            "  (4759, 1490)\t0.21197258705292082\n",
            "  (4759, 15431)\t0.19628653185946862\n",
            "  (4759, 5690)\t0.19534291014627303\n",
            "  (4759, 14051)\t0.20084315377640435\n",
            "  (4759, 4358)\t0.18306542312175342\n",
            "  (4759, 10761)\t0.3126617295732147\n",
            "  (4759, 7130)\t0.26419662449963793\n",
            "  (4759, 3058)\t0.2812896191863103\n",
            "  (4759, 14062)\t0.3237911628497312\n",
            "  (4759, 8902)\t0.3040290704566037\n",
            "  (4759, 205)\t0.3237911628497312\n",
            "  (4759, 11708)\t0.33947721804318337\n",
            "  (4759, 11264)\t0.33947721804318337\n"
          ]
        }
      ]
    },
    {
      "cell_type": "markdown",
      "source": [
        "# **Get Similarity Score using Cosine Similarity**\n",
        "cosine_similarity computes the L2-normalized dot product of vectors. Euclidean(L2) normalization projects the vectors onto the unit sphere, and their dot product is then the cosine the angle between the points denoted by the vectors."
      ],
      "metadata": {
        "id": "fJupZxNDG2GC"
      }
    },
    {
      "cell_type": "code",
      "source": [
        "from sklearn.metrics.pairwise import cosine_similarity"
      ],
      "metadata": {
        "id": "zIn54AT8-09J"
      },
      "execution_count": 20,
      "outputs": []
    },
    {
      "cell_type": "code",
      "source": [
        "Similarity_Score = cosine_similarity(X)\n"
      ],
      "metadata": {
        "id": "Bc6raGGs-0_v"
      },
      "execution_count": 21,
      "outputs": []
    },
    {
      "cell_type": "code",
      "source": [
        "Similarity_Score"
      ],
      "metadata": {
        "colab": {
          "base_uri": "https://localhost:8080/"
        },
        "id": "xRW_5Qr7-1CY",
        "outputId": "76bf17f3-5a8e-4d1d-fc8b-6c3124a459fd"
      },
      "execution_count": 22,
      "outputs": [
        {
          "output_type": "execute_result",
          "data": {
            "text/plain": [
              "array([[1.        , 0.01351235, 0.03570468, ..., 0.        , 0.        ,\n",
              "        0.        ],\n",
              "       [0.01351235, 1.        , 0.00806674, ..., 0.        , 0.        ,\n",
              "        0.        ],\n",
              "       [0.03570468, 0.00806674, 1.        , ..., 0.        , 0.08014876,\n",
              "        0.        ],\n",
              "       ...,\n",
              "       [0.        , 0.        , 0.        , ..., 1.        , 0.        ,\n",
              "        0.        ],\n",
              "       [0.        , 0.        , 0.08014876, ..., 0.        , 1.        ,\n",
              "        0.        ],\n",
              "       [0.        , 0.        , 0.        , ..., 0.        , 0.        ,\n",
              "        1.        ]])"
            ]
          },
          "metadata": {},
          "execution_count": 22
        }
      ]
    },
    {
      "cell_type": "code",
      "source": [
        "Similarity_Score.shape\n"
      ],
      "metadata": {
        "colab": {
          "base_uri": "https://localhost:8080/"
        },
        "id": "uA5EG6Uz-1Eu",
        "outputId": "c6e2ec26-3900-46f1-852b-17daffc81034"
      },
      "execution_count": 23,
      "outputs": [
        {
          "output_type": "execute_result",
          "data": {
            "text/plain": [
              "(4760, 4760)"
            ]
          },
          "metadata": {},
          "execution_count": 23
        }
      ]
    },
    {
      "cell_type": "markdown",
      "source": [
        "# **Get Movie Name as Input from User and Validate for Closest Spelling**\n"
      ],
      "metadata": {
        "id": "wgr9-Ja2G9HZ"
      }
    },
    {
      "cell_type": "code",
      "source": [
        "Favorite_Movie_Name = input(' Enter your favorite movie name : ')\n"
      ],
      "metadata": {
        "colab": {
          "base_uri": "https://localhost:8080/"
        },
        "id": "GYENKxe8AFaG",
        "outputId": "418bc0c3-a304-4b5d-f235-9618e0a7ce87"
      },
      "execution_count": 25,
      "outputs": [
        {
          "name": "stdout",
          "output_type": "stream",
          "text": [
            " Enter your favorite movie name : Star Wars\n"
          ]
        }
      ]
    },
    {
      "cell_type": "code",
      "source": [
        "All_Movies_Title_List = df['Movie_Title'].tolist()\n"
      ],
      "metadata": {
        "id": "daAc5n51AFca"
      },
      "execution_count": 26,
      "outputs": []
    },
    {
      "cell_type": "code",
      "source": [
        "import difflib"
      ],
      "metadata": {
        "id": "G6lNuryDAFei"
      },
      "execution_count": 27,
      "outputs": []
    },
    {
      "cell_type": "code",
      "source": [
        "Movie_Recommendation = difflib.get_close_matches(Favorite_Movie_Name, All_Movies_Title_List)\n",
        "print(Movie_Recommendation)"
      ],
      "metadata": {
        "colab": {
          "base_uri": "https://localhost:8080/"
        },
        "id": "p50YG7iLAFg4",
        "outputId": "68be7a24-0732-4114-d9af-3d90a6e479c1"
      },
      "execution_count": 28,
      "outputs": [
        {
          "output_type": "stream",
          "name": "stdout",
          "text": [
            "['Star Wars', 'Star Trek', 'State Fair']\n"
          ]
        }
      ]
    },
    {
      "cell_type": "code",
      "source": [
        "Close_Match = Movie_Recommendation[0]\n",
        "print(Close_Match)"
      ],
      "metadata": {
        "colab": {
          "base_uri": "https://localhost:8080/"
        },
        "id": "5oXfo8DV-1HT",
        "outputId": "6149f102-2e1b-41b8-ee28-eb7f5e871c19"
      },
      "execution_count": 29,
      "outputs": [
        {
          "output_type": "stream",
          "name": "stdout",
          "text": [
            "Star Wars\n"
          ]
        }
      ]
    },
    {
      "cell_type": "code",
      "source": [
        "Index_of_Close_Match_Movie = df[df.Movie_Title == Close_Match]['Movie_ID'].values[0]\n",
        "print(Index_of_Close_Match_Movie)"
      ],
      "metadata": {
        "colab": {
          "base_uri": "https://localhost:8080/"
        },
        "id": "lOMenBHw-1Jo",
        "outputId": "2161fc75-5b15-4bff-adbd-f5d647086209"
      },
      "execution_count": 30,
      "outputs": [
        {
          "output_type": "stream",
          "name": "stdout",
          "text": [
            "2\n"
          ]
        }
      ]
    },
    {
      "cell_type": "code",
      "source": [
        "Recommendation_Score = list(enumerate(Similarity_Score[Index_of_Close_Match_Movie]))\n",
        "print(Recommendation_Score)"
      ],
      "metadata": {
        "colab": {
          "base_uri": "https://localhost:8080/"
        },
        "id": "RWB00F-mA3U3",
        "outputId": "fa79681a-337a-4dc1-b56a-15ca6626b795"
      },
      "execution_count": 31,
      "outputs": [
        {
          "output_type": "stream",
          "name": "stdout",
          "text": [
            "[(0, 0.0357046810425853), (1, 0.00806674385442584), (2, 1.0), (3, 0.010521591718659169), (4, 0.0), (5, 0.0), (6, 0.01776582166456882), (7, 0.020459391814520014), (8, 0.0), (9, 0.0036918949779389957), (10, 0.017357304877482892), (11, 0.00413127987387888), (12, 0.004260305191513622), (13, 0.0), (14, 0.07556004015454372), (15, 0.0), (16, 0.0), (17, 0.0), (18, 0.0038254771243029333), (19, 0.0), (20, 0.0), (21, 0.0), (22, 0.030313064953939577), (23, 0.0), (24, 0.043138053214853325), (25, 0.012683619887436534), (26, 0.03985267406354876), (27, 0.03592584129699408), (28, 0.004050565768066835), (29, 0.014601619245802841), (30, 0.016351790950860548), (31, 0.0), (32, 0.009947764091812205), (33, 0.013550651311350111), (34, 0.0), (35, 0.01104363559975108), (36, 0.0), (37, 0.010925836662603832), (38, 0.004559222984603855), (39, 0.00801173739882585), (40, 0.0), (41, 0.0), (42, 0.0), (43, 0.023445696195256015), (44, 0.016505753464896276), (45, 0.010891617144621528), (46, 0.0), (47, 0.019642366491979403), (48, 0.00439582423985352), (49, 0.025650719805611063), (50, 0.01214501741274423), (51, 0.0), (52, 0.015515469780033068), (53, 0.05463201704510032), (54, 0.011520075634057853), (55, 0.0), (56, 0.008123736192525086), (57, 0.03031428675641295), (58, 0.030702186290452897), (59, 0.015203408931850723), (60, 0.003412721286888717), (61, 0.011546885377345543), (62, 0.0), (63, 0.0), (64, 0.014601630569552009), (65, 0.003956216193113259), (66, 0.0), (67, 0.010852926112772544), (68, 0.0), (69, 0.013503340759716273), (70, 0.051830858896982676), (71, 0.0), (72, 0.02533105325932812), (73, 0.023648059445808656), (74, 0.008485943494019132), (75, 0.020988823777244956), (76, 0.007369060039065757), (77, 0.0), (78, 0.003353508859046863), (79, 0.03796869535565038), (80, 0.01492382321712435), (81, 0.0), (82, 0.015387330714336525), (83, 0.004042768190512572), (84, 0.0039061970574294706), (85, 0.010912794096286309), (86, 0.03515423514630092), (87, 0.008718352426367877), (88, 0.01073945529245715), (89, 0.018617731910720872), (90, 0.0), (91, 0.04717476783948937), (92, 0.007947903374515584), (93, 0.0), (94, 0.01495727879165551), (95, 0.0), (96, 0.03179196364075597), (97, 0.003501052638292809), (98, 0.0), (99, 0.0), (100, 0.018059209436528726), (101, 0.008846897293780173), (102, 0.014225397469375681), (103, 0.0), (104, 0.0040146794661661935), (105, 0.003956643673830406), (106, 0.09988059705340355), (107, 0.0), (108, 0.04039820061907953), (109, 0.01781232266865494), (110, 0.016646295097336693), (111, 0.0), (112, 0.003840822096503558), (113, 0.007426704734863766), (114, 0.02270902059794108), (115, 0.0), (116, 0.0), (117, 0.007373104046039395), (118, 0.0), (119, 0.007828109550456326), (120, 0.007721097140154415), (121, 0.055837726387190076), (122, 0.015669549951213665), (123, 0.004364812244578101), (124, 0.007285715994561955), (125, 0.012986421218683613), (126, 0.0), (127, 0.0), (128, 0.0), (129, 0.011530411639610353), (130, 0.052119146571675164), (131, 0.0040419149990873265), (132, 0.021089484865111877), (133, 0.033651288879689024), (134, 0.0), (135, 0.007972124708847294), (136, 0.02043568374694216), (137, 0.055276643392279), (138, 0.003830607072873919), (139, 0.0), (140, 0.0469929433988967), (141, 0.009919852716270227), (142, 0.010174939796404438), (143, 0.009474018957702652), (144, 0.06465328123723112), (145, 0.0), (146, 0.06218920977537018), (147, 0.0), (148, 0.003620322549599255), (149, 0.023058221353059082), (150, 0.012746038618058626), (151, 0.0), (152, 0.012644780976389524), (153, 0.013488001415623157), (154, 0.01097821510264147), (155, 0.044455439372596654), (156, 0.010577539513555896), (157, 0.0), (158, 0.0), (159, 0.006244755249487865), (160, 0.05529907503948415), (161, 0.010196335722708708), (162, 0.01314542930157626), (163, 0.0), (164, 0.01700065024252358), (165, 0.03637390092141753), (166, 0.059944777685760675), (167, 0.025984821204478776), (168, 0.01023341900562226), (169, 0.015410549119513943), (170, 0.028969156230734844), (171, 0.0037869666577747445), (172, 0.00905994611906948), (173, 0.05257767404040811), (174, 0.0), (175, 0.013244590367493505), (176, 0.012017748563842558), (177, 0.02464526373535122), (178, 0.11114684583725923), (179, 0.05593184131759801), (180, 0.0), (181, 0.0), (182, 0.10680811738851484), (183, 0.006866041444533302), (184, 0.01350217710071766), (185, 0.07269734520464835), (186, 0.013620742990616297), (187, 0.04150303331327827), (188, 0.0306762659743114), (189, 0.004131285000191049), (190, 0.0), (191, 0.0151769957411333), (192, 0.021865663206499686), (193, 0.011993611647851739), (194, 0.007246038292236858), (195, 0.0033532981520461654), (196, 0.027864051905958358), (197, 0.0), (198, 0.06765393882253844), (199, 0.0068263637977986815), (200, 0.014590216617116875), (201, 0.01636478379003118), (202, 0.030954835045720726), (203, 0.017090767278506693), (204, 0.0), (205, 0.0), (206, 0.0), (207, 0.0), (208, 0.018968153216750546), (209, 0.0040256331161363694), (210, 0.0), (211, 0.004170018319069774), (212, 0.03489525556969695), (213, 0.0), (214, 0.01079239009279461), (215, 0.003919382264626687), (216, 0.01589649990174572), (217, 0.04809218953735432), (218, 0.00824516768348204), (219, 0.03497550793120994), (220, 0.00843557031793341), (221, 0.0075862960553452164), (222, 0.010534181438132142), (223, 0.012538378646512225), (224, 0.0), (225, 0.01497484937457743), (226, 0.0), (227, 0.0), (228, 0.012882810966993197), (229, 0.020631233846468172), (230, 0.12167721115770525), (231, 0.03868081482291047), (232, 0.016508892914387494), (233, 0.0373143273607172), (234, 0.0034335534881487716), (235, 0.0), (236, 0.0), (237, 0.010563497181928552), (238, 0.0), (239, 0.04997875318075094), (240, 0.012052080726060538), (241, 0.0), (242, 0.006481895910056992), (243, 0.0056174501451630695), (244, 0.0), (245, 0.02146977549750966), (246, 0.0), (247, 0.15081938814672577), (248, 0.0), (249, 0.010496296905024415), (250, 0.004464210373176367), (251, 0.014579557484579257), (252, 0.0), (253, 0.0), (254, 0.012890987729831127), (255, 0.0), (256, 0.029627105963890985), (257, 0.006536450081741642), (258, 0.0), (259, 0.007933300557534616), (260, 0.003783998911721504), (261, 0.0038490971620354754), (262, 0.0), (263, 0.01132608152184517), (264, 0.003994984441792715), (265, 0.03466624087909884), (266, 0.01615791654590982), (267, 0.0), (268, 0.0), (269, 0.03550239365810659), (270, 0.03617017271210037), (271, 0.01588470229563208), (272, 0.003988300908311943), (273, 0.011934180812189069), (274, 0.0), (275, 0.023401850651990772), (276, 0.010695867652209493), (277, 0.03102404674028847), (278, 0.0), (279, 0.023138508459960787), (280, 0.0039790625239700395), (281, 0.032472924397338), (282, 0.0), (283, 0.0), (284, 0.012417673600563367), (285, 0.008179449897780302), (286, 0.08179216922562124), (287, 0.011230247369872094), (288, 0.006776068194553098), (289, 0.0), (290, 0.0), (291, 0.003636455463176442), (292, 0.015217953151438254), (293, 0.08222787892593371), (294, 0.0031765225926344417), (295, 0.0), (296, 0.0), (297, 0.01636178581146805), (298, 0.021422189557889756), (299, 0.011474205720141503), (300, 0.0071324685184005155), (301, 0.012139497690649608), (302, 0.0), (303, 0.0), (304, 0.014960531016751943), (305, 0.003985621693278819), (306, 0.0073514923855407316), (307, 0.0), (308, 0.008371716530674875), (309, 0.022831903516489366), (310, 0.007666064252617513), (311, 0.008476877801859482), (312, 0.01931492633324728), (313, 0.0), (314, 0.0), (315, 0.011378609875765337), (316, 0.0), (317, 0.018148991731012358), (318, 0.0), (319, 0.013937692855736473), (320, 0.0), (321, 0.0), (322, 0.0), (323, 0.0), (324, 0.03323605286521054), (325, 0.0), (326, 0.0), (327, 0.021856375226288194), (328, 0.023786116693217348), (329, 0.0), (330, 0.014010642497764115), (331, 0.0), (332, 0.0), (333, 0.008033174089155989), (334, 0.02073135191916261), (335, 0.023038584797115055), (336, 0.01385799719505456), (337, 0.03792572278886035), (338, 0.015519342913237408), (339, 0.008739710351372288), (340, 0.008043837672625039), (341, 0.05237168735590404), (342, 0.01418434727420196), (343, 0.004019747686020338), (344, 0.02781781025527159), (345, 0.01987553493750169), (346, 0.04208558013371119), (347, 0.05570741584486839), (348, 0.003949261104395081), (349, 0.011927596005840483), (350, 0.02409156724394575), (351, 0.02152516498190148), (352, 0.026841901488459552), (353, 0.0689363473406163), (354, 0.0036509039773144486), (355, 0.04752099575335493), (356, 0.04760500915023405), (357, 0.0068853676557053016), (358, 0.014351642806023452), (359, 0.011286031601767442), (360, 0.020998145471654506), (361, 0.0505708832943194), (362, 0.05816547028837929), (363, 0.036310261274221246), (364, 0.0), (365, 0.02324367775740375), (366, 0.0), (367, 0.0), (368, 0.004788746254329026), (369, 0.012004217933812702), (370, 0.02209370604341156), (371, 0.004389997899182553), (372, 0.007434376201619806), (373, 0.019309856427701447), (374, 0.0), (375, 0.0), (376, 0.0), (377, 0.009305337572063687), (378, 0.016296611538017605), (379, 0.02037969708963891), (380, 0.004583148236317379), (381, 0.010634804185793415), (382, 0.0), (383, 0.006672299759279123), (384, 0.017219621270446815), (385, 0.07659877125943576), (386, 0.0), (387, 0.0037625626131479735), (388, 0.00376615943184385), (389, 0.0), (390, 0.014202638825341366), (391, 0.02680717276712411), (392, 0.04370859507739909), (393, 0.010045587747412267), (394, 0.0), (395, 0.012548228878875257), (396, 0.008678780891374173), (397, 0.0), (398, 0.0), (399, 0.0), (400, 0.01218517981007364), (401, 0.007587741232399364), (402, 0.0), (403, 0.014417767190438108), (404, 0.023295121561224034), (405, 0.00802595156758494), (406, 0.0296233191443311), (407, 0.015610076326774181), (408, 0.003771880316372371), (409, 0.022943374375284577), (410, 0.035160309454540364), (411, 0.0036618280279596955), (412, 0.006518624938466797), (413, 0.007994345185436335), (414, 0.0), (415, 0.015586194269755644), (416, 0.003655864577765566), (417, 0.0037057224992620946), (418, 0.008439800533115764), (419, 0.0), (420, 0.004289912737031914), (421, 0.05596523424134083), (422, 0.0), (423, 0.020774528397467608), (424, 0.004529805276238035), (425, 0.004525875166351961), (426, 0.0037315285741625734), (427, 0.05952617414270285), (428, 0.027183029953617432), (429, 0.03476707084862035), (430, 0.009720646079444464), (431, 0.0), (432, 0.012553527899361327), (433, 0.010059766126859554), (434, 0.02146346355404552), (435, 0.026547335889475818), (436, 0.0), (437, 0.0394580045596585), (438, 0.013498791503784326), (439, 0.003966014871725655), (440, 0.00731678598989484), (441, 0.016258413310951913), (442, 0.0033079801256251625), (443, 0.018768846987934747), (444, 0.01263937822766906), (445, 0.018944436461221556), (446, 0.029781474060806144), (447, 0.0), (448, 0.015029219676332858), (449, 0.010259390377732661), (450, 0.0), (451, 0.020693982376006847), (452, 0.00901428190977254), (453, 0.012408342449058252), (454, 0.014557231541214874), (455, 0.03055721742141375), (456, 0.0), (457, 0.017605615347262737), (458, 0.0), (459, 0.0699230787856735), (460, 0.007941899329854516), (461, 0.03863699237726066), (462, 0.0), (463, 0.05920789368626368), (464, 0.011212713158106955), (465, 0.018922729603899274), (466, 0.011214922538774558), (467, 0.012122924171383574), (468, 0.0), (469, 0.026920565616219562), (470, 0.007895959547886043), (471, 0.0), (472, 0.045399395680583154), (473, 0.010581135593248074), (474, 0.0653657901360655), (475, 0.0), (476, 0.0), (477, 0.019535928344918), (478, 0.0), (479, 0.014738978945220794), (480, 0.0), (481, 0.0), (482, 0.0), (483, 0.004212242296380203), (484, 0.005318370268553483), (485, 0.0), (486, 0.014724814989904331), (487, 0.0), (488, 0.04852416754851677), (489, 0.013990905992681806), (490, 0.00741342564262654), (491, 0.004663972092945049), (492, 0.0037247484341578646), (493, 0.0), (494, 0.009072766613737604), (495, 0.017880824102595515), (496, 0.017928564967125464), (497, 0.010212421442953461), (498, 0.03502068171474208), (499, 0.0), (500, 0.029357609895623187), (501, 0.029294488027775137), (502, 0.0), (503, 0.0), (504, 0.020625517790903294), (505, 0.0), (506, 0.0), (507, 0.024525053032427108), (508, 0.03662331212896815), (509, 0.0), (510, 0.014984317962930404), (511, 0.010451681237298859), (512, 0.004741734598176588), (513, 0.0), (514, 0.0), (515, 0.0), (516, 0.0), (517, 0.04810669693281067), (518, 0.0), (519, 0.016626145082268826), (520, 0.014178436303797864), (521, 0.0038410865769691444), (522, 0.007267207791145117), (523, 0.008387513983170022), (524, 0.03320207789868638), (525, 0.003968134306882131), (526, 0.0), (527, 0.020834124614130055), (528, 0.007622991148254432), (529, 0.004014151404243496), (530, 0.058143125816754716), (531, 0.0), (532, 0.018919904099980282), (533, 0.0), (534, 0.0), (535, 0.0), (536, 0.0), (537, 0.012912412548457566), (538, 0.02338906264558141), (539, 0.012034305511209929), (540, 0.06632683796927577), (541, 0.015695707462190244), (542, 0.006333171154370636), (543, 0.0), (544, 0.0), (545, 0.011438307569947088), (546, 0.05135515834792592), (547, 0.01292757693350347), (548, 0.05078500904144502), (549, 0.02987807263738239), (550, 0.0), (551, 0.004143261930291826), (552, 0.0), (553, 0.005674279437465638), (554, 0.0), (555, 0.020553960923065946), (556, 0.0), (557, 0.014379746689885441), (558, 0.0), (559, 0.014456798306773601), (560, 0.03360362001807043), (561, 0.030437725335324607), (562, 0.05332785078845024), (563, 0.0), (564, 0.0), (565, 0.0), (566, 0.05274775552895945), (567, 0.033725767218938676), (568, 0.018806392274173616), (569, 0.02619057865339467), (570, 0.0), (571, 0.0), (572, 0.0), (573, 0.0), (574, 0.0), (575, 0.003346821869536074), (576, 0.008439491333505685), (577, 0.013732717303519833), (578, 0.028813314643264063), (579, 0.0), (580, 0.0), (581, 0.0), (582, 0.013363826287902315), (583, 0.0036166945796557814), (584, 0.05767950572014502), (585, 0.015088911672954407), (586, 0.0), (587, 0.0), (588, 0.004145589456540652), (589, 0.0), (590, 0.0036769710495015333), (591, 0.0), (592, 0.0), (593, 0.0), (594, 0.03284253602683112), (595, 0.0), (596, 0.0371696636647386), (597, 0.02768568550809254), (598, 0.0), (599, 0.004197111617904192), (600, 0.016504528835269837), (601, 0.0), (602, 0.0), (603, 0.004243313371986241), (604, 0.010432718468645148), (605, 0.007946811483265962), (606, 0.0), (607, 0.009012235213495689), (608, 0.0), (609, 0.02299277229186451), (610, 0.0161939993103401), (611, 0.009395362009358104), (612, 0.013057210707914742), (613, 0.0039323445383708695), (614, 0.004577361631610407), (615, 0.046175188763567354), (616, 0.0), (617, 0.0), (618, 0.014969039371114866), (619, 0.07583122038028917), (620, 0.031023603793381864), (621, 0.03729801615372874), (622, 0.02959920486952318), (623, 0.0), (624, 0.07193234343799114), (625, 0.0), (626, 0.0), (627, 0.0), (628, 0.011791800860613386), (629, 0.02322660274890819), (630, 0.012426147640056607), (631, 0.004101952738072445), (632, 0.0), (633, 0.0), (634, 0.0), (635, 0.008711281308467699), (636, 0.0), (637, 0.011746920967841143), (638, 0.0), (639, 0.013753532652374808), (640, 0.054391275255622276), (641, 0.013736336406623337), (642, 0.014016393958873215), (643, 0.05247915867042954), (644, 0.0037898481048937284), (645, 0.0), (646, 0.02417603046130523), (647, 0.007924079982172602), (648, 0.021202705446252326), (649, 0.0), (650, 0.0), (651, 0.047432803257335704), (652, 0.0), (653, 0.010413217565870724), (654, 0.004204797680926479), (655, 0.0), (656, 0.0170479755196237), (657, 0.027349938132868526), (658, 0.0), (659, 0.0), (660, 0.0), (661, 0.003742505166395226), (662, 0.03163370604714977), (663, 0.01835194792518995), (664, 0.01976730913286701), (665, 0.05450330258808546), (666, 0.0044893041807769095), (667, 0.0), (668, 0.010301257285778527), (669, 0.0036707831810607657), (670, 0.013979849099207088), (671, 0.017050163672990712), (672, 0.010966223461640142), (673, 0.0), (674, 0.01332717918660008), (675, 0.004350686472996444), (676, 0.011922715357222134), (677, 0.00437216345552682), (678, 0.016086953233330165), (679, 0.0), (680, 0.004242758116292071), (681, 0.004516708294610149), (682, 0.0), (683, 0.017310073287054015), (684, 0.008782305114377224), (685, 0.008196474744454393), (686, 0.008274223540054873), (687, 0.004426198728133277), (688, 0.0), (689, 0.015599098529785558), (690, 0.03117075485210381), (691, 0.0792502725470138), (692, 0.01752537778064591), (693, 0.011383274328374101), (694, 0.0), (695, 0.04620709879699616), (696, 0.014853143951091318), (697, 0.01139114162283551), (698, 0.0689890991239911), (699, 0.03661730041575848), (700, 0.01259086437306493), (701, 0.004453378432365944), (702, 0.01061310837988144), (703, 0.0351873905801558), (704, 0.004313752696714953), (705, 0.08303733248072907), (706, 0.03865311503734277), (707, 0.0), (708, 0.030449310034459127), (709, 0.12836138296171648), (710, 0.0), (711, 0.0), (712, 0.01849241744699845), (713, 0.007127621812651144), (714, 0.01360348786783444), (715, 0.008261362662106494), (716, 0.0), (717, 0.03321536663691525), (718, 0.0), (719, 0.009615221919585743), (720, 0.007200365821977732), (721, 0.0), (722, 0.0035847223899806878), (723, 0.010131881255686878), (724, 0.041612967847420135), (725, 0.009762443936962182), (726, 0.012931596378877945), (727, 0.007839202877765877), (728, 0.01591574927207291), (729, 0.0), (730, 0.06169049237524733), (731, 0.03497676552718027), (732, 0.008062248365034327), (733, 0.006903636068979427), (734, 0.0), (735, 0.0), (736, 0.004016243592516668), (737, 0.01729423495561684), (738, 0.006573079996525148), (739, 0.0), (740, 0.023200924519789362), (741, 0.0), (742, 0.026304159877136312), (743, 0.029558819201941294), (744, 0.014179937727073919), (745, 0.015272075176700504), (746, 0.0), (747, 0.00444788600560587), (748, 0.004233344914724637), (749, 0.007983783539740923), (750, 0.015033460463703718), (751, 0.0), (752, 0.079028605366318), (753, 0.033657319023666254), (754, 0.0), (755, 0.03708403388843285), (756, 0.062444201858107784), (757, 0.009560244075128729), (758, 0.0), (759, 0.0), (760, 0.0), (761, 0.0), (762, 0.014744166967473403), (763, 0.016058840752482574), (764, 0.0), (765, 0.0042163422104486), (766, 0.0), (767, 0.003784448220552765), (768, 0.05030552369256806), (769, 0.026675013919101813), (770, 0.0), (771, 0.0), (772, 0.0), (773, 0.011101686612731277), (774, 0.0), (775, 0.013013467599806598), (776, 0.003641246397369046), (777, 0.0), (778, 0.03398609011078535), (779, 0.0034102530280573904), (780, 0.04980418765517833), (781, 0.012085796577099833), (782, 0.0038282451416497025), (783, 0.0), (784, 0.0), (785, 0.020289096558291815), (786, 0.02896667196374635), (787, 0.030492965368124444), (788, 0.0036630082704690085), (789, 0.006439125700741987), (790, 0.012620180433014801), (791, 0.0), (792, 0.013850587459989905), (793, 0.011780860441099154), (794, 0.09647109437560555), (795, 0.0), (796, 0.0), (797, 0.014031202726384123), (798, 0.02169639517767725), (799, 0.0), (800, 0.0), (801, 0.0), (802, 0.014710739345802658), (803, 0.010697092639586124), (804, 0.02271798069863023), (805, 0.022025064289315437), (806, 0.03297029571514736), (807, 0.01811826292634299), (808, 0.0), (809, 0.0), (810, 0.02225285991932255), (811, 0.012468128450094963), (812, 0.010725897566524168), (813, 0.008961537413931816), (814, 0.0), (815, 0.04834067414672934), (816, 0.0), (817, 0.01728967860274609), (818, 0.0), (819, 0.02839344763557388), (820, 0.017858110391379047), (821, 0.02423786255898324), (822, 0.009069521821585621), (823, 0.0), (824, 0.011502506524160593), (825, 0.0), (826, 0.0), (827, 0.015394211801232871), (828, 0.0), (829, 0.023258666367528928), (830, 0.0), (831, 0.0197122726900577), (832, 0.004056451297005169), (833, 0.010616311737448805), (834, 0.011251363953044446), (835, 0.010725475583282648), (836, 0.019608872479563527), (837, 0.0), (838, 0.010548070497032738), (839, 0.04469605193566029), (840, 0.01158745346932032), (841, 0.0), (842, 0.0), (843, 0.009618128555309038), (844, 0.0), (845, 0.0), (846, 0.030471149638344193), (847, 0.017986646028673704), (848, 0.0), (849, 0.011687919557618921), (850, 0.03514127725457675), (851, 0.0), (852, 0.04380510459858668), (853, 0.06506830504596757), (854, 0.0466094308114837), (855, 0.039489575489315046), (856, 0.042234907157358725), (857, 0.0), (858, 0.008303644646254507), (859, 0.007076757169655111), (860, 0.0), (861, 0.012707110607732077), (862, 0.04780541071097729), (863, 0.020228251073723186), (864, 0.004031252199287791), (865, 0.0), (866, 0.0037088028061976796), (867, 0.0), (868, 0.010532203874015204), (869, 0.0), (870, 0.003901000569985082), (871, 0.0), (872, 0.012520849130153463), (873, 0.0), (874, 0.016663434973262583), (875, 0.0), (876, 0.0), (877, 0.0), (878, 0.014482418954346332), (879, 0.04001689998033585), (880, 0.03961501978855439), (881, 0.054633931772852924), (882, 0.030090984011599), (883, 0.003810966716381084), (884, 0.023023729881793978), (885, 0.003578389165388508), (886, 0.0), (887, 0.03319542888407057), (888, 0.0), (889, 0.0), (890, 0.015991538946996797), (891, 0.029259659585057336), (892, 0.015648012443048066), (893, 0.031186036954507265), (894, 0.036383706228617446), (895, 0.01956464301060896), (896, 0.0), (897, 0.004019834309325167), (898, 0.007187789837948721), (899, 0.02267155063672691), (900, 0.019265341020412607), (901, 0.014798348398107631), (902, 0.0), (903, 0.0), (904, 0.004696235572443555), (905, 0.014226249493027436), (906, 0.02354304304049542), (907, 0.0036687827450014457), (908, 0.004075626752052217), (909, 0.021155114789449182), (910, 0.0), (911, 0.05431600819620214), (912, 0.0393227377654175), (913, 0.0042317816788533325), (914, 0.0), (915, 0.036616638382248025), (916, 0.003696653271345903), (917, 0.0), (918, 0.004128615885410979), (919, 0.00405425100228298), (920, 0.019215016684921038), (921, 0.0), (922, 0.0), (923, 0.015901544412434573), (924, 0.013355947799645409), (925, 0.0), (926, 0.0258740606103805), (927, 0.0), (928, 0.040243791494252376), (929, 0.005755759510073164), (930, 0.008468994015767804), (931, 0.036993933880348884), (932, 0.044845671090827245), (933, 0.0), (934, 0.007271882941794714), (935, 0.022010616711268347), (936, 0.021403442312292773), (937, 0.0), (938, 0.01632619942202481), (939, 0.010699548078996127), (940, 0.005239521564467215), (941, 0.0), (942, 0.0), (943, 0.0), (944, 0.010568718564890478), (945, 0.013184371547820142), (946, 0.05085369591480571), (947, 0.0), (948, 0.032887064714061345), (949, 0.0), (950, 0.0), (951, 0.0), (952, 0.0), (953, 0.03801191292839016), (954, 0.023651460668791976), (955, 0.0), (956, 0.0), (957, 0.029955277824470772), (958, 0.01812355700117528), (959, 0.0), (960, 0.0), (961, 0.021655997252764913), (962, 0.016129437419226237), (963, 0.007458407801323752), (964, 0.0), (965, 0.0), (966, 0.015378362382753216), (967, 0.0), (968, 0.0), (969, 0.0), (970, 0.0033706767265422703), (971, 0.016144831607400635), (972, 0.0), (973, 0.019977277580440295), (974, 0.0037346743052568436), (975, 0.011512901442599713), (976, 0.023324534280307476), (977, 0.008166213568083478), (978, 0.014507975888899087), (979, 0.0), (980, 0.01706570895617553), (981, 0.015313978132518363), (982, 0.008777215449970215), (983, 0.0), (984, 0.0), (985, 0.01856261592057127), (986, 0.0), (987, 0.0), (988, 0.05379140853889612), (989, 0.07886546498466679), (990, 0.0), (991, 0.01583991521808725), (992, 0.0), (993, 0.004018834673123643), (994, 0.033560609513548854), (995, 0.026180674959224458), (996, 0.0), (997, 0.008122453752839636), (998, 0.013258546745380035), (999, 0.0), (1000, 0.01171142576485547), (1001, 0.021668574330778644), (1002, 0.03500965151079361), (1003, 0.0), (1004, 0.0400832507425447), (1005, 0.006098717824502102), (1006, 0.01638695381156867), (1007, 0.0), (1008, 0.025674348070049327), (1009, 0.07009660436260241), (1010, 0.04510663677518836), (1011, 0.028143889263071105), (1012, 0.0), (1013, 0.007910561610122381), (1014, 0.017347336624588313), (1015, 0.0), (1016, 0.03917991782061713), (1017, 0.0), (1018, 0.016346921825489802), (1019, 0.0), (1020, 0.0), (1021, 0.034598943740087616), (1022, 0.012961249352954722), (1023, 0.012751121848615078), (1024, 0.0), (1025, 0.032316206592820945), (1026, 0.019993493080525945), (1027, 0.0), (1028, 0.012137565414232708), (1029, 0.0160969223714364), (1030, 0.0), (1031, 0.00424171913313962), (1032, 0.0), (1033, 0.007648064040313926), (1034, 0.0), (1035, 0.0038756941170120783), (1036, 0.0), (1037, 0.0), (1038, 0.060897949181034486), (1039, 0.007253837721151038), (1040, 0.009134792395815631), (1041, 0.05458023575646478), (1042, 0.021333465505599374), (1043, 0.004359692309039706), (1044, 0.0), (1045, 0.02856344339570483), (1046, 0.058879041856280234), (1047, 0.0041565933574002085), (1048, 0.004145739548953943), (1049, 0.013868336367367094), (1050, 0.04041804315004597), (1051, 0.0), (1052, 0.003693386401284325), (1053, 0.0), (1054, 0.003767141657083965), (1055, 0.0), (1056, 0.004340617989122403), (1057, 0.023745149791044213), (1058, 0.0), (1059, 0.003949099432266166), (1060, 0.019563946589500926), (1061, 0.0), (1062, 0.009779217079132266), (1063, 0.0), (1064, 0.0), (1065, 0.0), (1066, 0.007348671612262627), (1067, 0.05825973221163233), (1068, 0.015062754861886317), (1069, 0.0), (1070, 0.0), (1071, 0.01702961577061055), (1072, 0.07285609609625596), (1073, 0.01111923584469521), (1074, 0.0), (1075, 0.0), (1076, 0.06319092630686879), (1077, 0.0160241329077862), (1078, 0.0), (1079, 0.042699846308141304), (1080, 0.035700418973639056), (1081, 0.02087302054351932), (1082, 0.04492229163292613), (1083, 0.0), (1084, 0.018796053366830056), (1085, 0.021338232971167225), (1086, 0.0), (1087, 0.008111853817928127), (1088, 0.02167276627874937), (1089, 0.012471641115678524), (1090, 0.03124118558993993), (1091, 0.0), (1092, 0.053249368909611496), (1093, 0.01333721968513304), (1094, 0.05061732674872316), (1095, 0.03078022214405371), (1096, 0.0), (1097, 0.0), (1098, 0.0), (1099, 0.0), (1100, 0.008881840771577859), (1101, 0.03298767732896208), (1102, 0.0), (1103, 0.025855176245994572), (1104, 0.016509329936571816), (1105, 0.01960961574779435), (1106, 0.011306676749612938), (1107, 0.06329891520476336), (1108, 0.0), (1109, 0.022484313599708948), (1110, 0.0), (1111, 0.008153608147121568), (1112, 0.011648869863422886), (1113, 0.007702610474938289), (1114, 0.031271765310713864), (1115, 0.011857063752044372), (1116, 0.02095974674656277), (1117, 0.01089740102281199), (1118, 0.020177190415754213), (1119, 0.0), (1120, 0.0034013092044969514), (1121, 0.0), (1122, 0.016520662143744546), (1123, 0.0), (1124, 0.0), (1125, 0.0), (1126, 0.0), (1127, 0.014523935490229012), (1128, 0.0), (1129, 0.01933000352062607), (1130, 0.02721868557724094), (1131, 0.0), (1132, 0.028930561145071053), (1133, 0.0090118883787722), (1134, 0.025109059104506008), (1135, 0.010526628793135998), (1136, 0.006995056460787123), (1137, 0.025672455274491506), (1138, 0.0), (1139, 0.0), (1140, 0.004271648321389533), (1141, 0.008000682271846905), (1142, 0.0310264717015145), (1143, 0.0), (1144, 0.009149480154988744), (1145, 0.0), (1146, 0.0038574466003677473), (1147, 0.0), (1148, 0.0), (1149, 0.0), (1150, 0.004303019435527084), (1151, 0.0), (1152, 0.02736133724067011), (1153, 0.010346291617414204), (1154, 0.0), (1155, 0.02126939560483213), (1156, 0.0), (1157, 0.014068717234249996), (1158, 0.0), (1159, 0.0), (1160, 0.0), (1161, 0.012136198733907396), (1162, 0.019492077494226507), (1163, 0.02209054876022398), (1164, 0.0), (1165, 0.021681425202418704), (1166, 0.03387201713139378), (1167, 0.0), (1168, 0.013780783291559089), (1169, 0.0), (1170, 0.0039939758933227555), (1171, 0.015792287804360716), (1172, 0.01135750737332161), (1173, 0.003610348022235965), (1174, 0.0), (1175, 0.012411234450743595), (1176, 0.0857366338655751), (1177, 0.0), (1178, 0.04380420273536413), (1179, 0.003988940253608913), (1180, 0.043816782593937086), (1181, 0.0), (1182, 0.0952795843882984), (1183, 0.0), (1184, 0.0), (1185, 0.004203121530136804), (1186, 0.0035030177884845656), (1187, 0.0), (1188, 0.0), (1189, 0.023883014333988397), (1190, 0.0), (1191, 0.00801045501197), (1192, 0.008359793656303955), (1193, 0.0), (1194, 0.0034856285851010693), (1195, 0.05371346011570637), (1196, 0.007437695490772334), (1197, 0.011307377988703737), (1198, 0.020718917354437753), (1199, 0.0), (1200, 0.0), (1201, 0.0), (1202, 0.0392561483495896), (1203, 0.0), (1204, 0.007595859168707435), (1205, 0.0), (1206, 0.010727980313497098), (1207, 0.03127727395334783), (1208, 0.0050862446479315645), (1209, 0.009453008175308409), (1210, 0.058213162103816656), (1211, 0.02240190496053412), (1212, 0.05503619618676682), (1213, 0.007933449163965989), (1214, 0.023775372869230618), (1215, 0.020855140462754676), (1216, 0.029329064874933912), (1217, 0.012999111986296856), (1218, 0.0038058967270820383), (1219, 0.010176501109370786), (1220, 0.0036007806643220948), (1221, 0.003316769862111134), (1222, 0.01658556995139404), (1223, 0.026812512709251973), (1224, 0.0), (1225, 0.0), (1226, 0.03925761560533473), (1227, 0.011332210827339548), (1228, 0.01217299938349868), (1229, 0.0), (1230, 0.0), (1231, 0.011207365778919945), (1232, 0.0123929619802303), (1233, 0.0), (1234, 0.0), (1235, 0.01828798415159943), (1236, 0.0), (1237, 0.02159350137060529), (1238, 0.0039622976347895794), (1239, 0.003953252608448102), (1240, 0.0), (1241, 0.033830808203472), (1242, 0.023367367347528332), (1243, 0.0), (1244, 0.0), (1245, 0.008754369007439108), (1246, 0.026921674085287978), (1247, 0.010956484965978711), (1248, 0.008677172638917038), (1249, 0.00782980567192652), (1250, 0.02060533937210942), (1251, 0.09798035416293527), (1252, 0.0), (1253, 0.021031740771245533), (1254, 0.045011803087195254), (1255, 0.028660932428758862), (1256, 0.0), (1257, 0.07081659654429157), (1258, 0.0), (1259, 0.02744847401475311), (1260, 0.0), (1261, 0.0), (1262, 0.003978859632071832), (1263, 0.011186437546241317), (1264, 0.0), (1265, 0.0), (1266, 0.0040701528260303505), (1267, 0.012587203756837381), (1268, 0.005993504335937219), (1269, 0.011325427995928785), (1270, 0.0073148369510086025), (1271, 0.0), (1272, 0.0), (1273, 0.0037968732099118363), (1274, 0.00378875792717055), (1275, 0.0), (1276, 0.1053435194920348), (1277, 0.009737022054998816), (1278, 0.02411033713805081), (1279, 0.05848771551583694), (1280, 0.0), (1281, 0.0), (1282, 0.0412390245240362), (1283, 0.0), (1284, 0.04883520229972121), (1285, 0.012871573375978836), (1286, 0.0), (1287, 0.0), (1288, 0.014819463577008868), (1289, 0.0), (1290, 0.0), (1291, 0.03514499358586666), (1292, 0.011501179407198147), (1293, 0.0), (1294, 0.0), (1295, 0.028576851065725734), (1296, 0.02953906101518062), (1297, 0.003992834546873604), (1298, 0.01489017541876125), (1299, 0.0), (1300, 0.006330440875171439), (1301, 0.0271215563945375), (1302, 0.0), (1303, 0.0), (1304, 0.0079816382699051), (1305, 0.07804956502295116), (1306, 0.01657376363704248), (1307, 0.027206079915810238), (1308, 0.010528830588515893), (1309, 0.024849575231969), (1310, 0.006757003864166676), (1311, 0.029688090132899445), (1312, 0.0033667243843253664), (1313, 0.0), (1314, 0.020167797568675316), (1315, 0.033166647863998026), (1316, 0.0), (1317, 0.0), (1318, 0.0), (1319, 0.09870545518371748), (1320, 0.0), (1321, 0.02326719041781055), (1322, 0.004061189652850337), (1323, 0.011551352928116064), (1324, 0.0), (1325, 0.0), (1326, 0.0), (1327, 0.0795037558401189), (1328, 0.007894863791512403), (1329, 0.007873777316590867), (1330, 0.014485638263957101), (1331, 0.0), (1332, 0.0), (1333, 0.0354352333402347), (1334, 0.009271123030600303), (1335, 0.0), (1336, 0.03564938420974782), (1337, 0.0), (1338, 0.036551834842487), (1339, 0.04077001648960307), (1340, 0.0), (1341, 0.015859010482763714), (1342, 0.0), (1343, 0.004742567750279676), (1344, 0.020424491323847525), (1345, 0.012270831606022603), (1346, 0.004012285171402766), (1347, 0.003853449650563951), (1348, 0.01978997262970036), (1349, 0.004495139560733855), (1350, 0.0), (1351, 0.03988547106676674), (1352, 0.013323542476066265), (1353, 0.0184364709978348), (1354, 0.020973181766851662), (1355, 0.0), (1356, 0.033947671854614045), (1357, 0.0), (1358, 0.007378436987472751), (1359, 0.0), (1360, 0.003630916641521823), (1361, 0.007604815638472246), (1362, 0.0), (1363, 0.0), (1364, 0.04615526925594328), (1365, 0.048379477170207505), (1366, 0.02304129866386333), (1367, 0.0213311005055113), (1368, 0.019786318402702632), (1369, 0.010657139980277596), (1370, 0.006455263916348608), (1371, 0.0), (1372, 0.015489377459332258), (1373, 0.02244869927562445), (1374, 0.01303021466550469), (1375, 0.003791795287284533), (1376, 0.01696518543961189), (1377, 0.003218202315821347), (1378, 0.0), (1379, 0.014064926318650271), (1380, 0.004207451486926561), (1381, 0.004578176489772707), (1382, 0.0), (1383, 0.041898844729072876), (1384, 0.003550693541829363), (1385, 0.011357987903260603), (1386, 0.0), (1387, 0.011102011534744757), (1388, 0.0), (1389, 0.034581081491053586), (1390, 0.02016802898491732), (1391, 0.0), (1392, 0.011576787322694756), (1393, 0.009482963671880161), (1394, 0.010167540550310532), (1395, 0.003211318483652649), (1396, 0.008344254303765786), (1397, 0.011626291720456159), (1398, 0.0), (1399, 0.0), (1400, 0.0), (1401, 0.026972610337777293), (1402, 0.021498215797262184), (1403, 0.0411488750953945), (1404, 0.012308124804139862), (1405, 0.054386536410671545), (1406, 0.011430591073305008), (1407, 0.017244618845237387), (1408, 0.0), (1409, 0.06333176351855191), (1410, 0.011464951291852585), (1411, 0.01286673874726553), (1412, 0.03558397388000769), (1413, 0.00809770964899338), (1414, 0.01097141602267144), (1415, 0.0), (1416, 0.0), (1417, 0.0), (1418, 0.0061331494067136064), (1419, 0.009042070525663744), (1420, 0.011919762593594929), (1421, 0.015120998774393862), (1422, 0.0038843867551250125), (1423, 0.0167117124154821), (1424, 0.0), (1425, 0.011674489424864216), (1426, 0.004226729392342471), (1427, 0.027193878382820866), (1428, 0.01565247394524973), (1429, 0.0), (1430, 0.025692707990136492), (1431, 0.01333309473786817), (1432, 0.0), (1433, 0.061769200180384176), (1434, 0.0), (1435, 0.0), (1436, 0.004221160713139633), (1437, 0.0), (1438, 0.0), (1439, 0.0), (1440, 0.0115188420522012), (1441, 0.0), (1442, 0.015180091419709387), (1443, 0.019935719125663533), (1444, 0.0), (1445, 0.011852294633220385), (1446, 0.0038231269108522097), (1447, 0.015470905156359746), (1448, 0.0), (1449, 0.0), (1450, 0.05086589353141426), (1451, 0.023010228088260344), (1452, 0.0), (1453, 0.016314946619232433), (1454, 0.03798694099284981), (1455, 0.0), (1456, 0.02476122396244361), (1457, 0.0), (1458, 0.01724488712367734), (1459, 0.04141728355508405), (1460, 0.04767033763621774), (1461, 0.02210049789498378), (1462, 0.0), (1463, 0.011064738311462874), (1464, 0.01611631655950122), (1465, 0.05222080897250415), (1466, 0.00872758027254443), (1467, 0.020486732611030605), (1468, 0.038687619628117016), (1469, 0.0), (1470, 0.0), (1471, 0.00591690451087714), (1472, 0.024548702270006273), (1473, 0.11824097359319923), (1474, 0.02779164810106949), (1475, 0.01182562468874051), (1476, 0.0), (1477, 0.0933170796924071), (1478, 0.035329832814987604), (1479, 0.012441651486269757), (1480, 0.018430133899852583), (1481, 0.03627174305649564), (1482, 0.020254001424674727), (1483, 0.0), (1484, 0.024032901928907273), (1485, 0.03851587307921809), (1486, 0.004393577790972237), (1487, 0.030048297109528062), (1488, 0.016553640691961802), (1489, 0.018233831227260834), (1490, 0.0), (1491, 0.0), (1492, 0.02728063387926187), (1493, 0.014782605733124985), (1494, 0.017523850877135982), (1495, 0.04192431876328212), (1496, 0.05117493352845151), (1497, 0.0), (1498, 0.0), (1499, 0.0), (1500, 0.011825472096466044), (1501, 0.015313804618662503), (1502, 0.004212960275747539), (1503, 0.025707669277288153), (1504, 0.0), (1505, 0.06999637920473625), (1506, 0.008196171474980175), (1507, 0.010342215923688225), (1508, 0.0), (1509, 0.010474869523888888), (1510, 0.004027538978333987), (1511, 0.017686417836433474), (1512, 0.0), (1513, 0.007798774385507595), (1514, 0.0), (1515, 0.004015488607561552), (1516, 0.0), (1517, 0.007943907557714678), (1518, 0.0), (1519, 0.0), (1520, 0.030044779438378865), (1521, 0.021522994070251114), (1522, 0.015617264273580626), (1523, 0.058946288110130106), (1524, 0.08619562085485544), (1525, 0.011766411824216585), (1526, 0.015564536975645464), (1527, 0.0), (1528, 0.0), (1529, 0.04486915099531856), (1530, 0.003267169651889171), (1531, 0.007910261466627608), (1532, 0.011101804388007168), (1533, 0.0), (1534, 0.0), (1535, 0.0033546904900974865), (1536, 0.0), (1537, 0.020301968669917098), (1538, 0.029429652521037332), (1539, 0.018286173872638874), (1540, 0.0), (1541, 0.007305118366062996), (1542, 0.015278039678886877), (1543, 0.0104511355542484), (1544, 0.0663989996217768), (1545, 0.0), (1546, 0.0034320720453905515), (1547, 0.0), (1548, 0.005049930592648457), (1549, 0.008908640124938912), (1550, 0.03055180544477463), (1551, 0.00392103220027507), (1552, 0.029522299012088273), (1553, 0.0070419302437144645), (1554, 0.0), (1555, 0.03183375949817642), (1556, 0.0), (1557, 0.08327851036246037), (1558, 0.013717240287889279), (1559, 0.021912486660189568), (1560, 0.0), (1561, 0.03410619618885564), (1562, 0.029757323185635724), (1563, 0.009811890536400018), (1564, 0.031633724802306765), (1565, 0.003410069043344546), (1566, 0.0), (1567, 0.008181012327867433), (1568, 0.03520135838307459), (1569, 0.030193040011607337), (1570, 0.027830849602777676), (1571, 0.0032983663236875876), (1572, 0.013085718599865749), (1573, 0.0), (1574, 0.042167569263204634), (1575, 0.017374609323486556), (1576, 0.013225780841606057), (1577, 0.015467068429888889), (1578, 0.0464500545885289), (1579, 0.011249999461884482), (1580, 0.009965706191090074), (1581, 0.005661408802407802), (1582, 0.01903612957818754), (1583, 0.004370765082416808), (1584, 0.0651370391162525), (1585, 0.0), (1586, 0.06635720998243683), (1587, 0.004060963471835857), (1588, 0.012849853237601815), (1589, 0.0), (1590, 0.0), (1591, 0.0), (1592, 0.016014308084937517), (1593, 0.0), (1594, 0.040196425301585695), (1595, 0.0036103725439305357), (1596, 0.0), (1597, 0.014770328246079812), (1598, 0.007390322303233807), (1599, 0.009144007707395211), (1600, 0.03482620232116452), (1601, 0.018578963000768223), (1602, 0.035665721064448805), (1603, 0.011904365064814232), (1604, 0.01866975469685185), (1605, 0.0), (1606, 0.031978296700292744), (1607, 0.020383321555904922), (1608, 0.007042917669561254), (1609, 0.04034506908754054), (1610, 0.020593807809920643), (1611, 0.0), (1612, 0.0), (1613, 0.011936891089674625), (1614, 0.017359461085873013), (1615, 0.008865704059270644), (1616, 0.017905386582468184), (1617, 0.02001493718111607), (1618, 0.0), (1619, 0.004251548597891478), (1620, 0.0037304044015510664), (1621, 0.01152981414885699), (1622, 0.0), (1623, 0.0), (1624, 0.0), (1625, 0.010516859477805188), (1626, 0.014758234213246802), (1627, 0.01261388982571278), (1628, 0.0), (1629, 0.0329789524752669), (1630, 0.00757085895608706), (1631, 0.0), (1632, 0.0124841758437956), (1633, 0.0), (1634, 0.03860101579022681), (1635, 0.0), (1636, 0.004110491557978174), (1637, 0.0), (1638, 0.0), (1639, 0.0), (1640, 0.02691578684220598), (1641, 0.0), (1642, 0.0036923317256976466), (1643, 0.025820674470726522), (1644, 0.0), (1645, 0.01953044270035723), (1646, 0.09401965915647886), (1647, 0.04668785688832468), (1648, 0.005958614101552758), (1649, 0.00841684285499863), (1650, 0.007398766525656117), (1651, 0.0), (1652, 0.021099778950490655), (1653, 0.0038904313279811017), (1654, 0.010827986465379172), (1655, 0.013798721091902187), (1656, 0.0), (1657, 0.0), (1658, 0.0), (1659, 0.0), (1660, 0.004168348664611486), (1661, 0.0), (1662, 0.012135611318679117), (1663, 0.01807102695415238), (1664, 0.0407823760654175), (1665, 0.0), (1666, 0.01999605906794559), (1667, 0.010778783072510748), (1668, 0.007682360964282422), (1669, 0.004908751586698009), (1670, 0.007879683455866714), (1671, 0.0), (1672, 0.01125817021167015), (1673, 0.06441719204428865), (1674, 0.0), (1675, 0.010903250057633346), (1676, 0.041324559838380105), (1677, 0.021915271811525982), (1678, 0.012946410624213634), (1679, 0.018430771166900152), (1680, 0.014996253331047968), (1681, 0.004379959618740818), (1682, 0.0345416812534365), (1683, 0.008011303612852292), (1684, 0.006557898162662699), (1685, 0.0), (1686, 0.009233153808975592), (1687, 0.004229930163847008), (1688, 0.008136259328206198), (1689, 0.008371330629255559), (1690, 0.016965433342358793), (1691, 0.0068081377933657), (1692, 0.016115353260700453), (1693, 0.0), (1694, 0.030706601291816474), (1695, 0.019242793881369475), (1696, 0.012059494986517535), (1697, 0.007706166782828025), (1698, 0.03863046470763417), (1699, 0.012767142762593822), (1700, 0.07911972533748853), (1701, 0.019732677894165752), (1702, 0.0041465211872657925), (1703, 0.029762094121464668), (1704, 0.025403038574743075), (1705, 0.0), (1706, 0.021121654736897623), (1707, 0.0034085570474196147), (1708, 0.0), (1709, 0.011220006595580041), (1710, 0.0037790832952518194), (1711, 0.026247972226712254), (1712, 0.019097434319607743), (1713, 0.008501202840647367), (1714, 0.1875935306279091), (1715, 0.04493049438960399), (1716, 0.004474184979759685), (1717, 0.0), (1718, 0.013648221052185043), (1719, 0.00360049718331838), (1720, 0.034238121552016436), (1721, 0.013808266133253935), (1722, 0.0), (1723, 0.012223371374512036), (1724, 0.03604158259338095), (1725, 0.018006377504115333), (1726, 0.04211190240118237), (1727, 0.0), (1728, 0.0), (1729, 0.0), (1730, 0.0), (1731, 0.008026463679191182), (1732, 0.0), (1733, 0.004374317467286457), (1734, 0.012886105560875213), (1735, 0.0), (1736, 0.0), (1737, 0.0738101188276166), (1738, 0.0037873315281813156), (1739, 0.0), (1740, 0.0), (1741, 0.01179026254883924), (1742, 0.003772187688624168), (1743, 0.03889420082464835), (1744, 0.007142033614052712), (1745, 0.0), (1746, 0.007446682727234684), (1747, 0.0), (1748, 0.0), (1749, 0.0), (1750, 0.0), (1751, 0.004036380306428958), (1752, 0.0), (1753, 0.0), (1754, 0.0), (1755, 0.027510369619425858), (1756, 0.003762115592785001), (1757, 0.008896787181356215), (1758, 0.10129233485516158), (1759, 0.01105073021631579), (1760, 0.034111145997375615), (1761, 0.0), (1762, 0.032169351886184167), (1763, 0.007733924423198267), (1764, 0.03337935636959055), (1765, 0.0), (1766, 0.008261466067189749), (1767, 0.0), (1768, 0.016126515396063548), (1769, 0.021151585692300745), (1770, 0.0), (1771, 0.05301892193935142), (1772, 0.003461938311110261), (1773, 0.0), (1774, 0.018320235315809535), (1775, 0.0), (1776, 0.01998041496927356), (1777, 0.009278361520757908), (1778, 0.044481463915073544), (1779, 0.013093355027193969), (1780, 0.0), (1781, 0.006789034651056143), (1782, 0.003648835355512617), (1783, 0.00704421749334062), (1784, 0.027519582316920015), (1785, 0.0), (1786, 0.0), (1787, 0.02904521105829999), (1788, 0.036370318997319226), (1789, 0.04542490731505554), (1790, 0.0), (1791, 0.013092492875433875), (1792, 0.0), (1793, 0.0037392141910531453), (1794, 0.029971536968050647), (1795, 0.0), (1796, 0.0), (1797, 0.012936869948907683), (1798, 0.0042828652623763215), (1799, 0.033587205676905756), (1800, 0.01872936089879757), (1801, 0.0), (1802, 0.011090250497573863), (1803, 0.0), (1804, 0.02056961003991088), (1805, 0.0), (1806, 0.0), (1807, 0.003913205235808525), (1808, 0.019777037235421308), (1809, 0.011767528162593972), (1810, 0.08010108325360485), (1811, 0.012199196035689096), (1812, 0.030534563509816953), (1813, 0.07396329217605654), (1814, 0.030144742088598547), (1815, 0.0), (1816, 0.025039217760060746), (1817, 0.036285704906711555), (1818, 0.019215049353780777), (1819, 0.0), (1820, 0.03090157189512728), (1821, 0.011903730604582463), (1822, 0.0), (1823, 0.007382353943562802), (1824, 0.036259245927602754), (1825, 0.007632473380849079), (1826, 0.0), (1827, 0.010257920572070846), (1828, 0.0246655091775259), (1829, 0.0), (1830, 0.006633572854961164), (1831, 0.0), (1832, 0.0), (1833, 0.05017074769037358), (1834, 0.10460215898310789), (1835, 0.023219255281673706), (1836, 0.02522586814692798), (1837, 0.020725583824665026), (1838, 0.0), (1839, 0.0071494431898415185), (1840, 0.0), (1841, 0.025919231814008105), (1842, 0.049094452385821975), (1843, 0.028755665833496296), (1844, 0.031199336146646724), (1845, 0.04798903535290741), (1846, 0.017404673805703715), (1847, 0.0), (1848, 0.0), (1849, 0.021897137787515654), (1850, 0.01635579984115937), (1851, 0.004153400395927886), (1852, 0.012840211943199793), (1853, 0.0), (1854, 0.007147919949727281), (1855, 0.041406811531172955), (1856, 0.0), (1857, 0.003927501354774195), (1858, 0.00446405195155086), (1859, 0.013729850096316193), (1860, 0.07445940394624172), (1861, 0.03802618784756578), (1862, 0.11629897111683915), (1863, 0.006465717067582156), (1864, 0.019818264020755677), (1865, 0.008193138513167138), (1866, 0.024808175500230872), (1867, 0.0), (1868, 0.027192456965277216), (1869, 0.010270603524591164), (1870, 0.0), (1871, 0.01805729234624254), (1872, 0.0), (1873, 0.016243174715826186), (1874, 0.0), (1875, 0.01053844954260626), (1876, 0.020492078525186697), (1877, 0.014967406397407979), (1878, 0.01568357697409694), (1879, 0.0), (1880, 0.0), (1881, 0.01361895972776244), (1882, 0.0), (1883, 0.018516767121910995), (1884, 0.0), (1885, 0.0), (1886, 0.0902274007639726), (1887, 0.0045210442402399765), (1888, 0.06406932073118352), (1889, 0.007600707624743307), (1890, 0.0), (1891, 0.021937540978593406), (1892, 0.0), (1893, 0.0042078287546474386), (1894, 0.0), (1895, 0.0037581785831429263), (1896, 0.004232274296666572), (1897, 0.012299361568076829), (1898, 0.0070003665939845534), (1899, 0.01146483820465131), (1900, 0.0), (1901, 0.0), (1902, 0.018779497187490054), (1903, 0.06190377889598549), (1904, 0.0), (1905, 0.0), (1906, 0.0), (1907, 0.028114539344991744), (1908, 0.0040106956946240535), (1909, 0.0), (1910, 0.02821280032211795), (1911, 0.02492194168342998), (1912, 0.011197520074571865), (1913, 0.007388065971638287), (1914, 0.02917586621602901), (1915, 0.007588092746913418), (1916, 0.0), (1917, 0.0), (1918, 0.0), (1919, 0.008365243970400314), (1920, 0.0470667413981567), (1921, 0.010137890760325109), (1922, 0.0), (1923, 0.0), (1924, 0.0), (1925, 0.026215998779043636), (1926, 0.03394853230009058), (1927, 0.04942187373264855), (1928, 0.0045102743555668085), (1929, 0.0), (1930, 0.0), (1931, 0.024155251822431965), (1932, 0.0077738927603201525), (1933, 0.03371191227409723), (1934, 0.010980968482673263), (1935, 0.03483088592712664), (1936, 0.0076515898295607294), (1937, 0.04102945446277875), (1938, 0.013766985143082847), (1939, 0.0), (1940, 0.0), (1941, 0.0), (1942, 0.011541041378433602), (1943, 0.0065163458021609486), (1944, 0.04098037216850309), (1945, 0.0), (1946, 0.0), (1947, 0.0), (1948, 0.029004763615678397), (1949, 0.0), (1950, 0.04799146196419672), (1951, 0.016641549812445675), (1952, 0.004296001500267973), (1953, 0.032865744996401144), (1954, 0.020720615203452666), (1955, 0.007863887787528412), (1956, 0.0), (1957, 0.01703507218946752), (1958, 0.025878363428078574), (1959, 0.054266680504886526), (1960, 0.0), (1961, 0.023508555010465407), (1962, 0.0), (1963, 0.009462652756062272), (1964, 0.06752809630186556), (1965, 0.0), (1966, 0.0), (1967, 0.00877365682689054), (1968, 0.004685132503887968), (1969, 0.015718353976778753), (1970, 0.0), (1971, 0.003381487319842254), (1972, 0.037012402045817995), (1973, 0.014755230437850465), (1974, 0.060977439086903146), (1975, 0.0), (1976, 0.0), (1977, 0.008041041118497865), (1978, 0.008049443436513322), (1979, 0.030020576704304712), (1980, 0.0), (1981, 0.00333166835658522), (1982, 0.010962486331554111), (1983, 0.0), (1984, 0.003666778669451711), (1985, 0.004031269107269129), (1986, 0.003945505800778772), (1987, 0.007324165183012197), (1988, 0.003780590379190589), (1989, 0.0), (1990, 0.003634655911492819), (1991, 0.0), (1992, 0.022086989384690815), (1993, 0.02257263596556345), (1994, 0.0035496878774239887), (1995, 0.0), (1996, 0.02454350148160837), (1997, 0.008668896186076837), (1998, 0.01642291273613239), (1999, 0.023643689543347175), (2000, 0.02837742809219293), (2001, 0.0), (2002, 0.0), (2003, 0.0038542333897031203), (2004, 0.0), (2005, 0.03303991044319317), (2006, 0.006384686354055824), (2007, 0.01648701506466754), (2008, 0.0), (2009, 0.013852160637325072), (2010, 0.0), (2011, 0.0), (2012, 0.004588003585176294), (2013, 0.0063572247952321265), (2014, 0.02407531444786454), (2015, 0.004165805460876568), (2016, 0.0832304704393094), (2017, 0.008142956375322785), (2018, 0.012036183049041266), (2019, 0.0207874551171931), (2020, 0.0034030123666898083), (2021, 0.0), (2022, 0.023243595123139518), (2023, 0.0037568858319314237), (2024, 0.0), (2025, 0.0), (2026, 0.014744672905480576), (2027, 0.014790547691956316), (2028, 0.0), (2029, 0.026076051415197928), (2030, 0.021360522914071634), (2031, 0.010800137928864731), (2032, 0.00467502522790464), (2033, 0.0), (2034, 0.013369082496089065), (2035, 0.007650910301045191), (2036, 0.015484598617237128), (2037, 0.03218488433331999), (2038, 0.012515491316728198), (2039, 0.027539159311762408), (2040, 0.10916210938064652), (2041, 0.055808137950387776), (2042, 0.0), (2043, 0.021110411077339845), (2044, 0.0), (2045, 0.004054438380472478), (2046, 0.011461751531292416), (2047, 0.007050749981078624), (2048, 0.0), (2049, 0.008253526065850258), (2050, 0.018865190003062575), (2051, 0.012888292207801232), (2052, 0.006981949856488849), (2053, 0.013442936684577241), (2054, 0.0), (2055, 0.023775161692219618), (2056, 0.003844427993405955), (2057, 0.0), (2058, 0.007200378872433435), (2059, 0.01929997802115559), (2060, 0.03895299751244288), (2061, 0.05613437405120542), (2062, 0.01647085668122511), (2063, 0.0), (2064, 0.010868987419775097), (2065, 0.0071684856104054576), (2066, 0.0), (2067, 0.0), (2068, 0.0), (2069, 0.0), (2070, 0.016034229732641146), (2071, 0.007422913387738661), (2072, 0.004133951694367745), (2073, 0.03336673487586475), (2074, 0.015016930588885164), (2075, 0.0), (2076, 0.0033647353993183707), (2077, 0.0), (2078, 0.0031728717734131008), (2079, 0.004554246536325053), (2080, 0.0), (2081, 0.0), (2082, 0.008121841000138675), (2083, 0.0), (2084, 0.0), (2085, 0.01690663197639235), (2086, 0.02950542126977658), (2087, 0.007322386546396939), (2088, 0.0118848913323985), (2089, 0.0), (2090, 0.0), (2091, 0.023035937762179586), (2092, 0.015158794625810013), (2093, 0.0), (2094, 0.0037752503526820675), (2095, 0.020214605594616512), (2096, 0.0), (2097, 0.031302204708425416), (2098, 0.08877148336503604), (2099, 0.02079002991069887), (2100, 0.0349500266367255), (2101, 0.0), (2102, 0.052327558689021926), (2103, 0.012678705700444135), (2104, 0.030821307040394742), (2105, 0.0), (2106, 0.0), (2107, 0.010805244214043993), (2108, 0.0), (2109, 0.028207864733389036), (2110, 0.0), (2111, 0.06229344000626288), (2112, 0.0044032874210425), (2113, 0.039257418242482564), (2114, 0.037771932091385026), (2115, 0.0), (2116, 0.024865978214748095), (2117, 0.018399820434519175), (2118, 0.029461630535307447), (2119, 0.015317712133976787), (2120, 0.0), (2121, 0.038942962361369904), (2122, 0.009117334127279362), (2123, 0.0), (2124, 0.0), (2125, 0.006847112801769941), (2126, 0.004114313361808391), (2127, 0.0033491552549427027), (2128, 0.003923105981353927), (2129, 0.015300237833017323), (2130, 0.0), (2131, 0.0038324662113891433), (2132, 0.0), (2133, 0.0), (2134, 0.0), (2135, 0.09848015055476252), (2136, 0.0), (2137, 0.0), (2138, 0.050854695063958524), (2139, 0.0037442807335894865), (2140, 0.01717478359662612), (2141, 0.0), (2142, 0.0), (2143, 0.014996450906583258), (2144, 0.011797275005944427), (2145, 0.05865938154209784), (2146, 0.0), (2147, 0.004234583693402103), (2148, 0.0), (2149, 0.010598971746347852), (2150, 0.020269233350189476), (2151, 0.0), (2152, 0.0), (2153, 0.021045424692583206), (2154, 0.00958950712641221), (2155, 0.024203541194029607), (2156, 0.014503265615471314), (2157, 0.028642646270463104), (2158, 0.010530079219355563), (2159, 0.009958808221548316), (2160, 0.007508127317544579), (2161, 0.05647127129031093), (2162, 0.0), (2163, 0.0), (2164, 0.0), (2165, 0.0), (2166, 0.0), (2167, 0.027246109918643128), (2168, 0.0), (2169, 0.0040152817976108444), (2170, 0.013799717693382648), (2171, 0.02261205077656185), (2172, 0.0), (2173, 0.0), (2174, 0.008951975676024449), (2175, 0.011051939214427726), (2176, 0.008264560118815281), (2177, 0.016611798239518357), (2178, 0.003880494770665493), (2179, 0.02134338306691571), (2180, 0.00456037132012672), (2181, 0.0), (2182, 0.0), (2183, 0.026352101326321802), (2184, 0.024858842934405483), (2185, 0.029329490610787975), (2186, 0.0), (2187, 0.0), (2188, 0.0), (2189, 0.0), (2190, 0.048687882191858364), (2191, 0.008099474937511028), (2192, 0.011778135161517015), (2193, 0.004025784512913739), (2194, 0.0), (2195, 0.02016330146187633), (2196, 0.03462770901420753), (2197, 0.04843987585382947), (2198, 0.011497922237370974), (2199, 0.009745404912426222), (2200, 0.013738865657542265), (2201, 0.03712532462009778), (2202, 0.0), (2203, 0.0), (2204, 0.011037817757283488), (2205, 0.0), (2206, 0.026625767552482325), (2207, 0.01916254589121419), (2208, 0.0), (2209, 0.0), (2210, 0.01927984462936218), (2211, 0.0226478644633021), (2212, 0.022081578617459418), (2213, 0.0), (2214, 0.0), (2215, 0.007489315131915439), (2216, 0.0), (2217, 0.0), (2218, 0.04288424613157417), (2219, 0.0), (2220, 0.012968102059001759), (2221, 0.0399773359720217), (2222, 0.016823543404601026), (2223, 0.008512281219474442), (2224, 0.00757131953530435), (2225, 0.0), (2226, 0.011092161432438354), (2227, 0.02398096663479522), (2228, 0.0), (2229, 0.0), (2230, 0.0), (2231, 0.0), (2232, 0.025853912326738393), (2233, 0.00437808790935133), (2234, 0.06252860632691251), (2235, 0.02093664953289188), (2236, 0.025193549074807087), (2237, 0.02285109658818934), (2238, 0.0), (2239, 0.011674659217401132), (2240, 0.0), (2241, 0.004148568675843649), (2242, 0.0), (2243, 0.0), (2244, 0.0), (2245, 0.02702808510738054), (2246, 0.02046309511594975), (2247, 0.0), (2248, 0.0), (2249, 0.0), (2250, 0.05659857169643365), (2251, 0.0), (2252, 0.008596919430895912), (2253, 0.0), (2254, 0.012172898631463437), (2255, 0.0), (2256, 0.0), (2257, 0.009638819945185064), (2258, 0.0), (2259, 0.011930198726245884), (2260, 0.008008699460907232), (2261, 0.008677896280356482), (2262, 0.018475289238513246), (2263, 0.05416115415818539), (2264, 0.10344953224660139), (2265, 0.006796455337828008), (2266, 0.04031246057619467), (2267, 0.023865793445444136), (2268, 0.014808502360027322), (2269, 0.008689011970962118), (2270, 0.0), (2271, 0.0), (2272, 0.0), (2273, 0.0), (2274, 0.014930899520827934), (2275, 0.0), (2276, 0.0), (2277, 0.004044099913467183), (2278, 0.0040473381997895895), (2279, 0.0), (2280, 0.039580367342069274), (2281, 0.009932337522562161), (2282, 0.0), (2283, 0.04043115488045769), (2284, 0.022842295507168972), (2285, 0.007179661581257168), (2286, 0.0), (2287, 0.006656786934867583), (2288, 0.0), (2289, 0.0), (2290, 0.056053684134859685), (2291, 0.003417941454224362), (2292, 0.051094799523582354), (2293, 0.0), (2294, 0.0034465241427258718), (2295, 0.0), (2296, 0.009640264200952597), (2297, 0.019435679397869585), (2298, 0.0), (2299, 0.053048542604992206), (2300, 0.0), (2301, 0.014147051577330186), (2302, 0.0), (2303, 0.024633768193551543), (2304, 0.0), (2305, 0.0), (2306, 0.0), (2307, 0.023304324097346972), (2308, 0.0), (2309, 0.0), (2310, 0.0), (2311, 0.012248450060633008), (2312, 0.0), (2313, 0.0), (2314, 0.0), (2315, 0.0), (2316, 0.03235456000082871), (2317, 0.012047748674413354), (2318, 0.006588022134004183), (2319, 0.007777370159410031), (2320, 0.009275753564791628), (2321, 0.0656370397786452), (2322, 0.09782933850237874), (2323, 0.0), (2324, 0.0), (2325, 0.0), (2326, 0.010224321545932448), (2327, 0.03002428586925063), (2328, 0.0), (2329, 0.04648890501770147), (2330, 0.0042180822392678076), (2331, 0.012285244594834125), (2332, 0.03542428705159195), (2333, 0.0), (2334, 0.004106275805723729), (2335, 0.07735859928221596), (2336, 0.0), (2337, 0.007926223506189064), (2338, 0.007208872681586975), (2339, 0.004531162879672894), (2340, 0.04701152005018921), (2341, 0.0), (2342, 0.0), (2343, 0.0), (2344, 0.0), (2345, 0.0), (2346, 0.0), (2347, 0.008302200601483503), (2348, 0.0), (2349, 0.0), (2350, 0.0), (2351, 0.013698039944859672), (2352, 0.027883623639512772), (2353, 0.029713539109604233), (2354, 0.011355030918390612), (2355, 0.0), (2356, 0.0), (2357, 0.0), (2358, 0.010787920037679992), (2359, 0.07462260192745107), (2360, 0.04360657145462647), (2361, 0.0), (2362, 0.0), (2363, 0.004930190917623584), (2364, 0.006019344699240804), (2365, 0.05854109092222308), (2366, 0.013086468542016082), (2367, 0.02566256507250762), (2368, 0.024284391008418484), (2369, 0.0), (2370, 0.05226547647419866), (2371, 0.00810995570658193), (2372, 0.03627975518462159), (2373, 0.0), (2374, 0.0), (2375, 0.012462184831121957), (2376, 0.00934188199139318), (2377, 0.0031669321854172956), (2378, 0.010628487286274527), (2379, 0.010804519961618868), (2380, 0.0), (2381, 0.008347015428088949), (2382, 0.0), (2383, 0.0), (2384, 0.0), (2385, 0.0), (2386, 0.0), (2387, 0.016191826509104484), (2388, 0.0), (2389, 0.006678000715971365), (2390, 0.02102851766094769), (2391, 0.01763583433502021), (2392, 0.034552769430049896), (2393, 0.06152661757645346), (2394, 0.0), (2395, 0.0), (2396, 0.0), (2397, 0.0), (2398, 0.03226831796038451), (2399, 0.008336603413250938), (2400, 0.0), (2401, 0.00727593992189783), (2402, 0.010591825996474031), (2403, 0.0), (2404, 0.0), (2405, 0.012164185675204334), (2406, 0.05777156895906732), (2407, 0.0), (2408, 0.03290417268467845), (2409, 0.01240130144304303), (2410, 0.0), (2411, 0.0325718512331006), (2412, 0.010392278544784014), (2413, 0.015478639234324148), (2414, 0.025120233299528644), (2415, 0.0), (2416, 0.003931948219114944), (2417, 0.0), (2418, 0.004228836754968664), (2419, 0.00786540090408813), (2420, 0.0), (2421, 0.020894570478453063), (2422, 0.0077452169550966754), (2423, 0.009434923649043962), (2424, 0.0), (2425, 0.0), (2426, 0.0), (2427, 0.009268150941285844), (2428, 0.0), (2429, 0.0), (2430, 0.02485395980105868), (2431, 0.004105994367912014), (2432, 0.003845459864611052), (2433, 0.0789237028502397), (2434, 0.0), (2435, 0.007392766312176111), (2436, 0.004458924292992399), (2437, 0.0), (2438, 0.0), (2439, 0.0), (2440, 0.030412406905501135), (2441, 0.00947083419412101), (2442, 0.02287498991131723), (2443, 0.0671545178797949), (2444, 0.0040694325556296885), (2445, 0.056732547539984815), (2446, 0.003705423880647029), (2447, 0.003421685001394444), (2448, 0.009777239709224953), (2449, 0.007535049033259397), (2450, 0.030330206121630107), (2451, 0.022480245861563254), (2452, 0.0), (2453, 0.0), (2454, 0.0), (2455, 0.0), (2456, 0.00772699456009839), (2457, 0.029450301639071856), (2458, 0.004347636447275166), (2459, 0.013807161420009099), (2460, 0.010192589977424203), (2461, 0.007258860242517711), (2462, 0.02242665403798394), (2463, 0.003921502868886926), (2464, 0.0), (2465, 0.01591409882036321), (2466, 0.007688591497147473), (2467, 0.0), (2468, 0.0), (2469, 0.0), (2470, 0.004505825091076091), (2471, 0.0), (2472, 0.012337118326255787), (2473, 0.039599617129819464), (2474, 0.00918242157753891), (2475, 0.0), (2476, 0.030090886893625633), (2477, 0.0), (2478, 0.0), (2479, 0.01501304568889545), (2480, 0.020042849229723714), (2481, 0.012768978224871497), (2482, 0.003677324397567468), (2483, 0.0), (2484, 0.027986203584358667), (2485, 0.021773073608094058), (2486, 0.00455494612962304), (2487, 0.0040431674616409445), (2488, 0.0), (2489, 0.0), (2490, 0.0), (2491, 0.0036782507339257423), (2492, 0.008028925004318729), (2493, 0.0), (2494, 0.020210697591576784), (2495, 0.0), (2496, 0.013799818339402232), (2497, 0.0036845876535430717), (2498, 0.007859425982144903), (2499, 0.0), (2500, 0.0), (2501, 0.004008681561144096), (2502, 0.03525274910897368), (2503, 0.003956075149891471), (2504, 0.024331241831147956), (2505, 0.0), (2506, 0.0), (2507, 0.04234128496883923), (2508, 0.0), (2509, 0.04715349797909669), (2510, 0.039763733772875856), (2511, 0.004135220885972753), (2512, 0.0), (2513, 0.011100239064031365), (2514, 0.026532920929525604), (2515, 0.0), (2516, 0.02217772603087699), (2517, 0.04218262422764951), (2518, 0.004503750324963964), (2519, 0.0), (2520, 0.007829078460815604), (2521, 0.027250272898552946), (2522, 0.0), (2523, 0.0), (2524, 0.009909747078515104), (2525, 0.01931063351684724), (2526, 0.01332637368313331), (2527, 0.0), (2528, 0.010861188404279356), (2529, 0.0), (2530, 0.00951536169867798), (2531, 0.011960115296509415), (2532, 0.04331156628245157), (2533, 0.011409216940195584), (2534, 0.0053390185259125575), (2535, 0.0), (2536, 0.0), (2537, 0.0), (2538, 0.005403709160891044), (2539, 0.018170101286289805), (2540, 0.029698710540590666), (2541, 0.03357115819371237), (2542, 0.0), (2543, 0.0), (2544, 0.007481169284417407), (2545, 0.0), (2546, 0.004153126623893516), (2547, 0.005253538167413895), (2548, 0.01832158795345304), (2549, 0.007582572943354943), (2550, 0.011933047010816555), (2551, 0.0), (2552, 0.01217362304823607), (2553, 0.05044693299666424), (2554, 0.023922544130251695), (2555, 0.008513445142039716), (2556, 0.0), (2557, 0.0), (2558, 0.0), (2559, 0.0), (2560, 0.04691476336528272), (2561, 0.0), (2562, 0.020185421192867536), (2563, 0.027167866421511432), (2564, 0.0), (2565, 0.0), (2566, 0.0), (2567, 0.0), (2568, 0.07539160501008227), (2569, 0.0), (2570, 0.0385330665729538), (2571, 0.003854433041030196), (2572, 0.0), (2573, 0.010080868269506021), (2574, 0.01310553555463202), (2575, 0.0), (2576, 0.0), (2577, 0.023422914214425567), (2578, 0.01516781322394127), (2579, 0.021501314848615602), (2580, 0.03442121942325404), (2581, 0.004985352199621288), (2582, 0.015777627463617265), (2583, 0.033320098859804824), (2584, 0.05473616395819485), (2585, 0.022073348719294953), (2586, 0.012460430680953899), (2587, 0.0035403871875028838), (2588, 0.03318710604297702), (2589, 0.023122441506575622), (2590, 0.006969252389379995), (2591, 0.09086127146024525), (2592, 0.016576216675557552), (2593, 0.0069072514043485595), (2594, 0.013821612322314887), (2595, 0.014582255215812235), (2596, 0.0), (2597, 0.0), (2598, 0.0), (2599, 0.0), (2600, 0.0), (2601, 0.009418731060564092), (2602, 0.0), (2603, 0.019165839583887262), (2604, 0.008147401002138488), (2605, 0.023100872585385797), (2606, 0.0), (2607, 0.0), (2608, 0.0034942533222744434), (2609, 0.0042552803973743), (2610, 0.004216173926008526), (2611, 0.043779866554153134), (2612, 0.022960800286395487), (2613, 0.0), (2614, 0.008129040927541048), (2615, 0.08535993272830242), (2616, 0.015121483854757901), (2617, 0.006600579700798341), (2618, 0.014053961869004164), (2619, 0.0), (2620, 0.0), (2621, 0.0), (2622, 0.011047018653543787), (2623, 0.07232393083619368), (2624, 0.0), (2625, 0.013750693141626788), (2626, 0.01619520313011182), (2627, 0.003357377867739199), (2628, 0.0), (2629, 0.03004033349156127), (2630, 0.0), (2631, 0.0037886269027892637), (2632, 0.016610460035291402), (2633, 0.017099306678361653), (2634, 0.02852597611295053), (2635, 0.0), (2636, 0.027574585797345424), (2637, 0.022017624675134257), (2638, 0.004532874654370976), (2639, 0.0), (2640, 0.0041742495079745996), (2641, 0.0), (2642, 0.025702078804569234), (2643, 0.00968240175794947), (2644, 0.032411991027673594), (2645, 0.005134288421465356), (2646, 0.0361922187190697), (2647, 0.10610558454863812), (2648, 0.0), (2649, 0.04101294000832332), (2650, 0.007778335117089327), (2651, 0.0), (2652, 0.02116052170959914), (2653, 0.02946027296556798), (2654, 0.068431423423113), (2655, 0.0), (2656, 0.019526711586686594), (2657, 0.0), (2658, 0.0), (2659, 0.0), (2660, 0.04011440652543141), (2661, 0.03173497417250654), (2662, 0.032000850712250874), (2663, 0.020263525036136765), (2664, 0.030954141971109527), (2665, 0.01872074752932821), (2666, 0.03333664465234431), (2667, 0.03606014062138862), (2668, 0.054802659195864384), (2669, 0.0), (2670, 0.0), (2671, 0.03598029784197179), (2672, 0.012862830493175388), (2673, 0.005307111233950048), (2674, 0.0), (2675, 0.0041821579312037475), (2676, 0.0), (2677, 0.015810462222688674), (2678, 0.0), (2679, 0.0), (2680, 0.0076483172929190145), (2681, 0.0), (2682, 0.07175342739164206), (2683, 0.02001239107127177), (2684, 0.0), (2685, 0.011869485370683016), (2686, 0.007804250461170973), (2687, 0.008885380473599122), (2688, 0.01795736594087209), (2689, 0.004229081629408725), (2690, 0.0), (2691, 0.004150602242112316), (2692, 0.0), (2693, 0.0), (2694, 0.0), (2695, 0.0), (2696, 0.01429605545021058), (2697, 0.012080471333667981), (2698, 0.012686211824199217), (2699, 0.0), (2700, 0.0), (2701, 0.0), (2702, 0.0), (2703, 0.0), (2704, 0.04135480333397441), (2705, 0.0), (2706, 0.003792798502014165), (2707, 0.0), (2708, 0.02133498020557939), (2709, 0.0), (2710, 0.0473039706178224), (2711, 0.03156550945294352), (2712, 0.013912075683304362), (2713, 0.042215067151325496), (2714, 0.0), (2715, 0.017699188701988233), (2716, 0.0), (2717, 0.022898828275801836), (2718, 0.0), (2719, 0.04233629272844236), (2720, 0.04521002710753387), (2721, 0.006505185961954392), (2722, 0.0), (2723, 0.01916137335538861), (2724, 0.007090108904651163), (2725, 0.013925302617222116), (2726, 0.0), (2727, 0.0), (2728, 0.0), (2729, 0.030842924976264976), (2730, 0.015998247533731226), (2731, 0.0), (2732, 0.020065268076054563), (2733, 0.025237808212260297), (2734, 0.026666926262197244), (2735, 0.0), (2736, 0.0), (2737, 0.0), (2738, 0.004708022670320722), (2739, 0.004378117315767447), (2740, 0.0044919122821175305), (2741, 0.017271433824812818), (2742, 0.0), (2743, 0.0), (2744, 0.0), (2745, 0.0), (2746, 0.02016091841897728), (2747, 0.05993489339551755), (2748, 0.0), (2749, 0.028982407870446897), (2750, 0.010654116593433814), (2751, 0.008564360890055894), (2752, 0.058059654765039964), (2753, 0.04766800109813059), (2754, 0.0), (2755, 0.019822147945777906), (2756, 0.009012534623244453), (2757, 0.0), (2758, 0.006358274818904255), (2759, 0.040104835628582185), (2760, 0.04763287146632145), (2761, 0.013194859434731589), (2762, 0.020814671539847052), (2763, 0.015103640004115383), (2764, 0.0), (2765, 0.007584344176096575), (2766, 0.03895430216690845), (2767, 0.0), (2768, 0.0), (2769, 0.0), (2770, 0.01960965741574211), (2771, 0.009625480818716184), (2772, 0.008868401527040683), (2773, 0.0), (2774, 0.0031879261492241727), (2775, 0.0), (2776, 0.00972692807014159), (2777, 0.003691453914610846), (2778, 0.0), (2779, 0.0), (2780, 0.0), (2781, 0.025224640219328368), (2782, 0.044960306278513704), (2783, 0.028948419081205948), (2784, 0.0040777201013824475), (2785, 0.004567750758299282), (2786, 0.0), (2787, 0.0), (2788, 0.02058176510943992), (2789, 0.040251115770640104), (2790, 0.004194626947621982), (2791, 0.007317566823972999), (2792, 0.0042266530443838), (2793, 0.02033697964033173), (2794, 0.0), (2795, 0.0), (2796, 0.02600058278911401), (2797, 0.0), (2798, 0.008102414204792881), (2799, 0.008379283178092643), (2800, 0.0), (2801, 0.011169571769481901), (2802, 0.0), (2803, 0.0), (2804, 0.011347190877634666), (2805, 0.003488633079823132), (2806, 0.051596535560525486), (2807, 0.01277387544444723), (2808, 0.0038657455124600916), (2809, 0.06651056342306125), (2810, 0.00839051645350662), (2811, 0.0), (2812, 0.010815278664266268), (2813, 0.06507382071091719), (2814, 0.04316788992797461), (2815, 0.0), (2816, 0.004127925113142491), (2817, 0.013884171400228944), (2818, 0.005586731681018799), (2819, 0.0), (2820, 0.0), (2821, 0.017226830897172828), (2822, 0.011602915117317075), (2823, 0.0), (2824, 0.04978102540560873), (2825, 0.0), (2826, 0.009079533521848312), (2827, 0.0), (2828, 0.0), (2829, 0.012474968779616409), (2830, 0.0), (2831, 0.03231182166644513), (2832, 0.0), (2833, 0.0), (2834, 0.004949488306185597), (2835, 0.0700526500776421), (2836, 0.016383759280858157), (2837, 0.0), (2838, 0.0), (2839, 0.02938100078438234), (2840, 0.022547924421213682), (2841, 0.015748840386568402), (2842, 0.003449261920709504), (2843, 0.0), (2844, 0.026822123536153934), (2845, 0.00831252200984775), (2846, 0.0), (2847, 0.0), (2848, 0.0), (2849, 0.0), (2850, 0.0), (2851, 0.02917592846270712), (2852, 0.03222860518774136), (2853, 0.0), (2854, 0.051755720459247735), (2855, 0.003383179358822988), (2856, 0.03845886771580324), (2857, 0.06753620424726921), (2858, 0.0), (2859, 0.00378232485939556), (2860, 0.0), (2861, 0.0), (2862, 0.007435995192672182), (2863, 0.0), (2864, 0.03360315005412408), (2865, 0.011729744747527056), (2866, 0.0), (2867, 0.018283471504244), (2868, 0.0), (2869, 0.0), (2870, 0.0), (2871, 0.0), (2872, 0.0), (2873, 0.013034249949158822), (2874, 0.0037026937949861663), (2875, 0.0), (2876, 0.012324314408023958), (2877, 0.0), (2878, 0.01682182635525353), (2879, 0.0), (2880, 0.0), (2881, 0.0), (2882, 0.013363872438224607), (2883, 0.0), (2884, 0.0357668376527903), (2885, 0.014881822429539577), (2886, 0.0), (2887, 0.007585844430712625), (2888, 0.0), (2889, 0.0), (2890, 0.0), (2891, 0.0), (2892, 0.0037869951807065357), (2893, 0.0), (2894, 0.0), (2895, 0.0), (2896, 0.007602567529946121), (2897, 0.09714947434738228), (2898, 0.0), (2899, 0.019004428157047587), (2900, 0.003976806940383486), (2901, 0.009612071476803902), (2902, 0.0), (2903, 0.0), (2904, 0.012791359360581568), (2905, 0.0), (2906, 0.00351230767395178), (2907, 0.0), (2908, 0.033567026237211396), (2909, 0.007301516885465928), (2910, 0.0039033924270443815), (2911, 0.004152058420418908), (2912, 0.008744948540867561), (2913, 0.018635257308348568), (2914, 0.0), (2915, 0.012718668515969317), (2916, 0.00838578354789679), (2917, 0.0), (2918, 0.010928793194991147), (2919, 0.0), (2920, 0.003650236784677325), (2921, 0.03815393108451097), (2922, 0.0), (2923, 0.0), (2924, 0.018819252725992823), (2925, 0.039086057988002465), (2926, 0.0), (2927, 0.025364559180868263), (2928, 0.0), (2929, 0.018030727927584922), (2930, 0.0), (2931, 0.013989852748991774), (2932, 0.0), (2933, 0.003388012094407071), (2934, 0.0), (2935, 0.008020967270255855), (2936, 0.0), (2937, 0.0), (2938, 0.06958260068910296), (2939, 0.0), (2940, 0.004264130786309273), (2941, 0.0), (2942, 0.01126719072485664), (2943, 0.0), (2944, 0.038032619675238105), (2945, 0.0), (2946, 0.0), (2947, 0.0), (2948, 0.0), (2949, 0.0), (2950, 0.0), (2951, 0.02233889092339974), (2952, 0.018571216591191046), (2953, 0.0), (2954, 0.014871950218868921), (2955, 0.0), (2956, 0.0), (2957, 0.028923336523281037), (2958, 0.010895938737987138), (2959, 0.0), (2960, 0.0), (2961, 0.0), (2962, 0.03162883607167258), (2963, 0.004259681670754197), (2964, 0.026281581670978618), (2965, 0.032853079677528), (2966, 0.0), (2967, 0.0), (2968, 0.0), (2969, 0.0033088403684764377), (2970, 0.0), (2971, 0.0), (2972, 0.007056820003117181), (2973, 0.0), (2974, 0.0), (2975, 0.007009850085146347), (2976, 0.013413006485408663), (2977, 0.004084866364464328), (2978, 0.0), (2979, 0.0), (2980, 0.04476672397027531), (2981, 0.016506333924883283), (2982, 0.013995683360886694), (2983, 0.0), (2984, 0.0), (2985, 0.006655365752070138), (2986, 0.0), (2987, 0.0), (2988, 0.0), (2989, 0.0), (2990, 0.0), (2991, 0.0), (2992, 0.003719834336713239), (2993, 0.0), (2994, 0.0), (2995, 0.0), (2996, 0.018719755598525872), (2997, 0.0), (2998, 0.011239283713059333), (2999, 0.01162931447590258), (3000, 0.009246872446626997), (3001, 0.0), (3002, 0.0), (3003, 0.040321097557825376), (3004, 0.0), (3005, 0.0), (3006, 0.0), (3007, 0.0), (3008, 0.0), (3009, 0.0), (3010, 0.01640303175202456), (3011, 0.003852431670568492), (3012, 0.0), (3013, 0.0), (3014, 0.008525808118204348), (3015, 0.02879023927545455), (3016, 0.0), (3017, 0.0), (3018, 0.004166334670125144), (3019, 0.0), (3020, 0.0), (3021, 0.0), (3022, 0.01978920315750882), (3023, 0.0), (3024, 0.02159081883059992), (3025, 0.0), (3026, 0.0), (3027, 0.05459154483454677), (3028, 0.01573946857873923), (3029, 0.0), (3030, 0.06894700767434564), (3031, 0.0), (3032, 0.0), (3033, 0.011469553854276303), (3034, 0.011771739110549977), (3035, 0.0), (3036, 0.0), (3037, 0.0), (3038, 0.0), (3039, 0.004514483586038442), (3040, 0.0), (3041, 0.0), (3042, 0.0), (3043, 0.018692399706677083), (3044, 0.0), (3045, 0.01761398730483516), (3046, 0.003912883172965187), (3047, 0.031405905635894675), (3048, 0.0), (3049, 0.0), (3050, 0.0), (3051, 0.0), (3052, 0.0), (3053, 0.0038284855271606168), (3054, 0.0), (3055, 0.0), (3056, 0.0), (3057, 0.023072136970851066), (3058, 0.007419493113842261), (3059, 0.0), (3060, 0.012500939170258083), (3061, 0.0), (3062, 0.0), (3063, 0.0), (3064, 0.0), (3065, 0.015175678151961186), (3066, 0.011212310229283796), (3067, 0.0), (3068, 0.0), (3069, 0.0), (3070, 0.0), (3071, 0.0037367758667309426), (3072, 0.0), (3073, 0.007872341785852131), (3074, 0.027874627310514377), (3075, 0.0), (3076, 0.0), (3077, 0.010712605734056305), (3078, 0.009620245572474418), (3079, 0.0), (3080, 0.008344761880394147), (3081, 0.008810663695053627), (3082, 0.0), (3083, 0.015140948997077108), (3084, 0.007940327361359571), (3085, 0.0), (3086, 0.0), (3087, 0.0), (3088, 0.0), (3089, 0.009096119343049608), (3090, 0.0), (3091, 0.04655519696467046), (3092, 0.03736275200961225), (3093, 0.0), (3094, 0.013684855821080427), (3095, 0.0), (3096, 0.025048854769833533), (3097, 0.0), (3098, 0.02703369498400235), (3099, 0.0), (3100, 0.0), (3101, 0.021906479117874827), (3102, 0.0), (3103, 0.03647082905119451), (3104, 0.0343025532955279), (3105, 0.0), (3106, 0.014709676623606054), (3107, 0.0), (3108, 0.0035806613411973904), (3109, 0.03683355541697145), (3110, 0.01825455245460835), (3111, 0.0355229050208648), (3112, 0.008050383479440964), (3113, 0.009211471705166983), (3114, 0.0), (3115, 0.0), (3116, 0.06223772017955976), (3117, 0.010353413765132028), (3118, 0.0), (3119, 0.03980520048619642), (3120, 0.06750882634324287), (3121, 0.019151805086933364), (3122, 0.007611712424345638), (3123, 0.0), (3124, 0.0), (3125, 0.004009199198684682), (3126, 0.0), (3127, 0.003864393678359861), (3128, 0.028639553660537134), (3129, 0.04135369776921624), (3130, 0.0), (3131, 0.004268232055034472), (3132, 0.0), (3133, 0.030561745624055017), (3134, 0.0), (3135, 0.0), (3136, 0.0), (3137, 0.013897095696386433), (3138, 0.01879098582461015), (3139, 0.0), (3140, 0.0), (3141, 0.014900001038286622), (3142, 0.015866731917149816), (3143, 0.0), (3144, 0.08842459445685977), (3145, 0.005183070731796478), (3146, 0.0), (3147, 0.0), (3148, 0.013241971517763875), (3149, 0.014789894685064099), (3150, 0.004174087095932325), (3151, 0.010931758617838034), (3152, 0.013273994295223624), (3153, 0.0), (3154, 0.0), (3155, 0.016338117470924254), (3156, 0.015903664969013392), (3157, 0.0), (3158, 0.0), (3159, 0.0), (3160, 0.0), (3161, 0.0), (3162, 0.13915488516680707), (3163, 0.0), (3164, 0.0033784649585778736), (3165, 0.0), (3166, 0.0), (3167, 0.020346695263632135), (3168, 0.0), (3169, 0.0), (3170, 0.0), (3171, 0.0), (3172, 0.00464537682686343), (3173, 0.023629375628958123), (3174, 0.003978842621593819), (3175, 0.009677669672845418), (3176, 0.0), (3177, 0.0), (3178, 0.0), (3179, 0.022723377081906766), (3180, 0.013682100645611496), (3181, 0.13101873188620575), (3182, 0.0), (3183, 0.009889708530996445), (3184, 0.0), (3185, 0.0), (3186, 0.0), (3187, 0.007878329747347312), (3188, 0.011682303848664519), (3189, 0.007865639504123055), (3190, 0.0), (3191, 0.0), (3192, 0.0), (3193, 0.0037476308567082166), (3194, 0.0), (3195, 0.008887665960622513), (3196, 0.0), (3197, 0.0), (3198, 0.0), (3199, 0.04671709215460277), (3200, 0.003389746166858168), (3201, 0.07202642708266355), (3202, 0.0), (3203, 0.0), (3204, 0.010021759913437015), (3205, 0.017805264784222827), (3206, 0.013724748819103436), (3207, 0.0), (3208, 0.05835877952922548), (3209, 0.023202937410192578), (3210, 0.0), (3211, 0.027686883881749814), (3212, 0.05980005226191414), (3213, 0.06926813894956929), (3214, 0.015491873952276298), (3215, 0.007553015175525374), (3216, 0.017779304593526352), (3217, 0.029277839565803876), (3218, 0.026220212368672873), (3219, 0.009783803621806069), (3220, 0.0), (3221, 0.02552297349146272), (3222, 0.006652612082166096), (3223, 0.0), (3224, 0.009402706287918297), (3225, 0.06303302532566536), (3226, 0.02010159830718703), (3227, 0.0), (3228, 0.045100434243942666), (3229, 0.03571062468354526), (3230, 0.004605824038037839), (3231, 0.02267284781203516), (3232, 0.0), (3233, 0.004104228143594717), (3234, 0.0169047143549828), (3235, 0.017602549394928866), (3236, 0.03149895527737052), (3237, 0.018515464933196103), (3238, 0.036073552311471246), (3239, 0.0), (3240, 0.003855204559115447), (3241, 0.0), (3242, 0.0), (3243, 0.019298536168922787), (3244, 0.01953892745894495), (3245, 0.0), (3246, 0.0038245844561252207), (3247, 0.014933916442821589), (3248, 0.0), (3249, 0.0), (3250, 0.0), (3251, 0.014086229414093952), (3252, 0.022576157928657362), (3253, 0.0), (3254, 0.009275133433721107), (3255, 0.0), (3256, 0.11558704877764753), (3257, 0.05475224720073647), (3258, 0.0), (3259, 0.004207392540916726), (3260, 0.05313490690889292), (3261, 0.0), (3262, 0.0), (3263, 0.0288295987463573), (3264, 0.004212527812101576), (3265, 0.008222701511805087), (3266, 0.0), (3267, 0.0), (3268, 0.0), (3269, 0.017553034801306117), (3270, 0.043718194536121135), (3271, 0.004310644160583386), (3272, 0.032848413372630336), (3273, 0.01262897683696138), (3274, 0.0), (3275, 0.0), (3276, 0.0), (3277, 0.004200725325451118), (3278, 0.0), (3279, 0.018276894430811305), (3280, 0.0037142780742668775), (3281, 0.0), (3282, 0.028698837972150584), (3283, 0.07451804114763955), (3284, 0.011925308464850487), (3285, 0.0), (3286, 0.03337445733103648), (3287, 0.021638202364936063), (3288, 0.049084731094317754), (3289, 0.016922067815428807), (3290, 0.0), (3291, 0.0), (3292, 0.0), (3293, 0.014512816492936705), (3294, 0.0297411156424957), (3295, 0.00363058521359041), (3296, 0.0), (3297, 0.03326330392522704), (3298, 0.036201011595064), (3299, 0.003964282387867356), (3300, 0.0), (3301, 0.0), (3302, 0.04638015135378244), (3303, 0.015603658567276689), (3304, 0.0), (3305, 0.0), (3306, 0.028460556862525563), (3307, 0.0), (3308, 0.034373949410905054), (3309, 0.0), (3310, 0.0), (3311, 0.011778402141815768), (3312, 0.023481167805616526), (3313, 0.024924800294123767), (3314, 0.0), (3315, 0.02167290358748301), (3316, 0.003068839970988132), (3317, 0.02821018190456634), (3318, 0.011083861673505575), (3319, 0.0), (3320, 0.036220319233413796), (3321, 0.003691298305600058), (3322, 0.0), (3323, 0.0), (3324, 0.0), (3325, 0.029501445102763472), (3326, 0.0), (3327, 0.0071568746959193965), (3328, 0.03131040066660813), (3329, 0.00825647785197113), (3330, 0.015280996637682422), (3331, 0.05765921096617015), (3332, 0.0), (3333, 0.0), (3334, 0.0), (3335, 0.007564250958092456), (3336, 0.003590857437172138), (3337, 0.0), (3338, 0.01987159143178789), (3339, 0.0), (3340, 0.0), (3341, 0.0), (3342, 0.019037454676741006), (3343, 0.018726936208726532), (3344, 0.028227285977056916), (3345, 0.009315180354202595), (3346, 0.04695148733912141), (3347, 0.0), (3348, 0.0), (3349, 0.0), (3350, 0.01892413579937579), (3351, 0.0), (3352, 0.0), (3353, 0.0), (3354, 0.0), (3355, 0.0), (3356, 0.003009004773362074), (3357, 0.0), (3358, 0.0), (3359, 0.0), (3360, 0.020270194436303682), (3361, 0.040469026245519235), (3362, 0.003159098469864943), (3363, 0.0), (3364, 0.00460551175060223), (3365, 0.020826731591428175), (3366, 0.028937055307800788), (3367, 0.025583611735316716), (3368, 0.0038950174383932386), (3369, 0.010463476561870338), (3370, 0.016033380217773896), (3371, 0.0), (3372, 0.0), (3373, 0.032375772193815475), (3374, 0.003959258282589303), (3375, 0.021452894598486254), (3376, 0.013393969359517366), (3377, 0.0), (3378, 0.004163015154387707), (3379, 0.03727097726957207), (3380, 0.0347113357135532), (3381, 0.0), (3382, 0.0), (3383, 0.0), (3384, 0.004677158418726656), (3385, 0.0), (3386, 0.020484361244642157), (3387, 0.01791935276903607), (3388, 0.0), (3389, 0.020987528639745297), (3390, 0.10731942392265949), (3391, 0.0), (3392, 0.01684581807535687), (3393, 0.021775623526259183), (3394, 0.0), (3395, 0.019228177502421038), (3396, 0.0), (3397, 0.025944984787082268), (3398, 0.0), (3399, 0.012164864368735664), (3400, 0.008832159072881998), (3401, 0.0), (3402, 0.0), (3403, 0.02689550303000075), (3404, 0.0), (3405, 0.0), (3406, 0.0), (3407, 0.030792211871149854), (3408, 0.0142218172952496), (3409, 0.006807361037866848), (3410, 0.003210379077050056), (3411, 0.011423795379078868), (3412, 0.04595423641381577), (3413, 0.014047854903063072), (3414, 0.008931629148161077), (3415, 0.0723907668030578), (3416, 0.01133310534693163), (3417, 0.0), (3418, 0.0), (3419, 0.0), (3420, 0.019443090406167866), (3421, 0.024274303370372837), (3422, 0.023341673210042185), (3423, 0.0), (3424, 0.013112970424188118), (3425, 0.014249738127429596), (3426, 0.0), (3427, 0.014812141829649739), (3428, 0.0), (3429, 0.0), (3430, 0.022497952056895105), (3431, 0.0), (3432, 0.0), (3433, 0.0), (3434, 0.0), (3435, 0.003950717348015181), (3436, 0.0), (3437, 0.0), (3438, 0.004259027501626991), (3439, 0.0), (3440, 0.0), (3441, 0.028528887371771332), (3442, 0.024438278480057675), (3443, 0.011188822861155313), (3444, 0.027469849938502953), (3445, 0.0), (3446, 0.004097180514128733), (3447, 0.012723400382180306), (3448, 0.004839629238132147), (3449, 0.0), (3450, 0.004633389951271544), (3451, 0.029856888670600417), (3452, 0.008421511317116381), (3453, 0.0), (3454, 0.007804992140903725), (3455, 0.0), (3456, 0.02323501612411947), (3457, 0.03967870978559665), (3458, 0.015971302782940476), (3459, 0.029808992364627324), (3460, 0.0), (3461, 0.05358830588902368), (3462, 0.0), (3463, 0.004115406077263498), (3464, 0.004228156687934081), (3465, 0.003789380227319695), (3466, 0.011577522759963429), (3467, 0.14647318067016868), (3468, 0.024486090161181126), (3469, 0.004467733630235373), (3470, 0.0), (3471, 0.08162256634106319), (3472, 0.009484719690149409), (3473, 0.023773506524546732), (3474, 0.010307668706251398), (3475, 0.0), (3476, 0.020642493559067082), (3477, 0.016150715711747685), (3478, 0.0), (3479, 0.0), (3480, 0.0), (3481, 0.020973469049505603), (3482, 0.021059168343599322), (3483, 0.023430497977279363), (3484, 0.03594406332551596), (3485, 0.01859959530971716), (3486, 0.0), (3487, 0.008683306498998764), (3488, 0.03458460963358733), (3489, 0.04890387838037329), (3490, 0.0), (3491, 0.004005155798938926), (3492, 0.003984584495995964), (3493, 0.0), (3494, 0.0), (3495, 0.0371788498984867), (3496, 0.0), (3497, 0.0), (3498, 0.0), (3499, 0.0), (3500, 0.0), (3501, 0.011888519838464347), (3502, 0.00482883083678112), (3503, 0.028730923274157175), (3504, 0.003821226365084901), (3505, 0.023391453761995647), (3506, 0.033176124820740276), (3507, 0.004135690923459145), (3508, 0.017582759575888632), (3509, 0.06040789697546231), (3510, 0.0), (3511, 0.012311253142926961), (3512, 0.020615902009459633), (3513, 0.0), (3514, 0.0), (3515, 0.051063379515433965), (3516, 0.004338852576820415), (3517, 0.026030241976679566), (3518, 0.019233048100109174), (3519, 0.0), (3520, 0.009142622413987275), (3521, 0.0), (3522, 0.0), (3523, 0.0), (3524, 0.008808355327780898), (3525, 0.0), (3526, 0.031165218368257166), (3527, 0.0), (3528, 0.0), (3529, 0.009924031194362208), (3530, 0.0), (3531, 0.045485102219215895), (3532, 0.0), (3533, 0.007111926984402819), (3534, 0.0), (3535, 0.0), (3536, 0.011907465092477285), (3537, 0.01830306954724546), (3538, 0.0031810897123472873), (3539, 0.022299553782785312), (3540, 0.06724386005195462), (3541, 0.017972127655648942), (3542, 0.0), (3543, 0.0), (3544, 0.0), (3545, 0.007430913065708161), (3546, 0.015083139167830786), (3547, 0.0), (3548, 0.041750227673031895), (3549, 0.004125926789892405), (3550, 0.026719805638545407), (3551, 0.004026529415062928), (3552, 0.0), (3553, 0.01608255175827836), (3554, 0.009062663321700424), (3555, 0.02144787873710938), (3556, 0.010142772700543664), (3557, 0.03065508787086427), (3558, 0.008337822165078067), (3559, 0.05797677337941172), (3560, 0.0), (3561, 0.0), (3562, 0.03695377377142941), (3563, 0.010459387454433096), (3564, 0.0040049718224757875), (3565, 0.0), (3566, 0.0037474647347305106), (3567, 0.003822300018265257), (3568, 0.0038260659391022326), (3569, 0.0), (3570, 0.0), (3571, 0.02323223636503603), (3572, 0.0), (3573, 0.0), (3574, 0.01607554980189584), (3575, 0.0), (3576, 0.0), (3577, 0.004930353875051801), (3578, 0.020558021504719654), (3579, 0.011114294060727205), (3580, 0.0), (3581, 0.008229906308432353), (3582, 0.021855947325517627), (3583, 0.0), (3584, 0.0), (3585, 0.008802379862719353), (3586, 0.004293480857798415), (3587, 0.0044940453416171386), (3588, 0.0), (3589, 0.026613382364069925), (3590, 0.0), (3591, 0.0), (3592, 0.0), (3593, 0.02208563097268717), (3594, 0.020136739080407508), (3595, 0.0), (3596, 0.0), (3597, 0.0), (3598, 0.003531596214194535), (3599, 0.004165522388205851), (3600, 0.0), (3601, 0.0), (3602, 0.01115383470285353), (3603, 0.0), (3604, 0.016207766224631468), (3605, 0.0), (3606, 0.043049186275205445), (3607, 0.05584140575211796), (3608, 0.0), (3609, 0.0), (3610, 0.013554095355211102), (3611, 0.04358178396945381), (3612, 0.026687136289099918), (3613, 0.009234180308654139), (3614, 0.0), (3615, 0.011013662708139043), (3616, 0.06533472902426947), (3617, 0.0), (3618, 0.004228810531040094), (3619, 0.0107898123144096), (3620, 0.009116333975871164), (3621, 0.07320150979042392), (3622, 0.0), (3623, 0.0), (3624, 0.0), (3625, 0.0), (3626, 0.012033750842811452), (3627, 0.016531018307941157), (3628, 0.022888783936979774), (3629, 0.0), (3630, 0.01558987425518605), (3631, 0.03626752742010433), (3632, 0.07837866253705654), (3633, 0.025891988993422436), (3634, 0.0), (3635, 0.0), (3636, 0.0), (3637, 0.011386925712458282), (3638, 0.004973992651269209), (3639, 0.0), (3640, 0.0), (3641, 0.0038529692049307156), (3642, 0.0), (3643, 0.011658491182073242), (3644, 0.015064865788867112), (3645, 0.0), (3646, 0.01085136572772246), (3647, 0.012099743208783969), (3648, 0.05264952864177421), (3649, 0.0), (3650, 0.04667174033471748), (3651, 0.014895281109929125), (3652, 0.0), (3653, 0.03889805943070092), (3654, 0.004195743655625592), (3655, 0.003471948471639369), (3656, 0.016465655500948233), (3657, 0.031134531615646832), (3658, 0.02815222762107808), (3659, 0.08033437314702277), (3660, 0.09156161733706279), (3661, 0.004549999636937982), (3662, 0.050141948469535444), (3663, 0.0), (3664, 0.0), (3665, 0.05721419433613891), (3666, 0.015321755824177087), (3667, 0.0030501325026129154), (3668, 0.03459884942703041), (3669, 0.0), (3670, 0.0), (3671, 0.026054435944742313), (3672, 0.0), (3673, 0.019104511337029194), (3674, 0.02468891874454713), (3675, 0.0), (3676, 0.0), (3677, 0.008758393210869948), (3678, 0.01385206591486108), (3679, 0.0), (3680, 0.0), (3681, 0.017412283206002147), (3682, 0.008312507402481559), (3683, 0.033512484113879366), (3684, 0.017545164528659382), (3685, 0.03645356505040399), (3686, 0.0), (3687, 0.0), (3688, 0.0), (3689, 0.004126519549624465), (3690, 0.008154130184405249), (3691, 0.0), (3692, 0.0), (3693, 0.0), (3694, 0.0), (3695, 0.018067203738459922), (3696, 0.018973746214954096), (3697, 0.012497012623395126), (3698, 0.048601478632676054), (3699, 0.01824871552262082), (3700, 0.0), (3701, 0.011765095914052424), (3702, 0.0), (3703, 0.0), (3704, 0.008090379247009168), (3705, 0.02311384349569468), (3706, 0.011070668684836374), (3707, 0.0), (3708, 0.0), (3709, 0.01269105997829844), (3710, 0.015687758425321996), (3711, 0.01780300815912308), (3712, 0.0037790350213311305), (3713, 0.0033262295166495404), (3714, 0.0), (3715, 0.0), (3716, 0.014845759389552037), (3717, 0.0), (3718, 0.015103119428179528), (3719, 0.0), (3720, 0.0038499606068678476), (3721, 0.0), (3722, 0.03646880055840883), (3723, 0.0), (3724, 0.004230171582392114), (3725, 0.0), (3726, 0.006752810415771054), (3727, 0.0), (3728, 0.00800566584953259), (3729, 0.0), (3730, 0.017804890189335378), (3731, 0.011104192716635423), (3732, 0.0), (3733, 0.0), (3734, 0.020872019637836584), (3735, 0.023161712728968747), (3736, 0.011239782037882588), (3737, 0.01995010187730825), (3738, 0.01484243913621578), (3739, 0.004033353585195512), (3740, 0.0), (3741, 0.009268350277898985), (3742, 0.0), (3743, 0.031153386681653607), (3744, 0.0), (3745, 0.0), (3746, 0.03170080431228621), (3747, 0.035977310613641844), (3748, 0.003451794734190233), (3749, 0.0), (3750, 0.0), (3751, 0.012711513696724536), (3752, 0.02717148495060092), (3753, 0.013793520333036147), (3754, 0.010473708469590648), (3755, 0.0), (3756, 0.0), (3757, 0.0), (3758, 0.0), (3759, 0.014080128995876993), (3760, 0.0), (3761, 0.0), (3762, 0.0), (3763, 0.008823129326023273), (3764, 0.0), (3765, 0.007750655166342681), (3766, 0.0), (3767, 0.0), (3768, 0.012567580367464627), (3769, 0.03423139305124076), (3770, 0.0), (3771, 0.0), (3772, 0.025854962460594443), (3773, 0.012028172468359057), (3774, 0.0), (3775, 0.0), (3776, 0.026081081609169013), (3777, 0.004215167846155052), (3778, 0.004143966779574452), (3779, 0.0), (3780, 0.004259673867726893), (3781, 0.012531336044024559), (3782, 0.02284695984601822), (3783, 0.0), (3784, 0.003797333507780437), (3785, 0.06448910000124158), (3786, 0.0038278863198653638), (3787, 0.0), (3788, 0.0), (3789, 0.0), (3790, 0.021755066618171653), (3791, 0.0), (3792, 0.018169305083966362), (3793, 0.0), (3794, 0.03361912271207558), (3795, 0.0), (3796, 0.010354482242782709), (3797, 0.01795684394396737), (3798, 0.0), (3799, 0.0), (3800, 0.0), (3801, 0.013220712417088094), (3802, 0.027969566370249974), (3803, 0.021803636660313215), (3804, 0.0), (3805, 0.02087014731191164), (3806, 0.0), (3807, 0.007447310031741887), (3808, 0.05570031117537447), (3809, 0.011982987271476746), (3810, 0.004065229653935853), (3811, 0.0), (3812, 0.034988157734545104), (3813, 0.008168613710995276), (3814, 0.0), (3815, 0.0), (3816, 0.02292188641348869), (3817, 0.03776828597690605), (3818, 0.003956365610786035), (3819, 0.003766833341416298), (3820, 0.0), (3821, 0.0033457687090567394), (3822, 0.0395950105002003), (3823, 0.007502056266139118), (3824, 0.01116277922569107), (3825, 0.051812993121310436), (3826, 0.021938360527928163), (3827, 0.0), (3828, 0.0), (3829, 0.07930963362760816), (3830, 0.025342449141610237), (3831, 0.0043748520539723165), (3832, 0.0), (3833, 0.0), (3834, 0.0), (3835, 0.016817077454836477), (3836, 0.0), (3837, 0.0), (3838, 0.07743057834599947), (3839, 0.010787680218830302), (3840, 0.011628797190586845), (3841, 0.010291545656861387), (3842, 0.0), (3843, 0.04639986486318224), (3844, 0.0), (3845, 0.0), (3846, 0.021083543543786942), (3847, 0.021678389037448894), (3848, 0.0), (3849, 0.017150225874760776), (3850, 0.0), (3851, 0.032934452559713764), (3852, 0.08604789456857277), (3853, 0.0), (3854, 0.012040953995222878), (3855, 0.0033851350964826015), (3856, 0.010643259257425894), (3857, 0.0044311114257358395), (3858, 0.02726245203102094), (3859, 0.0), (3860, 0.055886663394748674), (3861, 0.010356192635562747), (3862, 0.0), (3863, 0.010509679222634388), (3864, 0.052792422344343386), (3865, 0.06404610701632357), (3866, 0.018774568992454745), (3867, 0.0), (3868, 0.0038172680292372185), (3869, 0.0), (3870, 0.08289999456762692), (3871, 0.07420709096244422), (3872, 0.0), (3873, 0.0), (3874, 0.0), (3875, 0.006485358136145332), (3876, 0.025569842295771812), (3877, 0.04797851213759022), (3878, 0.029860713733274192), (3879, 0.0), (3880, 0.0), (3881, 0.0), (3882, 0.03412341619008096), (3883, 0.0), (3884, 0.0), (3885, 0.0), (3886, 0.01564208900011229), (3887, 0.0), (3888, 0.0), (3889, 0.013337477124318261), (3890, 0.030349451283792666), (3891, 0.035051727464332535), (3892, 0.009732270955937764), (3893, 0.017530139714961545), (3894, 0.01798540410081121), (3895, 0.009930214652475778), (3896, 0.0), (3897, 0.004229847784121021), (3898, 0.0), (3899, 0.01776391912920208), (3900, 0.0), (3901, 0.0), (3902, 0.0), (3903, 0.013708906101660893), (3904, 0.0), (3905, 0.015609051247397436), (3906, 0.02602552236244478), (3907, 0.00827815742817571), (3908, 0.0), (3909, 0.022946464669775637), (3910, 0.04848714583882453), (3911, 0.0), (3912, 0.007648614033112868), (3913, 0.033179689211325115), (3914, 0.01774945514155692), (3915, 0.0), (3916, 0.020145195487763563), (3917, 0.036638221802392824), (3918, 0.0), (3919, 0.00417046297632841), (3920, 0.004132330671709671), (3921, 0.028221161331528383), (3922, 0.0), (3923, 0.006878972549293708), (3924, 0.018698729463330017), (3925, 0.0), (3926, 0.023208925323166277), (3927, 0.0033206499945318676), (3928, 0.003332476354111318), (3929, 0.0), (3930, 0.027651476264188242), (3931, 0.0), (3932, 0.0), (3933, 0.0), (3934, 0.0), (3935, 0.0), (3936, 0.0), (3937, 0.0), (3938, 0.008117320381892664), (3939, 0.0), (3940, 0.007446052808944364), (3941, 0.0), (3942, 0.0), (3943, 0.06398170886901364), (3944, 0.003215893162165977), (3945, 0.0), (3946, 0.0), (3947, 0.0), (3948, 0.02670710508149604), (3949, 0.0), (3950, 0.01367072762503846), (3951, 0.0046550503511884845), (3952, 0.0), (3953, 0.0), (3954, 0.0), (3955, 0.003981248738723304), (3956, 0.06238683905524445), (3957, 0.0032883354322910726), (3958, 0.0), (3959, 0.004132062834701352), (3960, 0.014761544180663493), (3961, 0.0), (3962, 0.0), (3963, 0.003959630122784791), (3964, 0.018441277757805977), (3965, 0.0), (3966, 0.012143687772002382), (3967, 0.0), (3968, 0.0), (3969, 0.021238253791144305), (3970, 0.0162690621302815), (3971, 0.0), (3972, 0.010344190708265361), (3973, 0.028175459247606494), (3974, 0.0), (3975, 0.0), (3976, 0.0), (3977, 0.0), (3978, 0.0), (3979, 0.024121606023021883), (3980, 0.009206409233236752), (3981, 0.0), (3982, 0.0), (3983, 0.009754744784259525), (3984, 0.015518913308802331), (3985, 0.0), (3986, 0.04872780712844962), (3987, 0.0), (3988, 0.0), (3989, 0.0), (3990, 0.01033361402862326), (3991, 0.01973912709054692), (3992, 0.0), (3993, 0.022725140339801386), (3994, 0.01964630258750323), (3995, 0.017119232966885223), (3996, 0.0), (3997, 0.012076443466998156), (3998, 0.003843501237533369), (3999, 0.0), (4000, 0.0), (4001, 0.007992419213387461), (4002, 0.00463315055314067), (4003, 0.054504509180481095), (4004, 0.011504092880921747), (4005, 0.0), (4006, 0.003987143516992401), (4007, 0.005672742822257725), (4008, 0.0), (4009, 0.023026171437586052), (4010, 0.02415146089654987), (4011, 0.0), (4012, 0.0037652325440691603), (4013, 0.035954698316348316), (4014, 0.0), (4015, 0.07209163047159722), (4016, 0.0), (4017, 0.0), (4018, 0.0), (4019, 0.0), (4020, 0.007344659185559148), (4021, 0.01046357609063378), (4022, 0.016934950287660764), (4023, 0.013396326158110696), (4024, 0.0), (4025, 0.008277761051238904), (4026, 0.0), (4027, 0.0), (4028, 0.0), (4029, 0.0), (4030, 0.0), (4031, 0.01341532010276468), (4032, 0.013965529807480571), (4033, 0.0), (4034, 0.023221280459079046), (4035, 0.0), (4036, 0.0), (4037, 0.0325645388141759), (4038, 0.004265104016338613), (4039, 0.0), (4040, 0.0), (4041, 0.0), (4042, 0.0), (4043, 0.0), (4044, 0.0), (4045, 0.0), (4046, 0.025917821734616077), (4047, 0.01554406550755619), (4048, 0.0), (4049, 0.0), (4050, 0.02923308902436828), (4051, 0.052318723146820394), (4052, 0.0), (4053, 0.0), (4054, 0.06277101439854324), (4055, 0.007196724513371982), (4056, 0.0), (4057, 0.016662347249291214), (4058, 0.0), (4059, 0.0037308411089967465), (4060, 0.0), (4061, 0.008715405809715648), (4062, 0.00483210085085716), (4063, 0.013618229035285425), (4064, 0.018068452265987543), (4065, 0.0), (4066, 0.018381437336460284), (4067, 0.0), (4068, 0.004053034135281978), (4069, 0.0), (4070, 0.022739574989226494), (4071, 0.0), (4072, 0.0), (4073, 0.0), (4074, 0.05039278105058567), (4075, 0.0), (4076, 0.014027417183228672), (4077, 0.004395866953991236), (4078, 0.0), (4079, 0.009362252029415912), (4080, 0.0), (4081, 0.011406506658514906), (4082, 0.0), (4083, 0.0), (4084, 0.0), (4085, 0.0), (4086, 0.022649674830179746), (4087, 0.0), (4088, 0.0), (4089, 0.07368944044485905), (4090, 0.03289718054426902), (4091, 0.004383574103009041), (4092, 0.0), (4093, 0.0), (4094, 0.0), (4095, 0.03131059590516536), (4096, 0.0), (4097, 0.0), (4098, 0.011627817763466811), (4099, 0.07506774798891455), (4100, 0.0), (4101, 0.0), (4102, 0.0), (4103, 0.0), (4104, 0.010366879225716386), (4105, 0.0), (4106, 0.017614439374237064), (4107, 0.0), (4108, 0.004464064162773005), (4109, 0.026722197547422936), (4110, 0.017149172051205697), (4111, 0.012520402256068451), (4112, 0.024324755218894867), (4113, 0.014932876196834722), (4114, 0.011668273721566941), (4115, 0.0), (4116, 0.0), (4117, 0.010309434379328603), (4118, 0.01667769566048898), (4119, 0.008868211818045894), (4120, 0.02977187239908495), (4121, 0.004537519626511424), (4122, 0.011216235781860488), (4123, 0.0), (4124, 0.02471442906302058), (4125, 0.033367329824982285), (4126, 0.0), (4127, 0.0), (4128, 0.0), (4129, 0.0), (4130, 0.0), (4131, 0.0), (4132, 0.017773453518384264), (4133, 0.0), (4134, 0.031179349828872955), (4135, 0.046501889453692685), (4136, 0.011954996868299433), (4137, 0.004026112641089095), (4138, 0.012963774444878362), (4139, 0.0), (4140, 0.016359890667745482), (4141, 0.0), (4142, 0.0), (4143, 0.011704306309440254), (4144, 0.034726018811637165), (4145, 0.0), (4146, 0.021431449625557986), (4147, 0.025237739956376057), (4148, 0.0), (4149, 0.026754486826689145), (4150, 0.0), (4151, 0.0), (4152, 0.05166974573158418), (4153, 0.0), (4154, 0.0), (4155, 0.01243933032466003), (4156, 0.0034971025713938764), (4157, 0.01124594389503937), (4158, 0.013985001649537424), (4159, 0.0), (4160, 0.008393851862719577), (4161, 0.0), (4162, 0.07353231300627112), (4163, 0.0), (4164, 0.060468460402893345), (4165, 0.010460989998639057), (4166, 0.0), (4167, 0.0), (4168, 0.030289501635038775), (4169, 0.009620273063214148), (4170, 0.0), (4171, 0.03296820806550882), (4172, 0.0), (4173, 0.059397679853652754), (4174, 0.04626943679285838), (4175, 0.0), (4176, 0.0036683929049964635), (4177, 0.01235729597751977), (4178, 0.07936242316907945), (4179, 0.0), (4180, 0.0), (4181, 0.0), (4182, 0.10499343399374056), (4183, 0.011002310871741992), (4184, 0.0), (4185, 0.0), (4186, 0.027240559826822535), (4187, 0.0), (4188, 0.0), (4189, 0.020679329433622235), (4190, 0.00892879037838514), (4191, 0.04573715160793545), (4192, 0.007726516078924639), (4193, 0.0), (4194, 0.014056020441996964), (4195, 0.020918300383152878), (4196, 0.022790851423131565), (4197, 0.023846108419022346), (4198, 0.0), (4199, 0.025966334938861843), (4200, 0.0), (4201, 0.014290509940976324), (4202, 0.0), (4203, 0.018879696662727062), (4204, 0.0), (4205, 0.01069024618897418), (4206, 0.0), (4207, 0.022715715746155808), (4208, 0.0), (4209, 0.0), (4210, 0.03713994551526145), (4211, 0.0), (4212, 0.0), (4213, 0.0), (4214, 0.014946969631890978), (4215, 0.0), (4216, 0.0), (4217, 0.003853259286014573), (4218, 0.02232142013022259), (4219, 0.0), (4220, 0.020014315664851283), (4221, 0.0), (4222, 0.0), (4223, 0.0), (4224, 0.0), (4225, 0.030195610685748733), (4226, 0.004361470890305315), (4227, 0.0), (4228, 0.0), (4229, 0.0), (4230, 0.0), (4231, 0.0), (4232, 0.0), (4233, 0.03663080528893722), (4234, 0.0), (4235, 0.0), (4236, 0.0), (4237, 0.08291397135353533), (4238, 0.0), (4239, 0.0), (4240, 0.01778046441573685), (4241, 0.012877480601621718), (4242, 0.025476850290716408), (4243, 0.0), (4244, 0.0), (4245, 0.012565920769746749), (4246, 0.0), (4247, 0.01080908552626424), (4248, 0.0), (4249, 0.0), (4250, 0.01401090996661949), (4251, 0.0), (4252, 0.019451053091355), (4253, 0.0), (4254, 0.0283231035255454), (4255, 0.0), (4256, 0.0), (4257, 0.0037582170994099368), (4258, 0.016314275705023584), (4259, 0.008315845660859439), (4260, 0.023389607809068274), (4261, 0.0), (4262, 0.004141867367760589), (4263, 0.021839236945158148), (4264, 0.0), (4265, 0.008444261166780674), (4266, 0.0), (4267, 0.009162035078528932), (4268, 0.02515641154697675), (4269, 0.004279267054314426), (4270, 0.04069188554954187), (4271, 0.004936515768826406), (4272, 0.0037847849950134486), (4273, 0.0), (4274, 0.0), (4275, 0.0), (4276, 0.033630763307716034), (4277, 0.03373654953365996), (4278, 0.0), (4279, 0.015575487383447717), (4280, 0.059454789844730675), (4281, 0.004610931201483614), (4282, 0.011017078970741756), (4283, 0.03882422515878264), (4284, 0.0039144357285786704), (4285, 0.0), (4286, 0.02339693428929617), (4287, 0.03382371546310423), (4288, 0.0), (4289, 0.01207363718222541), (4290, 0.021847273354903163), (4291, 0.0), (4292, 0.01226793187746484), (4293, 0.0), (4294, 0.0), (4295, 0.013353318029936065), (4296, 0.0), (4297, 0.023684060891617426), (4298, 0.0), (4299, 0.0), (4300, 0.0), (4301, 0.0), (4302, 0.0), (4303, 0.034269406131827336), (4304, 0.017796185575232912), (4305, 0.0), (4306, 0.0), (4307, 0.018538565683597758), (4308, 0.0), (4309, 0.0158381441826202), (4310, 0.0), (4311, 0.0), (4312, 0.008572508252053874), (4313, 0.0), (4314, 0.0290949017378844), (4315, 0.0), (4316, 0.0), (4317, 0.0), (4318, 0.0), (4319, 0.0), (4320, 0.011314913087218489), (4321, 0.0), (4322, 0.0), (4323, 0.014161327801150913), (4324, 0.013633448764795643), (4325, 0.023428037761739788), (4326, 0.0), (4327, 0.011398074934136434), (4328, 0.007453882956047904), (4329, 0.03484774990006883), (4330, 0.011482457379935935), (4331, 0.0), (4332, 0.008656430609540357), (4333, 0.0), (4334, 0.04006206700373659), (4335, 0.0), (4336, 0.037769816353130314), (4337, 0.059838694359907754), (4338, 0.025967231218402897), (4339, 0.0036442644158944312), (4340, 0.007743016909582166), (4341, 0.02482869941442411), (4342, 0.022964082898903435), (4343, 0.007988341435180426), (4344, 0.026241708280301906), (4345, 0.02099086326987575), (4346, 0.02428344687214789), (4347, 0.05888636749270308), (4348, 0.01055364374697665), (4349, 0.0), (4350, 0.010224587437568777), (4351, 0.02672468002000994), (4352, 0.0), (4353, 0.0034645877730699252), (4354, 0.0), (4355, 0.0), (4356, 0.006962570668257454), (4357, 0.0), (4358, 0.023529337874264256), (4359, 0.0), (4360, 0.0), (4361, 0.0), (4362, 0.04973936368739161), (4363, 0.004178413388281971), (4364, 0.018848169453973256), (4365, 0.0), (4366, 0.010199683047928324), (4367, 0.0), (4368, 0.004489973687035592), (4369, 0.0), (4370, 0.0), (4371, 0.02718739336024553), (4372, 0.016691931954572962), (4373, 0.003003244395436149), (4374, 0.09087169166677277), (4375, 0.0), (4376, 0.016698835414461623), (4377, 0.0), (4378, 0.022408783767233223), (4379, 0.00413349480693472), (4380, 0.02871225934431597), (4381, 0.0), (4382, 0.0), (4383, 0.0), (4384, 0.0), (4385, 0.0), (4386, 0.0), (4387, 0.0038900522960415586), (4388, 0.020789980254526223), (4389, 0.0), (4390, 0.0), (4391, 0.0), (4392, 0.0), (4393, 0.0), (4394, 0.07146936294133675), (4395, 0.0184476818768033), (4396, 0.021461194307688045), (4397, 0.008331998136165076), (4398, 0.0), (4399, 0.007540718242458272), (4400, 0.0), (4401, 0.056050097330945695), (4402, 0.01733374687196565), (4403, 0.0), (4404, 0.0), (4405, 0.02618885182304971), (4406, 0.004219852235778666), (4407, 0.01930175417768423), (4408, 0.0), (4409, 0.01222534259865536), (4410, 0.03475486902821874), (4411, 0.046592719248726905), (4412, 0.0), (4413, 0.0), (4414, 0.015537714974885233), (4415, 0.0), (4416, 0.0), (4417, 0.0), (4418, 0.0), (4419, 0.0), (4420, 0.028362393742195437), (4421, 0.024417733865815094), (4422, 0.012086239295639895), (4423, 0.0), (4424, 0.0), (4425, 0.0), (4426, 0.02320854526916151), (4427, 0.023971753869611746), (4428, 0.0037882303317396623), (4429, 0.0), (4430, 0.023787357890055445), (4431, 0.008533044132860572), (4432, 0.019369406203775943), (4433, 0.03288939804773298), (4434, 0.0), (4435, 0.0), (4436, 0.004301932827034811), (4437, 0.0), (4438, 0.011002330143491793), (4439, 0.0), (4440, 0.01450703510208501), (4441, 0.012368884199105378), (4442, 0.003869644857036126), (4443, 0.027109189880783084), (4444, 0.005226016931879759), (4445, 0.006779890307528512), (4446, 0.0), (4447, 0.0067921858316365), (4448, 0.004166369544735572), (4449, 0.004681051654418395), (4450, 0.0035365033088380344), (4451, 0.010655695412170913), (4452, 0.0), (4453, 0.0), (4454, 0.03196065407723863), (4455, 0.025188410242536822), (4456, 0.02725317403842606), (4457, 0.020853869414761642), (4458, 0.0), (4459, 0.007676089083056547), (4460, 0.017380644802741933), (4461, 0.0), (4462, 0.004508424330967047), (4463, 0.0), (4464, 0.0), (4465, 0.0), (4466, 0.011812108361188654), (4467, 0.004120951253226469), (4468, 0.0), (4469, 0.0), (4470, 0.0), (4471, 0.0), (4472, 0.019817937119795452), (4473, 0.0034745883403784466), (4474, 0.0), (4475, 0.0), (4476, 0.0), (4477, 0.004660869320101603), (4478, 0.04980987048996482), (4479, 0.010771833229062567), (4480, 0.0), (4481, 0.0038117470848522067), (4482, 0.011382190954274313), (4483, 0.008930743348357976), (4484, 0.0), (4485, 0.026787273437552463), (4486, 0.0041351711479797205), (4487, 0.016267935287309215), (4488, 0.0), (4489, 0.0), (4490, 0.0), (4491, 0.0), (4492, 0.0267703840639772), (4493, 0.0), (4494, 0.0), (4495, 0.0), (4496, 0.025968163243509576), (4497, 0.0), (4498, 0.041187867013971036), (4499, 0.0), (4500, 0.04486708086544296), (4501, 0.007563756906382575), (4502, 0.010360538790838016), (4503, 0.004023519771994265), (4504, 0.01479885572624794), (4505, 0.0), (4506, 0.0), (4507, 0.0), (4508, 0.0), (4509, 0.0), (4510, 0.0), (4511, 0.01560060286347299), (4512, 0.0), (4513, 0.0), (4514, 0.0), (4515, 0.012770177509208471), (4516, 0.008584843472818855), (4517, 0.0), (4518, 0.017913411944675335), (4519, 0.04445664620481139), (4520, 0.0), (4521, 0.0), (4522, 0.0), (4523, 0.06265806315110727), (4524, 0.05376289171291647), (4525, 0.0), (4526, 0.02387354792781368), (4527, 0.0), (4528, 0.0), (4529, 0.0), (4530, 0.011438248935885485), (4531, 0.014430126298870296), (4532, 0.0), (4533, 0.0), (4534, 0.008783780782627156), (4535, 0.0), (4536, 0.0), (4537, 0.0), (4538, 0.0), (4539, 0.0), (4540, 0.0), (4541, 0.006516261824250163), (4542, 0.0), (4543, 0.0), (4544, 0.0), (4545, 0.0), (4546, 0.0), (4547, 0.0), (4548, 0.0228394101652056), (4549, 0.004425682000122468), (4550, 0.0038675734417611325), (4551, 0.018825178282590182), (4552, 0.0), (4553, 0.010753445162184789), (4554, 0.027006895615879288), (4555, 0.02026274454700737), (4556, 0.0), (4557, 0.0), (4558, 0.010247613376301038), (4559, 0.02172674525732453), (4560, 0.0), (4561, 0.0), (4562, 0.016701922051015804), (4563, 0.0), (4564, 0.003841327708903179), (4565, 0.0), (4566, 0.03032322357366152), (4567, 0.008631586735187406), (4568, 0.00745788054015843), (4569, 0.02226050293708714), (4570, 0.02502076685123705), (4571, 0.0), (4572, 0.0), (4573, 0.0), (4574, 0.0), (4575, 0.0), (4576, 0.03948461775830983), (4577, 0.0), (4578, 0.0), (4579, 0.02852426265280855), (4580, 0.0), (4581, 0.0), (4582, 0.020550832302864898), (4583, 0.0), (4584, 0.0), (4585, 0.0), (4586, 0.0), (4587, 0.008607531607571765), (4588, 0.0), (4589, 0.009339073556567188), (4590, 0.0035723611802125216), (4591, 0.01143789518124222), (4592, 0.0039771395658413896), (4593, 0.0), (4594, 0.004699094249174231), (4595, 0.0), (4596, 0.007032449999657695), (4597, 0.0), (4598, 0.02142941955123763), (4599, 0.008587622630142792), (4600, 0.0036509489284055467), (4601, 0.0), (4602, 0.0), (4603, 0.0), (4604, 0.026374155425384127), (4605, 0.04494312335205651), (4606, 0.011433614341137646), (4607, 0.013114474115035408), (4608, 0.0), (4609, 0.011776031857749836), (4610, 0.010321390001825755), (4611, 0.0), (4612, 0.004966542600388005), (4613, 0.018455773968113185), (4614, 0.0), (4615, 0.0), (4616, 0.010803895535184585), (4617, 0.0), (4618, 0.0), (4619, 0.0), (4620, 0.0), (4621, 0.004168894925197958), (4622, 0.0), (4623, 0.02030145705980358), (4624, 0.008366888504856312), (4625, 0.022977406085129156), (4626, 0.0), (4627, 0.00973365292011582), (4628, 0.011708476894165584), (4629, 0.0041618023760682694), (4630, 0.03423637277498767), (4631, 0.0), (4632, 0.0), (4633, 0.026007094330382122), (4634, 0.003722637977153583), (4635, 0.005674550879592116), (4636, 0.0), (4637, 0.0), (4638, 0.0), (4639, 0.0), (4640, 0.060202426829973926), (4641, 0.06077044459121483), (4642, 0.0), (4643, 0.0), (4644, 0.0), (4645, 0.0), (4646, 0.005086604610033374), (4647, 0.05335692682497975), (4648, 0.0), (4649, 0.003663792872985915), (4650, 0.03659109138542848), (4651, 0.0), (4652, 0.006098762324608132), (4653, 0.0), (4654, 0.0), (4655, 0.0), (4656, 0.0), (4657, 0.0), (4658, 0.04853401777843436), (4659, 0.0043051335827940344), (4660, 0.00491953169742415), (4661, 0.010055243410166285), (4662, 0.03775994292241923), (4663, 0.016604517951419814), (4664, 0.0), (4665, 0.04651126020052067), (4666, 0.0), (4667, 0.0), (4668, 0.0), (4669, 0.0), (4670, 0.0), (4671, 0.0), (4672, 0.0), (4673, 0.0), (4674, 0.02091580701137918), (4675, 0.029833665870198076), (4676, 0.014593153442322487), (4677, 0.009128221362960078), (4678, 0.0), (4679, 0.007014794185742669), (4680, 0.0), (4681, 0.0), (4682, 0.007742266985955065), (4683, 0.00906172420200677), (4684, 0.0), (4685, 0.003916791046665959), (4686, 0.0040138158215351615), (4687, 0.003900914944862807), (4688, 0.03583089319117351), (4689, 0.0036403418544364795), (4690, 0.0), (4691, 0.0), (4692, 0.0), (4693, 0.0), (4694, 0.0), (4695, 0.0320938824882342), (4696, 0.0), (4697, 0.0), (4698, 0.0), (4699, 0.0), (4700, 0.0), (4701, 0.0), (4702, 0.0), (4703, 0.012535251015460847), (4704, 0.0), (4705, 0.0), (4706, 0.0), (4707, 0.0), (4708, 0.0), (4709, 0.0), (4710, 0.0), (4711, 0.008836043165292918), (4712, 0.0), (4713, 0.0), (4714, 0.0), (4715, 0.0), (4716, 0.04141097299596009), (4717, 0.0), (4718, 0.03387730894613135), (4719, 0.0), (4720, 0.0), (4721, 0.015306133014891893), (4722, 0.0), (4723, 0.0), (4724, 0.0), (4725, 0.0), (4726, 0.010965147626414637), (4727, 0.0), (4728, 0.012431865588578603), (4729, 0.0), (4730, 0.00891828900418602), (4731, 0.0), (4732, 0.01672404136672495), (4733, 0.0), (4734, 0.0), (4735, 0.03435790600379395), (4736, 0.009025805626407698), (4737, 0.008488690515713005), (4738, 0.04687406524824611), (4739, 0.0), (4740, 0.009719337253206945), (4741, 0.0), (4742, 0.0), (4743, 0.019880327124847816), (4744, 0.0), (4745, 0.011545203415282736), (4746, 0.025099716510051957), (4747, 0.02939717643996509), (4748, 0.0034551696033716917), (4749, 0.0), (4750, 0.0), (4751, 0.0), (4752, 0.021553395378158452), (4753, 0.0), (4754, 0.056938837475992085), (4755, 0.004013697099984725), (4756, 0.017144932782886133), (4757, 0.0), (4758, 0.0801487560255549), (4759, 0.0)]\n"
          ]
        }
      ]
    },
    {
      "cell_type": "markdown",
      "source": [
        "# **Get All Movies Sort Based on Recommendation Score wrt Favourite Movie**"
      ],
      "metadata": {
        "id": "EuqZxqbeHIvr"
      }
    },
    {
      "cell_type": "code",
      "source": [
        "len(Recommendation_Score)"
      ],
      "metadata": {
        "colab": {
          "base_uri": "https://localhost:8080/"
        },
        "id": "QAqy6d9pA3Xt",
        "outputId": "a5e02be3-b270-49de-e1ad-583e08ec2940"
      },
      "execution_count": 32,
      "outputs": [
        {
          "output_type": "execute_result",
          "data": {
            "text/plain": [
              "4760"
            ]
          },
          "metadata": {},
          "execution_count": 32
        }
      ]
    },
    {
      "cell_type": "code",
      "source": [
        "Sorted_Similar_Movies = sorted(Recommendation_Score, key = lambda x:x[1], reverse = True)\n",
        "print(Sorted_Similar_Movies)"
      ],
      "metadata": {
        "colab": {
          "base_uri": "https://localhost:8080/"
        },
        "id": "GtpYYx2cA3aV",
        "outputId": "b05634c6-da6b-49e2-e2c6-29813f942bff"
      },
      "execution_count": 33,
      "outputs": [
        {
          "output_type": "stream",
          "name": "stdout",
          "text": [
            "[(2, 1.0), (1714, 0.1875935306279091), (247, 0.15081938814672577), (3467, 0.14647318067016868), (3162, 0.13915488516680707), (3181, 0.13101873188620575), (709, 0.12836138296171648), (230, 0.12167721115770525), (1473, 0.11824097359319923), (1862, 0.11629897111683915), (3256, 0.11558704877764753), (178, 0.11114684583725923), (2040, 0.10916210938064652), (3390, 0.10731942392265949), (182, 0.10680811738851484), (2647, 0.10610558454863812), (1276, 0.1053435194920348), (4182, 0.10499343399374056), (1834, 0.10460215898310789), (2264, 0.10344953224660139), (1758, 0.10129233485516158), (106, 0.09988059705340355), (1319, 0.09870545518371748), (2135, 0.09848015055476252), (1251, 0.09798035416293527), (2322, 0.09782933850237874), (2897, 0.09714947434738228), (794, 0.09647109437560555), (1182, 0.0952795843882984), (1646, 0.09401965915647886), (1477, 0.0933170796924071), (3660, 0.09156161733706279), (4374, 0.09087169166677277), (2591, 0.09086127146024525), (1886, 0.0902274007639726), (2098, 0.08877148336503604), (3144, 0.08842459445685977), (1524, 0.08619562085485544), (3852, 0.08604789456857277), (1176, 0.0857366338655751), (2615, 0.08535993272830242), (1557, 0.08327851036246037), (2016, 0.0832304704393094), (705, 0.08303733248072907), (4237, 0.08291397135353533), (3870, 0.08289999456762692), (293, 0.08222787892593371), (286, 0.08179216922562124), (3471, 0.08162256634106319), (3659, 0.08033437314702277), (4758, 0.0801487560255549), (1810, 0.08010108325360485), (1327, 0.0795037558401189), (4178, 0.07936242316907945), (3829, 0.07930963362760816), (691, 0.0792502725470138), (1700, 0.07911972533748853), (752, 0.079028605366318), (2433, 0.0789237028502397), (989, 0.07886546498466679), (3632, 0.07837866253705654), (1305, 0.07804956502295116), (3838, 0.07743057834599947), (2335, 0.07735859928221596), (385, 0.07659877125943576), (619, 0.07583122038028917), (14, 0.07556004015454372), (2568, 0.07539160501008227), (4099, 0.07506774798891455), (2359, 0.07462260192745107), (3283, 0.07451804114763955), (1860, 0.07445940394624172), (3871, 0.07420709096244422), (1813, 0.07396329217605654), (1737, 0.0738101188276166), (4089, 0.07368944044485905), (4162, 0.07353231300627112), (3621, 0.07320150979042392), (1072, 0.07285609609625596), (185, 0.07269734520464835), (3415, 0.0723907668030578), (2623, 0.07232393083619368), (4015, 0.07209163047159722), (3201, 0.07202642708266355), (624, 0.07193234343799114), (2682, 0.07175342739164206), (4394, 0.07146936294133675), (1257, 0.07081659654429157), (1009, 0.07009660436260241), (2835, 0.0700526500776421), (1505, 0.06999637920473625), (459, 0.0699230787856735), (2938, 0.06958260068910296), (3213, 0.06926813894956929), (698, 0.0689890991239911), (3030, 0.06894700767434564), (353, 0.0689363473406163), (2654, 0.068431423423113), (198, 0.06765393882253844), (2857, 0.06753620424726921), (1964, 0.06752809630186556), (3120, 0.06750882634324287), (3540, 0.06724386005195462), (2443, 0.0671545178797949), (2809, 0.06651056342306125), (1544, 0.0663989996217768), (1586, 0.06635720998243683), (540, 0.06632683796927577), (2321, 0.0656370397786452), (474, 0.0653657901360655), (3616, 0.06533472902426947), (1584, 0.0651370391162525), (2813, 0.06507382071091719), (853, 0.06506830504596757), (144, 0.06465328123723112), (3785, 0.06448910000124158), (1673, 0.06441719204428865), (1888, 0.06406932073118352), (3865, 0.06404610701632357), (3943, 0.06398170886901364), (1409, 0.06333176351855191), (1107, 0.06329891520476336), (1076, 0.06319092630686879), (3225, 0.06303302532566536), (4054, 0.06277101439854324), (4523, 0.06265806315110727), (2234, 0.06252860632691251), (756, 0.062444201858107784), (3956, 0.06238683905524445), (2111, 0.06229344000626288), (3116, 0.06223772017955976), (146, 0.06218920977537018), (1903, 0.06190377889598549), (1433, 0.061769200180384176), (730, 0.06169049237524733), (2393, 0.06152661757645346), (1974, 0.060977439086903146), (1038, 0.060897949181034486), (4641, 0.06077044459121483), (4164, 0.060468460402893345), (3509, 0.06040789697546231), (4640, 0.060202426829973926), (166, 0.059944777685760675), (2747, 0.05993489339551755), (4337, 0.059838694359907754), (3212, 0.05980005226191414), (427, 0.05952617414270285), (4280, 0.059454789844730675), (4173, 0.059397679853652754), (463, 0.05920789368626368), (1523, 0.058946288110130106), (4347, 0.05888636749270308), (1046, 0.058879041856280234), (2145, 0.05865938154209784), (2365, 0.05854109092222308), (1279, 0.05848771551583694), (3208, 0.05835877952922548), (1067, 0.05825973221163233), (1210, 0.058213162103816656), (362, 0.05816547028837929), (530, 0.058143125816754716), (2752, 0.058059654765039964), (3559, 0.05797677337941172), (2406, 0.05777156895906732), (584, 0.05767950572014502), (3331, 0.05765921096617015), (3665, 0.05721419433613891), (4754, 0.056938837475992085), (2445, 0.056732547539984815), (2250, 0.05659857169643365), (2161, 0.05647127129031093), (2061, 0.05613437405120542), (2290, 0.056053684134859685), (4401, 0.056050097330945695), (421, 0.05596523424134083), (179, 0.05593184131759801), (3860, 0.055886663394748674), (3607, 0.05584140575211796), (121, 0.055837726387190076), (2041, 0.055808137950387776), (347, 0.05570741584486839), (3808, 0.05570031117537447), (160, 0.05529907503948415), (137, 0.055276643392279), (1212, 0.05503619618676682), (2668, 0.054802659195864384), (3257, 0.05475224720073647), (2584, 0.05473616395819485), (881, 0.054633931772852924), (53, 0.05463201704510032), (3027, 0.05459154483454677), (1041, 0.05458023575646478), (4003, 0.054504509180481095), (665, 0.05450330258808546), (640, 0.054391275255622276), (1405, 0.054386536410671545), (911, 0.05431600819620214), (1959, 0.054266680504886526), (2263, 0.05416115415818539), (988, 0.05379140853889612), (4524, 0.05376289171291647), (1195, 0.05371346011570637), (3461, 0.05358830588902368), (4647, 0.05335692682497975), (562, 0.05332785078845024), (1092, 0.053249368909611496), (3260, 0.05313490690889292), (2299, 0.053048542604992206), (1771, 0.05301892193935142), (3864, 0.052792422344343386), (566, 0.05274775552895945), (3648, 0.05264952864177421), (173, 0.05257767404040811), (643, 0.05247915867042954), (341, 0.05237168735590404), (2102, 0.052327558689021926), (4051, 0.052318723146820394), (2370, 0.05226547647419866), (1465, 0.05222080897250415), (130, 0.052119146571675164), (70, 0.051830858896982676), (3825, 0.051812993121310436), (2854, 0.051755720459247735), (4152, 0.05166974573158418), (2806, 0.051596535560525486), (546, 0.05135515834792592), (1496, 0.05117493352845151), (2292, 0.051094799523582354), (3515, 0.051063379515433965), (1450, 0.05086589353141426), (2138, 0.050854695063958524), (946, 0.05085369591480571), (548, 0.05078500904144502), (1094, 0.05061732674872316), (361, 0.0505708832943194), (2553, 0.05044693299666424), (4074, 0.05039278105058567), (768, 0.05030552369256806), (1833, 0.05017074769037358), (3662, 0.050141948469535444), (239, 0.04997875318075094), (4478, 0.04980987048996482), (780, 0.04980418765517833), (2824, 0.04978102540560873), (4362, 0.04973936368739161), (1927, 0.04942187373264855), (1842, 0.049094452385821975), (3288, 0.049084731094317754), (3489, 0.04890387838037329), (1284, 0.04883520229972121), (3986, 0.04872780712844962), (2190, 0.048687882191858364), (3698, 0.048601478632676054), (4658, 0.04853401777843436), (488, 0.04852416754851677), (3910, 0.04848714583882453), (2197, 0.04843987585382947), (1365, 0.048379477170207505), (815, 0.04834067414672934), (517, 0.04810669693281067), (217, 0.04809218953735432), (1950, 0.04799146196419672), (1845, 0.04798903535290741), (3877, 0.04797851213759022), (862, 0.04780541071097729), (1460, 0.04767033763621774), (2753, 0.04766800109813059), (2760, 0.04763287146632145), (356, 0.04760500915023405), (355, 0.04752099575335493), (651, 0.047432803257335704), (2710, 0.0473039706178224), (91, 0.04717476783948937), (2509, 0.04715349797909669), (1920, 0.0470667413981567), (2340, 0.04701152005018921), (140, 0.0469929433988967), (3346, 0.04695148733912141), (2560, 0.04691476336528272), (4738, 0.04687406524824611), (3199, 0.04671709215460277), (1647, 0.04668785688832468), (3650, 0.04667174033471748), (854, 0.0466094308114837), (4411, 0.046592719248726905), (3091, 0.04655519696467046), (4665, 0.04651126020052067), (4135, 0.046501889453692685), (2329, 0.04648890501770147), (1578, 0.0464500545885289), (3843, 0.04639986486318224), (3302, 0.04638015135378244), (4174, 0.04626943679285838), (695, 0.04620709879699616), (615, 0.046175188763567354), (1364, 0.04615526925594328), (3412, 0.04595423641381577), (4191, 0.04573715160793545), (3531, 0.045485102219215895), (1789, 0.04542490731505554), (472, 0.045399395680583154), (2720, 0.04521002710753387), (1010, 0.04510663677518836), (3228, 0.045100434243942666), (1254, 0.045011803087195254), (2782, 0.044960306278513704), (4605, 0.04494312335205651), (1715, 0.04493049438960399), (1082, 0.04492229163292613), (1529, 0.04486915099531856), (4500, 0.04486708086544296), (932, 0.044845671090827245), (2980, 0.04476672397027531), (839, 0.04469605193566029), (1778, 0.044481463915073544), (4519, 0.04445664620481139), (155, 0.044455439372596654), (1180, 0.043816782593937086), (852, 0.04380510459858668), (1178, 0.04380420273536413), (2611, 0.043779866554153134), (3270, 0.043718194536121135), (392, 0.04370859507739909), (2360, 0.04360657145462647), (3611, 0.04358178396945381), (2532, 0.04331156628245157), (2814, 0.04316788992797461), (24, 0.043138053214853325), (3606, 0.043049186275205445), (2218, 0.04288424613157417), (1079, 0.042699846308141304), (2507, 0.04234128496883923), (2719, 0.04233629272844236), (856, 0.042234907157358725), (2713, 0.042215067151325496), (2517, 0.04218262422764951), (1574, 0.042167569263204634), (1726, 0.04211190240118237), (346, 0.04208558013371119), (1495, 0.04192431876328212), (1383, 0.041898844729072876), (3548, 0.041750227673031895), (724, 0.041612967847420135), (187, 0.04150303331327827), (1459, 0.04141728355508405), (4716, 0.04141097299596009), (1855, 0.041406811531172955), (2704, 0.04135480333397441), (3129, 0.04135369776921624), (1676, 0.041324559838380105), (1282, 0.0412390245240362), (4498, 0.041187867013971036), (1403, 0.0411488750953945), (1937, 0.04102945446277875), (2649, 0.04101294000832332), (1944, 0.04098037216850309), (1664, 0.0407823760654175), (1339, 0.04077001648960307), (4270, 0.04069188554954187), (3361, 0.040469026245519235), (2283, 0.04043115488045769), (1050, 0.04041804315004597), (108, 0.04039820061907953), (1609, 0.04034506908754054), (3003, 0.040321097557825376), (2266, 0.04031246057619467), (2789, 0.040251115770640104), (928, 0.040243791494252376), (1594, 0.040196425301585695), (2660, 0.04011440652543141), (2759, 0.040104835628582185), (1004, 0.0400832507425447), (4334, 0.04006206700373659), (879, 0.04001689998033585), (2221, 0.0399773359720217), (1351, 0.03988547106676674), (26, 0.03985267406354876), (3119, 0.03980520048619642), (2510, 0.039763733772875856), (3457, 0.03967870978559665), (880, 0.03961501978855439), (2473, 0.039599617129819464), (3822, 0.0395950105002003), (2280, 0.039580367342069274), (855, 0.039489575489315046), (4576, 0.03948461775830983), (437, 0.0394580045596585), (912, 0.0393227377654175), (1226, 0.03925761560533473), (2113, 0.039257418242482564), (1202, 0.0392561483495896), (1016, 0.03917991782061713), (2925, 0.039086057988002465), (2766, 0.03895430216690845), (2060, 0.03895299751244288), (2121, 0.038942962361369904), (3653, 0.03889805943070092), (1743, 0.03889420082464835), (4283, 0.03882422515878264), (1468, 0.038687619628117016), (231, 0.03868081482291047), (706, 0.03865311503734277), (461, 0.03863699237726066), (1698, 0.03863046470763417), (1634, 0.03860101579022681), (2570, 0.0385330665729538), (1485, 0.03851587307921809), (2856, 0.03845886771580324), (2921, 0.03815393108451097), (2944, 0.038032619675238105), (1861, 0.03802618784756578), (953, 0.03801191292839016), (1454, 0.03798694099284981), (79, 0.03796869535565038), (337, 0.03792572278886035), (2114, 0.037771932091385026), (4336, 0.037769816353130314), (3817, 0.03776828597690605), (4662, 0.03775994292241923), (3092, 0.03736275200961225), (233, 0.0373143273607172), (621, 0.03729801615372874), (3379, 0.03727097726957207), (3495, 0.0371788498984867), (596, 0.0371696636647386), (4210, 0.03713994551526145), (2201, 0.03712532462009778), (755, 0.03708403388843285), (1972, 0.037012402045817995), (931, 0.036993933880348884), (3562, 0.03695377377142941), (3109, 0.03683355541697145), (3917, 0.036638221802392824), (4233, 0.03663080528893722), (508, 0.03662331212896815), (699, 0.03661730041575848), (915, 0.036616638382248025), (4650, 0.03659109138542848), (1338, 0.036551834842487), (3103, 0.03647082905119451), (3722, 0.03646880055840883), (3685, 0.03645356505040399), (894, 0.036383706228617446), (165, 0.03637390092141753), (1788, 0.036370318997319226), (363, 0.036310261274221246), (1817, 0.036285704906711555), (2372, 0.03627975518462159), (1481, 0.03627174305649564), (3631, 0.03626752742010433), (1824, 0.036259245927602754), (3320, 0.036220319233413796), (3298, 0.036201011595064), (2646, 0.0361922187190697), (270, 0.03617017271210037), (3238, 0.036073552311471246), (2667, 0.03606014062138862), (1724, 0.03604158259338095), (2671, 0.03598029784197179), (3747, 0.035977310613641844), (4013, 0.035954698316348316), (3484, 0.03594406332551596), (27, 0.03592584129699408), (4688, 0.03583089319117351), (2884, 0.0357668376527903), (3229, 0.03571062468354526), (0, 0.0357046810425853), (1080, 0.035700418973639056), (1602, 0.035665721064448805), (1336, 0.03564938420974782), (1412, 0.03558397388000769), (3111, 0.0355229050208648), (269, 0.03550239365810659), (1333, 0.0354352333402347), (2332, 0.03542428705159195), (1478, 0.035329832814987604), (2502, 0.03525274910897368), (1568, 0.03520135838307459), (703, 0.0351873905801558), (410, 0.035160309454540364), (86, 0.03515423514630092), (1291, 0.03514499358586666), (850, 0.03514127725457675), (3891, 0.035051727464332535), (498, 0.03502068171474208), (1002, 0.03500965151079361), (3812, 0.034988157734545104), (731, 0.03497676552718027), (219, 0.03497550793120994), (2100, 0.0349500266367255), (212, 0.03489525556969695), (4329, 0.03484774990006883), (1935, 0.03483088592712664), (1600, 0.03482620232116452), (429, 0.03476707084862035), (4410, 0.03475486902821874), (4144, 0.034726018811637165), (3380, 0.0347113357135532), (265, 0.03466624087909884), (2196, 0.03462770901420753), (1021, 0.034598943740087616), (3668, 0.03459884942703041), (3488, 0.03458460963358733), (1389, 0.034581081491053586), (2392, 0.034552769430049896), (1682, 0.0345416812534365), (2580, 0.03442121942325404), (3308, 0.034373949410905054), (4735, 0.03435790600379395), (3104, 0.0343025532955279), (4303, 0.034269406131827336), (1720, 0.034238121552016436), (4630, 0.03423637277498767), (3769, 0.03423139305124076), (3882, 0.03412341619008096), (1760, 0.034111145997375615), (1561, 0.03410619618885564), (778, 0.03398609011078535), (1926, 0.03394853230009058), (1356, 0.033947671854614045), (4718, 0.03387730894613135), (1166, 0.03387201713139378), (1241, 0.033830808203472), (4287, 0.03382371546310423), (4277, 0.03373654953365996), (567, 0.033725767218938676), (1933, 0.03371191227409723), (753, 0.033657319023666254), (133, 0.033651288879689024), (4276, 0.033630763307716034), (3794, 0.03361912271207558), (560, 0.03360362001807043), (2864, 0.03360315005412408), (1799, 0.033587205676905756), (2541, 0.03357115819371237), (2908, 0.033567026237211396), (994, 0.033560609513548854), (3683, 0.033512484113879366), (1764, 0.03337935636959055), (3286, 0.03337445733103648), (4125, 0.033367329824982285), (2073, 0.03336673487586475), (2666, 0.03333664465234431), (2583, 0.033320098859804824), (3297, 0.03326330392522704), (324, 0.03323605286521054), (717, 0.03321536663691525), (524, 0.03320207789868638), (887, 0.03319542888407057), (2588, 0.03318710604297702), (3913, 0.033179689211325115), (3506, 0.033176124820740276), (1315, 0.033166647863998026), (2005, 0.03303991044319317), (1101, 0.03298767732896208), (1629, 0.0329789524752669), (806, 0.03297029571514736), (4171, 0.03296820806550882), (3851, 0.032934452559713764), (2408, 0.03290417268467845), (4090, 0.03289718054426902), (4433, 0.03288939804773298), (948, 0.032887064714061345), (1953, 0.032865744996401144), (2965, 0.032853079677528), (3272, 0.032848413372630336), (594, 0.03284253602683112), (2411, 0.0325718512331006), (4037, 0.0325645388141759), (281, 0.032472924397338), (2644, 0.032411991027673594), (3373, 0.032375772193815475), (2316, 0.03235456000082871), (1025, 0.032316206592820945), (2831, 0.03231182166644513), (2398, 0.03226831796038451), (2852, 0.03222860518774136), (2037, 0.03218488433331999), (1762, 0.032169351886184167), (4695, 0.0320938824882342), (2662, 0.032000850712250874), (1606, 0.031978296700292744), (4454, 0.03196065407723863), (1555, 0.03183375949817642), (96, 0.03179196364075597), (2661, 0.03173497417250654), (3746, 0.03170080431228621), (1564, 0.031633724802306765), (662, 0.03163370604714977), (2962, 0.03162883607167258), (2711, 0.03156550945294352), (3236, 0.03149895527737052), (3047, 0.031405905635894675), (4095, 0.03131059590516536), (3328, 0.03131040066660813), (2097, 0.031302204708425416), (1207, 0.03127727395334783), (1114, 0.031271765310713864), (1090, 0.03124118558993993), (1844, 0.031199336146646724), (893, 0.031186036954507265), (4134, 0.031179349828872955), (690, 0.03117075485210381), (3526, 0.031165218368257166), (3743, 0.031153386681653607), (3657, 0.031134531615646832), (1142, 0.0310264717015145), (277, 0.03102404674028847), (620, 0.031023603793381864), (202, 0.030954835045720726), (2664, 0.030954141971109527), (1820, 0.03090157189512728), (2729, 0.030842924976264976), (2104, 0.030821307040394742), (3407, 0.030792211871149854), (1095, 0.03078022214405371), (1694, 0.030706601291816474), (58, 0.030702186290452897), (188, 0.0306762659743114), (3557, 0.03065508787086427), (3133, 0.030561745624055017), (455, 0.03055721742141375), (1550, 0.03055180544477463), (1812, 0.030534563509816953), (787, 0.030492965368124444), (846, 0.030471149638344193), (708, 0.030449310034459127), (561, 0.030437725335324607), (2440, 0.030412406905501135), (3890, 0.030349451283792666), (2450, 0.030330206121630107), (4566, 0.03032322357366152), (57, 0.03031428675641295), (22, 0.030313064953939577), (4168, 0.030289501635038775), (4225, 0.030195610685748733), (1569, 0.030193040011607337), (1814, 0.030144742088598547), (882, 0.030090984011599), (2476, 0.030090886893625633), (1487, 0.030048297109528062), (1520, 0.030044779438378865), (2629, 0.03004033349156127), (2327, 0.03002428586925063), (1979, 0.030020576704304712), (1794, 0.029971536968050647), (957, 0.029955277824470772), (549, 0.02987807263738239), (3878, 0.029860713733274192), (3451, 0.029856888670600417), (4675, 0.029833665870198076), (3459, 0.029808992364627324), (446, 0.029781474060806144), (4120, 0.02977187239908495), (1703, 0.029762094121464668), (1562, 0.029757323185635724), (3294, 0.0297411156424957), (2353, 0.029713539109604233), (2540, 0.029698710540590666), (1311, 0.029688090132899445), (256, 0.029627105963890985), (406, 0.0296233191443311), (622, 0.02959920486952318), (743, 0.029558819201941294), (1296, 0.02953906101518062), (1552, 0.029522299012088273), (2086, 0.02950542126977658), (3325, 0.029501445102763472), (2118, 0.029461630535307447), (2653, 0.02946027296556798), (2457, 0.029450301639071856), (1538, 0.029429652521037332), (4747, 0.02939717643996509), (2839, 0.02938100078438234), (500, 0.029357609895623187), (2185, 0.029329490610787975), (1216, 0.029329064874933912), (501, 0.029294488027775137), (3217, 0.029277839565803876), (891, 0.029259659585057336), (4050, 0.02923308902436828), (2851, 0.02917592846270712), (1914, 0.02917586621602901), (4314, 0.0290949017378844), (1787, 0.02904521105829999), (1948, 0.029004763615678397), (2749, 0.028982407870446897), (170, 0.028969156230734844), (786, 0.02896667196374635), (2783, 0.028948419081205948), (3366, 0.028937055307800788), (1132, 0.028930561145071053), (2957, 0.028923336523281037), (3263, 0.0288295987463573), (578, 0.028813314643264063), (3015, 0.02879023927545455), (1843, 0.028755665833496296), (3503, 0.028730923274157175), (4380, 0.02871225934431597), (3282, 0.028698837972150584), (1255, 0.028660932428758862), (2157, 0.028642646270463104), (3128, 0.028639553660537134), (1295, 0.028576851065725734), (1045, 0.02856344339570483), (3441, 0.028528887371771332), (2634, 0.02852597611295053), (4579, 0.02852426265280855), (3306, 0.028460556862525563), (819, 0.02839344763557388), (2000, 0.02837742809219293), (4420, 0.028362393742195437), (4254, 0.0283231035255454), (3344, 0.028227285977056916), (3921, 0.028221161331528383), (1910, 0.02821280032211795), (3317, 0.02821018190456634), (2109, 0.028207864733389036), (3973, 0.028175459247606494), (3658, 0.02815222762107808), (1011, 0.028143889263071105), (1907, 0.028114539344991744), (2484, 0.027986203584358667), (3802, 0.027969566370249974), (2352, 0.027883623639512772), (3074, 0.027874627310514377), (196, 0.027864051905958358), (1570, 0.027830849602777676), (344, 0.02781781025527159), (1474, 0.02779164810106949), (3211, 0.027686883881749814), (597, 0.02768568550809254), (3930, 0.027651476264188242), (2636, 0.027574585797345424), (2039, 0.027539159311762408), (1784, 0.027519582316920015), (1755, 0.027510369619425858), (3444, 0.027469849938502953), (1259, 0.02744847401475311), (1152, 0.02736133724067011), (657, 0.027349938132868526), (1492, 0.02728063387926187), (3858, 0.02726245203102094), (4456, 0.02725317403842606), (2521, 0.027250272898552946), (2167, 0.027246109918643128), (4186, 0.027240559826822535), (1130, 0.02721868557724094), (1307, 0.027206079915810238), (1427, 0.027193878382820866), (1868, 0.027192456965277216), (4371, 0.02718739336024553), (428, 0.027183029953617432), (3752, 0.02717148495060092), (2563, 0.027167866421511432), (1301, 0.0271215563945375), (4443, 0.027109189880783084), (3098, 0.02703369498400235), (2245, 0.02702808510738054), (4554, 0.027006895615879288), (1401, 0.026972610337777293), (1246, 0.026921674085287978), (469, 0.026920565616219562), (1640, 0.02691578684220598), (3403, 0.02689550303000075), (352, 0.026841901488459552), (2844, 0.026822123536153934), (1223, 0.026812512709251973), (391, 0.02680717276712411), (4485, 0.026787273437552463), (4492, 0.0267703840639772), (4149, 0.026754486826689145), (4351, 0.02672468002000994), (4109, 0.026722197547422936), (3550, 0.026719805638545407), (3948, 0.02670710508149604), (3612, 0.026687136289099918), (769, 0.026675013919101813), (2734, 0.026666926262197244), (2206, 0.026625767552482325), (3589, 0.026613382364069925), (435, 0.026547335889475818), (2514, 0.026532920929525604), (4604, 0.026374155425384127), (2183, 0.026352101326321802), (742, 0.026304159877136312), (2964, 0.026281581670978618), (1711, 0.026247972226712254), (4344, 0.026241708280301906), (3218, 0.026220212368672873), (1925, 0.026215998779043636), (569, 0.02619057865339467), (4405, 0.02618885182304971), (995, 0.026180674959224458), (3776, 0.026081081609169013), (2029, 0.026076051415197928), (3671, 0.026054435944742313), (3517, 0.026030241976679566), (3906, 0.02602552236244478), (4633, 0.026007094330382122), (2796, 0.02600058278911401), (167, 0.025984821204478776), (4496, 0.025968163243509576), (4338, 0.025967231218402897), (4199, 0.025966334938861843), (3397, 0.025944984787082268), (1841, 0.025919231814008105), (4046, 0.025917821734616077), (3633, 0.025891988993422436), (1958, 0.025878363428078574), (926, 0.0258740606103805), (1103, 0.025855176245994572), (3772, 0.025854962460594443), (2232, 0.025853912326738393), (1643, 0.025820674470726522), (1503, 0.025707669277288153), (2642, 0.025702078804569234), (1430, 0.025692707990136492), (1008, 0.025674348070049327), (1137, 0.025672455274491506), (2367, 0.02566256507250762), (49, 0.025650719805611063), (3367, 0.025583611735316716), (3876, 0.025569842295771812), (3221, 0.02552297349146272), (4242, 0.025476850290716408), (1704, 0.025403038574743075), (2927, 0.025364559180868263), (3830, 0.025342449141610237), (72, 0.02533105325932812), (2733, 0.025237808212260297), (4147, 0.025237739956376057), (1836, 0.02522586814692798), (2781, 0.025224640219328368), (2236, 0.025193549074807087), (4455, 0.025188410242536822), (4268, 0.02515641154697675), (2414, 0.025120233299528644), (1134, 0.025109059104506008), (4746, 0.025099716510051957), (3096, 0.025048854769833533), (1816, 0.025039217760060746), (4570, 0.02502076685123705), (3313, 0.024924800294123767), (1911, 0.02492194168342998), (2116, 0.024865978214748095), (2184, 0.024858842934405483), (2430, 0.02485395980105868), (1309, 0.024849575231969), (4341, 0.02482869941442411), (1866, 0.024808175500230872), (1456, 0.02476122396244361), (4124, 0.02471442906302058), (3674, 0.02468891874454713), (1828, 0.0246655091775259), (177, 0.02464526373535122), (2303, 0.024633768193551543), (1472, 0.024548702270006273), (1996, 0.02454350148160837), (507, 0.024525053032427108), (3468, 0.024486090161181126), (3442, 0.024438278480057675), (4421, 0.024417733865815094), (2504, 0.024331241831147956), (4112, 0.024324755218894867), (2368, 0.024284391008418484), (4346, 0.02428344687214789), (3421, 0.024274303370372837), (821, 0.02423786255898324), (2155, 0.024203541194029607), (646, 0.02417603046130523), (1931, 0.024155251822431965), (4010, 0.02415146089654987), (3979, 0.024121606023021883), (1278, 0.02411033713805081), (350, 0.02409156724394575), (2014, 0.02407531444786454), (1484, 0.024032901928907273), (2227, 0.02398096663479522), (4427, 0.023971753869611746), (2554, 0.023922544130251695), (1189, 0.023883014333988397), (4526, 0.02387354792781368), (2267, 0.023865793445444136), (4197, 0.023846108419022346), (4430, 0.023787357890055445), (328, 0.023786116693217348), (1214, 0.023775372869230618), (2055, 0.023775161692219618), (3473, 0.023773506524546732), (1057, 0.023745149791044213), (4297, 0.023684060891617426), (954, 0.023651460668791976), (73, 0.023648059445808656), (1999, 0.023643689543347175), (3173, 0.023629375628958123), (906, 0.02354304304049542), (4358, 0.023529337874264256), (1961, 0.023508555010465407), (3312, 0.023481167805616526), (43, 0.023445696195256015), (3483, 0.023430497977279363), (4325, 0.023428037761739788), (2577, 0.023422914214425567), (275, 0.023401850651990772), (4286, 0.02339693428929617), (3505, 0.023391453761995647), (4260, 0.023389607809068274), (538, 0.02338906264558141), (1242, 0.023367367347528332), (3422, 0.023341673210042185), (976, 0.023324534280307476), (2307, 0.023304324097346972), (404, 0.023295121561224034), (1321, 0.02326719041781055), (829, 0.023258666367528928), (365, 0.02324367775740375), (2022, 0.023243595123139518), (3456, 0.02323501612411947), (3571, 0.02323223636503603), (629, 0.02322660274890819), (4034, 0.023221280459079046), (1835, 0.023219255281673706), (3926, 0.023208925323166277), (4426, 0.02320854526916151), (3209, 0.023202937410192578), (740, 0.023200924519789362), (3735, 0.023161712728968747), (279, 0.023138508459960787), (2589, 0.023122441506575622), (3705, 0.02311384349569468), (2605, 0.023100872585385797), (3057, 0.023072136970851066), (149, 0.023058221353059082), (1366, 0.02304129866386333), (335, 0.023038584797115055), (2091, 0.023035937762179586), (4009, 0.023026171437586052), (884, 0.023023729881793978), (1451, 0.023010228088260344), (609, 0.02299277229186451), (4625, 0.022977406085129156), (4342, 0.022964082898903435), (2612, 0.022960800286395487), (3909, 0.022946464669775637), (409, 0.022943374375284577), (3816, 0.02292188641348869), (2717, 0.022898828275801836), (3628, 0.022888783936979774), (2442, 0.02287498991131723), (2237, 0.02285109658818934), (3782, 0.02284695984601822), (2284, 0.022842295507168972), (4548, 0.0228394101652056), (309, 0.022831903516489366), (4196, 0.022790851423131565), (4070, 0.022739574989226494), (3993, 0.022725140339801386), (3179, 0.022723377081906766), (804, 0.02271798069863023), (4207, 0.022715715746155808), (114, 0.02270902059794108), (3231, 0.02267284781203516), (899, 0.02267155063672691), (4086, 0.022649674830179746), (2211, 0.0226478644633021), (2171, 0.02261205077656185), (3252, 0.022576157928657362), (1993, 0.02257263596556345), (2840, 0.022547924421213682), (3430, 0.022497952056895105), (1109, 0.022484313599708948), (2451, 0.022480245861563254), (1373, 0.02244869927562445), (2462, 0.02242665403798394), (4378, 0.022408783767233223), (1211, 0.02240190496053412), (2951, 0.02233889092339974), (4218, 0.02232142013022259), (3539, 0.022299553782785312), (4569, 0.02226050293708714), (810, 0.02225285991932255), (2516, 0.02217772603087699), (1461, 0.02210049789498378), (370, 0.02209370604341156), (1163, 0.02209054876022398), (1992, 0.022086989384690815), (3593, 0.02208563097268717), (2212, 0.022081578617459418), (2585, 0.022073348719294953), (805, 0.022025064289315437), (2637, 0.022017624675134257), (935, 0.022010616711268347), (3826, 0.021938360527928163), (1891, 0.021937540978593406), (1677, 0.021915271811525982), (1559, 0.021912486660189568), (3101, 0.021906479117874827), (1849, 0.021897137787515654), (192, 0.021865663206499686), (327, 0.021856375226288194), (3582, 0.021855947325517627), (4290, 0.021847273354903163), (4263, 0.021839236945158148), (3803, 0.021803636660313215), (3393, 0.021775623526259183), (2485, 0.021773073608094058), (3790, 0.021755066618171653), (4559, 0.02172674525732453), (798, 0.02169639517767725), (1165, 0.021681425202418704), (3847, 0.021678389037448894), (3315, 0.02167290358748301), (1088, 0.02167276627874937), (1001, 0.021668574330778644), (961, 0.021655997252764913), (3287, 0.021638202364936063), (1237, 0.02159350137060529), (3024, 0.02159081883059992), (4752, 0.021553395378158452), (351, 0.02152516498190148), (1521, 0.021522994070251114), (2579, 0.021501314848615602), (1402, 0.021498215797262184), (245, 0.02146977549750966), (434, 0.02146346355404552), (4396, 0.021461194307688045), (3375, 0.021452894598486254), (3555, 0.02144787873710938), (4146, 0.021431449625557986), (4598, 0.02142941955123763), (298, 0.021422189557889756), (936, 0.021403442312292773), (2030, 0.021360522914071634), (2179, 0.02134338306691571), (1085, 0.021338232971167225), (2708, 0.02133498020557939), (1042, 0.021333465505599374), (1367, 0.0213311005055113), (1155, 0.02126939560483213), (3969, 0.021238253791144305), (648, 0.021202705446252326), (2652, 0.02116052170959914), (909, 0.021155114789449182), (1769, 0.021151585692300745), (1706, 0.021121654736897623), (2043, 0.021110411077339845), (1652, 0.021099778950490655), (132, 0.021089484865111877), (3846, 0.021083543543786942), (3482, 0.021059168343599322), (2153, 0.021045424692583206), (1253, 0.021031740771245533), (2390, 0.02102851766094769), (360, 0.020998145471654506), (4345, 0.02099086326987575), (75, 0.020988823777244956), (3389, 0.020987528639745297), (3481, 0.020973469049505603), (1354, 0.020973181766851662), (1116, 0.02095974674656277), (2235, 0.02093664953289188), (4195, 0.020918300383152878), (4674, 0.02091580701137918), (2421, 0.020894570478453063), (1081, 0.02087302054351932), (3734, 0.020872019637836584), (3805, 0.02087014731191164), (1215, 0.020855140462754676), (4457, 0.020853869414761642), (527, 0.020834124614130055), (3365, 0.020826731591428175), (2762, 0.020814671539847052), (2099, 0.02079002991069887), (4388, 0.020789980254526223), (2019, 0.0207874551171931), (423, 0.020774528397467608), (334, 0.02073135191916261), (1837, 0.020725583824665026), (1954, 0.020720615203452666), (1198, 0.020718917354437753), (451, 0.020693982376006847), (4189, 0.020679329433622235), (3476, 0.020642493559067082), (229, 0.020631233846468172), (504, 0.020625517790903294), (3512, 0.020615902009459633), (1250, 0.02060533937210942), (1610, 0.020593807809920643), (2788, 0.02058176510943992), (1804, 0.02056961003991088), (3578, 0.020558021504719654), (555, 0.020553960923065946), (4582, 0.020550832302864898), (1876, 0.020492078525186697), (1467, 0.020486732611030605), (3386, 0.020484361244642157), (2246, 0.02046309511594975), (7, 0.020459391814520014), (136, 0.02043568374694216), (1344, 0.020424491323847525), (1607, 0.020383321555904922), (379, 0.02037969708963891), (3167, 0.020346695263632135), (2793, 0.02033697964033173), (1537, 0.020301968669917098), (4623, 0.02030145705980358), (785, 0.020289096558291815), (3360, 0.020270194436303682), (2150, 0.020269233350189476), (2663, 0.020263525036136765), (4555, 0.02026274454700737), (1482, 0.020254001424674727), (863, 0.020228251073723186), (2095, 0.020214605594616512), (2494, 0.020210697591576784), (2562, 0.020185421192867536), (1118, 0.020177190415754213), (1390, 0.02016802898491732), (1314, 0.020167797568675316), (2195, 0.02016330146187633), (2746, 0.02016091841897728), (3916, 0.020145195487763563), (3594, 0.020136739080407508), (3226, 0.02010159830718703), (2732, 0.020065268076054563), (2480, 0.020042849229723714), (1617, 0.02001493718111607), (4220, 0.020014315664851283), (2683, 0.02001239107127177), (1666, 0.01999605906794559), (1026, 0.019993493080525945), (1776, 0.01998041496927356), (973, 0.019977277580440295), (3737, 0.01995010187730825), (1443, 0.019935719125663533), (4743, 0.019880327124847816), (345, 0.01987553493750169), (3338, 0.01987159143178789), (2755, 0.019822147945777906), (1864, 0.019818264020755677), (4472, 0.019817937119795452), (1348, 0.01978997262970036), (3022, 0.01978920315750882), (1368, 0.019786318402702632), (1808, 0.019777037235421308), (664, 0.01976730913286701), (3991, 0.01973912709054692), (1701, 0.019732677894165752), (831, 0.0197122726900577), (3994, 0.01964630258750323), (47, 0.019642366491979403), (2770, 0.01960965741574211), (1105, 0.01960961574779435), (836, 0.019608872479563527), (895, 0.01956464301060896), (1060, 0.019563946589500926), (3244, 0.01953892745894495), (477, 0.019535928344918), (1645, 0.01953044270035723), (2656, 0.019526711586686594), (1162, 0.019492077494226507), (4252, 0.019451053091355), (3420, 0.019443090406167866), (2297, 0.019435679397869585), (4432, 0.019369406203775943), (1129, 0.01933000352062607), (312, 0.01931492633324728), (2525, 0.01931063351684724), (373, 0.019309856427701447), (4407, 0.01930175417768423), (2059, 0.01929997802115559), (3243, 0.019298536168922787), (2210, 0.01927984462936218), (900, 0.019265341020412607), (1695, 0.019242793881369475), (3518, 0.019233048100109174), (3395, 0.019228177502421038), (1818, 0.019215049353780777), (920, 0.019215016684921038), (2603, 0.019165839583887262), (2207, 0.01916254589121419), (2723, 0.01916137335538861), (3121, 0.019151805086933364), (3673, 0.019104511337029194), (1712, 0.019097434319607743), (3342, 0.019037454676741006), (1582, 0.01903612957818754), (2899, 0.019004428157047587), (3696, 0.018973746214954096), (208, 0.018968153216750546), (445, 0.018944436461221556), (3350, 0.01892413579937579), (465, 0.018922729603899274), (532, 0.018919904099980282), (4203, 0.018879696662727062), (2050, 0.018865190003062575), (4364, 0.018848169453973256), (4551, 0.018825178282590182), (2924, 0.018819252725992823), (568, 0.018806392274173616), (1084, 0.018796053366830056), (3138, 0.01879098582461015), (1902, 0.018779497187490054), (3866, 0.018774568992454745), (443, 0.018768846987934747), (1800, 0.01872936089879757), (3343, 0.018726936208726532), (2665, 0.01872074752932821), (2996, 0.018719755598525872), (3924, 0.018698729463330017), (3043, 0.018692399706677083), (1604, 0.01866975469685185), (2913, 0.018635257308348568), (89, 0.018617731910720872), (3485, 0.01859959530971716), (1601, 0.018578963000768223), (2952, 0.018571216591191046), (985, 0.01856261592057127), (4307, 0.018538565683597758), (1883, 0.018516767121910995), (3237, 0.018515464933196103), (712, 0.01849241744699845), (2262, 0.018475289238513246), (4613, 0.018455773968113185), (4395, 0.0184476818768033), (3964, 0.018441277757805977), (1353, 0.0184364709978348), (1679, 0.018430771166900152), (1480, 0.018430133899852583), (2117, 0.018399820434519175), (4066, 0.018381437336460284), (663, 0.01835194792518995), (2548, 0.01832158795345304), (1774, 0.018320235315809535), (3537, 0.01830306954724546), (1235, 0.01828798415159943), (1539, 0.018286173872638874), (2867, 0.018283471504244), (3279, 0.018276894430811305), (3110, 0.01825455245460835), (3699, 0.01824871552262082), (1489, 0.018233831227260834), (2539, 0.018170101286289805), (3792, 0.018169305083966362), (317, 0.018148991731012358), (958, 0.01812355700117528), (807, 0.01811826292634299), (1663, 0.01807102695415238), (4064, 0.018068452265987543), (3695, 0.018067203738459922), (100, 0.018059209436528726), (1871, 0.01805729234624254), (2929, 0.018030727927584922), (1725, 0.018006377504115333), (847, 0.017986646028673704), (3894, 0.01798540410081121), (3541, 0.017972127655648942), (2688, 0.01795736594087209), (3797, 0.01795684394396737), (496, 0.017928564967125464), (3387, 0.01791935276903607), (4518, 0.017913411944675335), (1616, 0.017905386582468184), (495, 0.017880824102595515), (820, 0.017858110391379047), (109, 0.01781232266865494), (3205, 0.017805264784222827), (3730, 0.017804890189335378), (3711, 0.01780300815912308), (4304, 0.017796185575232912), (4240, 0.01778046441573685), (3216, 0.017779304593526352), (4132, 0.017773453518384264), (6, 0.01776582166456882), (3899, 0.01776391912920208), (3914, 0.01774945514155692), (2715, 0.017699188701988233), (1511, 0.017686417836433474), (2391, 0.01763583433502021), (4106, 0.017614439374237064), (3045, 0.01761398730483516), (457, 0.017605615347262737), (3235, 0.017602549394928866), (3508, 0.017582759575888632), (3269, 0.017553034801306117), (3684, 0.017545164528659382), (3893, 0.017530139714961545), (692, 0.01752537778064591), (1494, 0.017523850877135982), (3681, 0.017412283206002147), (1846, 0.017404673805703715), (4460, 0.017380644802741933), (1575, 0.017374609323486556), (1614, 0.017359461085873013), (10, 0.017357304877482892), (1014, 0.017347336624588313), (4402, 0.01733374687196565), (683, 0.017310073287054015), (737, 0.01729423495561684), (817, 0.01728967860274609), (2741, 0.017271433824812818), (1458, 0.01724488712367734), (1407, 0.017244618845237387), (2821, 0.017226830897172828), (384, 0.017219621270446815), (2140, 0.01717478359662612), (3849, 0.017150225874760776), (4110, 0.017149172051205697), (4756, 0.017144932782886133), (3995, 0.017119232966885223), (2633, 0.017099306678361653), (203, 0.017090767278506693), (980, 0.01706570895617553), (671, 0.017050163672990712), (656, 0.0170479755196237), (1957, 0.01703507218946752), (1071, 0.01702961577061055), (164, 0.01700065024252358), (1690, 0.016965433342358793), (1376, 0.01696518543961189), (4022, 0.016934950287660764), (3289, 0.016922067815428807), (2085, 0.01690663197639235), (3234, 0.0169047143549828), (3392, 0.01684581807535687), (2222, 0.016823543404601026), (2878, 0.01682182635525353), (3835, 0.016817077454836477), (4732, 0.01672404136672495), (1423, 0.0167117124154821), (4562, 0.016701922051015804), (4376, 0.016698835414461623), (4372, 0.016691931954572962), (4118, 0.01667769566048898), (874, 0.016663434973262583), (4057, 0.016662347249291214), (110, 0.016646295097336693), (1951, 0.016641549812445675), (519, 0.016626145082268826), (2177, 0.016611798239518357), (2632, 0.016610460035291402), (4663, 0.016604517951419814), (1222, 0.01658556995139404), (2592, 0.016576216675557552), (1306, 0.01657376363704248), (1488, 0.016553640691961802), (3627, 0.016531018307941157), (1122, 0.016520662143744546), (1104, 0.016509329936571816), (232, 0.016508892914387494), (2981, 0.016506333924883283), (44, 0.016505753464896276), (600, 0.016504528835269837), (2007, 0.01648701506466754), (2062, 0.01647085668122511), (3656, 0.016465655500948233), (1998, 0.01642291273613239), (3010, 0.01640303175202456), (1006, 0.01638695381156867), (2836, 0.016383759280858157), (201, 0.01636478379003118), (297, 0.01636178581146805), (4140, 0.016359890667745482), (1850, 0.01635579984115937), (30, 0.016351790950860548), (1018, 0.016346921825489802), (3155, 0.016338117470924254), (938, 0.01632619942202481), (1453, 0.016314946619232433), (4258, 0.016314275705023584), (378, 0.016296611538017605), (3970, 0.0162690621302815), (4487, 0.016267935287309215), (441, 0.016258413310951913), (1873, 0.016243174715826186), (3604, 0.016207766224631468), (2626, 0.01619520313011182), (610, 0.0161939993103401), (2387, 0.016191826509104484), (266, 0.01615791654590982), (3477, 0.016150715711747685), (971, 0.016144831607400635), (962, 0.016129437419226237), (1768, 0.016126515396063548), (1464, 0.01611631655950122), (1692, 0.016115353260700453), (1029, 0.0160969223714364), (678, 0.016086953233330165), (3553, 0.01608255175827836), (3574, 0.01607554980189584), (763, 0.016058840752482574), (2070, 0.016034229732641146), (3370, 0.016033380217773896), (1077, 0.0160241329077862), (1592, 0.016014308084937517), (2730, 0.015998247533731226), (890, 0.015991538946996797), (3458, 0.015971302782940476), (728, 0.01591574927207291), (2465, 0.01591409882036321), (3156, 0.015903664969013392), (923, 0.015901544412434573), (216, 0.01589649990174572), (271, 0.01588470229563208), (3142, 0.015866731917149816), (1341, 0.015859010482763714), (991, 0.01583991521808725), (4309, 0.0158381441826202), (2677, 0.015810462222688674), (1171, 0.015792287804360716), (2582, 0.015777627463617265), (2841, 0.015748840386568402), (3028, 0.01573946857873923), (1969, 0.015718353976778753), (541, 0.015695707462190244), (3710, 0.015687758425321996), (1878, 0.01568357697409694), (122, 0.015669549951213665), (1428, 0.01565247394524973), (892, 0.015648012443048066), (3886, 0.01564208900011229), (1522, 0.015617264273580626), (407, 0.015610076326774181), (3905, 0.015609051247397436), (3303, 0.015603658567276689), (4511, 0.01560060286347299), (689, 0.015599098529785558), (3630, 0.01558987425518605), (415, 0.015586194269755644), (4279, 0.015575487383447717), (1526, 0.015564536975645464), (4047, 0.01554406550755619), (4414, 0.015537714974885233), (338, 0.015519342913237408), (3984, 0.015518913308802331), (52, 0.015515469780033068), (3214, 0.015491873952276298), (1372, 0.015489377459332258), (2036, 0.015484598617237128), (2413, 0.015478639234324148), (1447, 0.015470905156359746), (1577, 0.015467068429888889), (169, 0.015410549119513943), (827, 0.015394211801232871), (82, 0.015387330714336525), (966, 0.015378362382753216), (3666, 0.015321755824177087), (2119, 0.015317712133976787), (981, 0.015313978132518363), (1501, 0.015313804618662503), (4721, 0.015306133014891893), (2129, 0.015300237833017323), (3330, 0.015280996637682422), (1542, 0.015278039678886877), (745, 0.015272075176700504), (292, 0.015217953151438254), (59, 0.015203408931850723), (1442, 0.015180091419709387), (191, 0.0151769957411333), (3065, 0.015175678151961186), (2578, 0.01516781322394127), (2092, 0.015158794625810013), (3083, 0.015140948997077108), (2616, 0.015121483854757901), (1421, 0.015120998774393862), (2763, 0.015103640004115383), (3718, 0.015103119428179528), (585, 0.015088911672954407), (3546, 0.015083139167830786), (3644, 0.015064865788867112), (1068, 0.015062754861886317), (750, 0.015033460463703718), (448, 0.015029219676332858), (2074, 0.015016930588885164), (2479, 0.01501304568889545), (2143, 0.014996450906583258), (1680, 0.014996253331047968), (510, 0.014984317962930404), (225, 0.01497484937457743), (618, 0.014969039371114866), (1877, 0.014967406397407979), (304, 0.014960531016751943), (94, 0.01495727879165551), (4214, 0.014946969631890978), (3247, 0.014933916442821589), (4113, 0.014932876196834722), (2274, 0.014930899520827934), (80, 0.01492382321712435), (3141, 0.014900001038286622), (3651, 0.014895281109929125), (1298, 0.01489017541876125), (2885, 0.014881822429539577), (2954, 0.014871950218868921), (696, 0.014853143951091318), (3716, 0.014845759389552037), (3738, 0.01484243913621578), (1288, 0.014819463577008868), (3427, 0.014812141829649739), (2268, 0.014808502360027322), (4504, 0.01479885572624794), (901, 0.014798348398107631), (2027, 0.014790547691956316), (3149, 0.014789894685064099), (1493, 0.014782605733124985), (1597, 0.014770328246079812), (3960, 0.014761544180663493), (1626, 0.014758234213246802), (1973, 0.014755230437850465), (2026, 0.014744672905480576), (762, 0.014744166967473403), (479, 0.014738978945220794), (486, 0.014724814989904331), (802, 0.014710739345802658), (3106, 0.014709676623606054), (64, 0.014601630569552009), (29, 0.014601619245802841), (4676, 0.014593153442322487), (200, 0.014590216617116875), (2595, 0.014582255215812235), (251, 0.014579557484579257), (454, 0.014557231541214874), (1127, 0.014523935490229012), (3293, 0.014512816492936705), (978, 0.014507975888899087), (4440, 0.01450703510208501), (2156, 0.014503265615471314), (1330, 0.014485638263957101), (878, 0.014482418954346332), (559, 0.014456798306773601), (4531, 0.014430126298870296), (403, 0.014417767190438108), (557, 0.014379746689885441), (358, 0.014351642806023452), (2696, 0.01429605545021058), (4201, 0.014290509940976324), (3425, 0.014249738127429596), (905, 0.014226249493027436), (102, 0.014225397469375681), (3408, 0.0142218172952496), (390, 0.014202638825341366), (342, 0.01418434727420196), (744, 0.014179937727073919), (520, 0.014178436303797864), (4323, 0.014161327801150913), (2301, 0.014147051577330186), (3251, 0.014086229414093952), (3759, 0.014080128995876993), (1157, 0.014068717234249996), (1379, 0.014064926318650271), (4194, 0.014056020441996964), (2618, 0.014053961869004164), (3413, 0.014047854903063072), (797, 0.014031202726384123), (4076, 0.014027417183228672), (642, 0.014016393958873215), (4250, 0.01401090996661949), (330, 0.014010642497764115), (2982, 0.013995683360886694), (489, 0.013990905992681806), (2931, 0.013989852748991774), (4158, 0.013985001649537424), (670, 0.013979849099207088), (4032, 0.013965529807480571), (319, 0.013937692855736473), (2725, 0.013925302617222116), (2712, 0.013912075683304362), (3137, 0.013897095696386433), (2817, 0.013884171400228944), (1049, 0.013868336367367094), (336, 0.01385799719505456), (2009, 0.013852160637325072), (3678, 0.01385206591486108), (792, 0.013850587459989905), (2594, 0.013821612322314887), (1721, 0.013808266133253935), (2459, 0.013807161420009099), (2496, 0.013799818339402232), (2170, 0.013799717693382648), (1655, 0.013798721091902187), (3753, 0.013793520333036147), (1168, 0.013780783291559089), (1938, 0.013766985143082847), (639, 0.013753532652374808), (2625, 0.013750693141626788), (2200, 0.013738865657542265), (641, 0.013736336406623337), (577, 0.013732717303519833), (1859, 0.013729850096316193), (3206, 0.013724748819103436), (1558, 0.013717240287889279), (3903, 0.013708906101660893), (2351, 0.013698039944859672), (3094, 0.013684855821080427), (3180, 0.013682100645611496), (3950, 0.01367072762503846), (1718, 0.013648221052185043), (4324, 0.013633448764795643), (186, 0.013620742990616297), (1881, 0.01361895972776244), (4063, 0.013618229035285425), (714, 0.01360348786783444), (3610, 0.013554095355211102), (33, 0.013550651311350111), (69, 0.013503340759716273), (184, 0.01350217710071766), (438, 0.013498791503784326), (153, 0.013488001415623157), (2053, 0.013442936684577241), (4031, 0.01341532010276468), (2976, 0.013413006485408663), (4023, 0.013396326158110696), (3376, 0.013393969359517366), (2034, 0.013369082496089065), (2882, 0.013363872438224607), (582, 0.013363826287902315), (924, 0.013355947799645409), (4295, 0.013353318029936065), (3889, 0.013337477124318261), (1093, 0.01333721968513304), (1431, 0.01333309473786817), (674, 0.01332717918660008), (2526, 0.01332637368313331), (1352, 0.013323542476066265), (3152, 0.013273994295223624), (998, 0.013258546745380035), (175, 0.013244590367493505), (3148, 0.013241971517763875), (1576, 0.013225780841606057), (3801, 0.013220712417088094), (2761, 0.013194859434731589), (945, 0.013184371547820142), (162, 0.01314542930157626), (4607, 0.013114474115035408), (3424, 0.013112970424188118), (2574, 0.01310553555463202), (1779, 0.013093355027193969), (1791, 0.013092492875433875), (2366, 0.013086468542016082), (1572, 0.013085718599865749), (612, 0.013057210707914742), (2873, 0.013034249949158822), (1374, 0.01303021466550469), (775, 0.013013467599806598), (1217, 0.012999111986296856), (125, 0.012986421218683613), (2220, 0.012968102059001759), (4138, 0.012963774444878362), (1022, 0.012961249352954722), (1678, 0.012946410624213634), (1797, 0.012936869948907683), (726, 0.012931596378877945), (547, 0.01292757693350347), (537, 0.012912412548457566), (254, 0.012890987729831127), (2051, 0.012888292207801232), (1734, 0.012886105560875213), (228, 0.012882810966993197), (4241, 0.012877480601621718), (1285, 0.012871573375978836), (1411, 0.01286673874726553), (2672, 0.012862830493175388), (1588, 0.012849853237601815), (1852, 0.012840211943199793), (2904, 0.012791359360581568), (2807, 0.01277387544444723), (4515, 0.012770177509208471), (2481, 0.012768978224871497), (1699, 0.012767142762593822), (1023, 0.012751121848615078), (150, 0.012746038618058626), (3447, 0.012723400382180306), (2915, 0.012718668515969317), (3751, 0.012711513696724536), (861, 0.012707110607732077), (3709, 0.01269105997829844), (2698, 0.012686211824199217), (25, 0.012683619887436534), (2103, 0.012678705700444135), (152, 0.012644780976389524), (444, 0.01263937822766906), (3273, 0.01262897683696138), (790, 0.012620180433014801), (1627, 0.01261388982571278), (700, 0.01259086437306493), (1267, 0.012587203756837381), (3768, 0.012567580367464627), (4245, 0.012565920769746749), (432, 0.012553527899361327), (395, 0.012548228878875257), (223, 0.012538378646512225), (4703, 0.012535251015460847), (3781, 0.012531336044024559), (872, 0.012520849130153463), (4111, 0.012520402256068451), (2038, 0.012515491316728198), (3060, 0.012500939170258083), (3697, 0.012497012623395126), (1632, 0.0124841758437956), (2829, 0.012474968779616409), (1089, 0.012471641115678524), (811, 0.012468128450094963), (2375, 0.012462184831121957), (2586, 0.012460430680953899), (1479, 0.012441651486269757), (4155, 0.01243933032466003), (4728, 0.012431865588578603), (630, 0.012426147640056607), (284, 0.012417673600563367), (1175, 0.012411234450743595), (453, 0.012408342449058252), (2409, 0.01240130144304303), (1232, 0.0123929619802303), (4441, 0.012368884199105378), (4177, 0.01235729597751977), (2472, 0.012337118326255787), (2876, 0.012324314408023958), (3511, 0.012311253142926961), (1404, 0.012308124804139862), (1897, 0.012299361568076829), (2331, 0.012285244594834125), (1345, 0.012270831606022603), (4292, 0.01226793187746484), (2311, 0.012248450060633008), (4409, 0.01222534259865536), (1723, 0.012223371374512036), (1811, 0.012199196035689096), (400, 0.01218517981007364), (2552, 0.01217362304823607), (1228, 0.01217299938349868), (2254, 0.012172898631463437), (3399, 0.012164864368735664), (2405, 0.012164185675204334), (50, 0.01214501741274423), (3966, 0.012143687772002382), (301, 0.012139497690649608), (1028, 0.012137565414232708), (1161, 0.012136198733907396), (1662, 0.012135611318679117), (467, 0.012122924171383574), (3647, 0.012099743208783969), (4422, 0.012086239295639895), (781, 0.012085796577099833), (2697, 0.012080471333667981), (3997, 0.012076443466998156), (4289, 0.01207363718222541), (1696, 0.012059494986517535), (240, 0.012052080726060538), (2317, 0.012047748674413354), (3854, 0.012040953995222878), (2018, 0.012036183049041266), (539, 0.012034305511209929), (3626, 0.012033750842811452), (3773, 0.012028172468359057), (176, 0.012017748563842558), (369, 0.012004217933812702), (193, 0.011993611647851739), (3809, 0.011982987271476746), (2531, 0.011960115296509415), (4136, 0.011954996868299433), (1613, 0.011936891089674625), (273, 0.011934180812189069), (2550, 0.011933047010816555), (2259, 0.011930198726245884), (349, 0.011927596005840483), (3284, 0.011925308464850487), (676, 0.011922715357222134), (1420, 0.011919762593594929), (3536, 0.011907465092477285), (1603, 0.011904365064814232), (1821, 0.011903730604582463), (3501, 0.011888519838464347), (2088, 0.0118848913323985), (2685, 0.011869485370683016), (1115, 0.011857063752044372), (1445, 0.011852294633220385), (1475, 0.01182562468874051), (1500, 0.011825472096466044), (4466, 0.011812108361188654), (2144, 0.011797275005944427), (628, 0.011791800860613386), (1741, 0.01179026254883924), (793, 0.011780860441099154), (3311, 0.011778402141815768), (2192, 0.011778135161517015), (4609, 0.011776031857749836), (3034, 0.011771739110549977), (1809, 0.011767528162593972), (1525, 0.011766411824216585), (3701, 0.011765095914052424), (637, 0.011746920967841143), (2865, 0.011729744747527056), (1000, 0.01171142576485547), (4628, 0.011708476894165584), (4143, 0.011704306309440254), (849, 0.011687919557618921), (3188, 0.011682303848664519), (2239, 0.011674659217401132), (1425, 0.011674489424864216), (4114, 0.011668273721566941), (3643, 0.011658491182073242), (1112, 0.011648869863422886), (2999, 0.01162931447590258), (3840, 0.011628797190586845), (4098, 0.011627817763466811), (1397, 0.011626291720456159), (2822, 0.011602915117317075), (840, 0.01158745346932032), (3466, 0.011577522759963429), (1392, 0.011576787322694756), (1323, 0.011551352928116064), (61, 0.011546885377345543), (4745, 0.011545203415282736), (1942, 0.011541041378433602), (129, 0.011530411639610353), (1621, 0.01152981414885699), (54, 0.011520075634057853), (1440, 0.0115188420522012), (975, 0.011512901442599713), (4004, 0.011504092880921747), (824, 0.011502506524160593), (1292, 0.011501179407198147), (2198, 0.011497922237370974), (4330, 0.011482457379935935), (299, 0.011474205720141503), (3033, 0.011469553854276303), (1410, 0.011464951291852585), (1899, 0.01146483820465131), (2046, 0.011461751531292416), (545, 0.011438307569947088), (4530, 0.011438248935885485), (4591, 0.01143789518124222), (4606, 0.011433614341137646), (1406, 0.011430591073305008), (3411, 0.011423795379078868), (2533, 0.011409216940195584), (4081, 0.011406506658514906), (4327, 0.011398074934136434), (697, 0.01139114162283551), (3637, 0.011386925712458282), (693, 0.011383274328374101), (4482, 0.011382190954274313), (315, 0.011378609875765337), (1385, 0.011357987903260603), (1172, 0.01135750737332161), (2354, 0.011355030918390612), (2804, 0.011347190877634666), (3416, 0.01133310534693163), (1227, 0.011332210827339548), (263, 0.01132608152184517), (1269, 0.011325427995928785), (4320, 0.011314913087218489), (1197, 0.011307377988703737), (1106, 0.011306676749612938), (359, 0.011286031601767442), (2942, 0.01126719072485664), (1672, 0.01125817021167015), (834, 0.011251363953044446), (1579, 0.011249999461884482), (4157, 0.01124594389503937), (3736, 0.011239782037882588), (2998, 0.011239283713059333), (287, 0.011230247369872094), (1709, 0.011220006595580041), (4122, 0.011216235781860488), (466, 0.011214922538774558), (464, 0.011212713158106955), (3066, 0.011212310229283796), (1231, 0.011207365778919945), (1912, 0.011197520074571865), (3443, 0.011188822861155313), (1263, 0.011186437546241317), (2801, 0.011169571769481901), (3824, 0.01116277922569107), (3602, 0.01115383470285353), (1073, 0.01111923584469521), (3579, 0.011114294060727205), (3731, 0.011104192716635423), (1387, 0.011102011534744757), (1532, 0.011101804388007168), (773, 0.011101686612731277), (2513, 0.011100239064031365), (2226, 0.011092161432438354), (1802, 0.011090250497573863), (3318, 0.011083861673505575), (3706, 0.011070668684836374), (1463, 0.011064738311462874), (2175, 0.011051939214427726), (1759, 0.01105073021631579), (2622, 0.011047018653543787), (35, 0.01104363559975108), (2204, 0.011037817757283488), (4282, 0.011017078970741756), (3615, 0.011013662708139043), (4438, 0.011002330143491793), (4183, 0.011002310871741992), (1934, 0.010980968482673263), (154, 0.01097821510264147), (1414, 0.01097141602267144), (672, 0.010966223461640142), (4726, 0.010965147626414637), (1982, 0.010962486331554111), (1247, 0.010956484965978711), (3151, 0.010931758617838034), (2918, 0.010928793194991147), (37, 0.010925836662603832), (85, 0.010912794096286309), (1675, 0.010903250057633346), (1117, 0.01089740102281199), (2958, 0.010895938737987138), (45, 0.010891617144621528), (2064, 0.010868987419775097), (2528, 0.010861188404279356), (67, 0.010852926112772544), (3646, 0.01085136572772246), (1654, 0.010827986465379172), (2812, 0.010815278664266268), (4247, 0.01080908552626424), (2107, 0.010805244214043993), (2379, 0.010804519961618868), (4616, 0.010803895535184585), (2031, 0.010800137928864731), (214, 0.01079239009279461), (3619, 0.0107898123144096), (2358, 0.010787920037679992), (3839, 0.010787680218830302), (1667, 0.010778783072510748), (4479, 0.010771833229062567), (4553, 0.010753445162184789), (88, 0.01073945529245715), (1206, 0.010727980313497098), (812, 0.010725897566524168), (835, 0.010725475583282648), (3077, 0.010712605734056305), (939, 0.010699548078996127), (803, 0.010697092639586124), (276, 0.010695867652209493), (4205, 0.01069024618897418), (1369, 0.010657139980277596), (4451, 0.010655695412170913), (2750, 0.010654116593433814), (3856, 0.010643259257425894), (381, 0.010634804185793415), (2378, 0.010628487286274527), (833, 0.010616311737448805), (702, 0.01061310837988144), (2149, 0.010598971746347852), (2402, 0.010591825996474031), (473, 0.010581135593248074), (156, 0.010577539513555896), (944, 0.010568718564890478), (237, 0.010563497181928552), (4348, 0.01055364374697665), (838, 0.010548070497032738), (1875, 0.01053844954260626), (222, 0.010534181438132142), (868, 0.010532203874015204), (2158, 0.010530079219355563), (1308, 0.010528830588515893), (1135, 0.010526628793135998), (3, 0.010521591718659169), (1625, 0.010516859477805188), (3863, 0.010509679222634388), (249, 0.010496296905024415), (1509, 0.010474869523888888), (3754, 0.010473708469590648), (4021, 0.01046357609063378), (3369, 0.010463476561870338), (4165, 0.010460989998639057), (3563, 0.010459387454433096), (511, 0.010451681237298859), (1543, 0.0104511355542484), (604, 0.010432718468645148), (653, 0.010413217565870724), (2412, 0.010392278544784014), (4104, 0.010366879225716386), (4502, 0.010360538790838016), (3861, 0.010356192635562747), (3796, 0.010354482242782709), (3117, 0.010353413765132028), (1153, 0.010346291617414204), (3972, 0.010344190708265361), (1507, 0.010342215923688225), (3990, 0.01033361402862326), (4610, 0.010321390001825755), (4117, 0.010309434379328603), (3474, 0.010307668706251398), (668, 0.010301257285778527), (3841, 0.010291545656861387), (1869, 0.010270603524591164), (449, 0.010259390377732661), (1827, 0.010257920572070846), (4558, 0.010247613376301038), (168, 0.01023341900562226), (4350, 0.010224587437568777), (2326, 0.010224321545932448), (497, 0.010212421442953461), (4366, 0.010199683047928324), (161, 0.010196335722708708), (2460, 0.010192589977424203), (1219, 0.010176501109370786), (142, 0.010174939796404438), (1394, 0.010167540550310532), (3556, 0.010142772700543664), (1921, 0.010137890760325109), (723, 0.010131881255686878), (2573, 0.010080868269506021), (433, 0.010059766126859554), (4661, 0.010055243410166285), (393, 0.010045587747412267), (3204, 0.010021759913437015), (1580, 0.009965706191090074), (2159, 0.009958808221548316), (32, 0.009947764091812205), (2281, 0.009932337522562161), (3895, 0.009930214652475778), (3529, 0.009924031194362208), (141, 0.009919852716270227), (2524, 0.009909747078515104), (3183, 0.009889708530996445), (1563, 0.009811890536400018), (3219, 0.009783803621806069), (1062, 0.009779217079132266), (2448, 0.009777239709224953), (725, 0.009762443936962182), (3983, 0.009754744784259525), (2199, 0.009745404912426222), (1277, 0.009737022054998816), (4627, 0.00973365292011582), (3892, 0.009732270955937764), (2776, 0.00972692807014159), (430, 0.009720646079444464), (4740, 0.009719337253206945), (2643, 0.00968240175794947), (3175, 0.009677669672845418), (2296, 0.009640264200952597), (2257, 0.009638819945185064), (2771, 0.009625480818716184), (4169, 0.009620273063214148), (3078, 0.009620245572474418), (843, 0.009618128555309038), (719, 0.009615221919585743), (2901, 0.009612071476803902), (2154, 0.00958950712641221), (757, 0.009560244075128729), (2530, 0.00951536169867798), (3472, 0.009484719690149409), (1393, 0.009482963671880161), (143, 0.009474018957702652), (2441, 0.00947083419412101), (1963, 0.009462652756062272), (1209, 0.009453008175308409), (2423, 0.009434923649043962), (2601, 0.009418731060564092), (3224, 0.009402706287918297), (611, 0.009395362009358104), (4079, 0.009362252029415912), (2376, 0.00934188199139318), (4589, 0.009339073556567188), (3345, 0.009315180354202595), (377, 0.009305337572063687), (1777, 0.009278361520757908), (2320, 0.009275753564791628), (3254, 0.009275133433721107), (1334, 0.009271123030600303), (3741, 0.009268350277898985), (2427, 0.009268150941285844), (3000, 0.009246872446626997), (3613, 0.009234180308654139), (1686, 0.009233153808975592), (3113, 0.009211471705166983), (3980, 0.009206409233236752), (2474, 0.00918242157753891), (4267, 0.009162035078528932), (1144, 0.009149480154988744), (1599, 0.009144007707395211), (3520, 0.009142622413987275), (1040, 0.009134792395815631), (4677, 0.009128221362960078), (2122, 0.009117334127279362), (3620, 0.009116333975871164), (3089, 0.009096119343049608), (2826, 0.009079533521848312), (494, 0.009072766613737604), (822, 0.009069521821585621), (3554, 0.009062663321700424), (4683, 0.00906172420200677), (172, 0.00905994611906948), (1419, 0.009042070525663744), (4736, 0.009025805626407698), (452, 0.00901428190977254), (2756, 0.009012534623244453), (607, 0.009012235213495689), (1133, 0.0090118883787722), (813, 0.008961537413931816), (2174, 0.008951975676024449), (3414, 0.008931629148161077), (4483, 0.008930743348357976), (4190, 0.00892879037838514), (4730, 0.00891828900418602), (1549, 0.008908640124938912), (1757, 0.008896787181356215), (3195, 0.008887665960622513), (2687, 0.008885380473599122), (1100, 0.008881840771577859), (2772, 0.008868401527040683), (4119, 0.008868211818045894), (1615, 0.008865704059270644), (101, 0.008846897293780173), (4711, 0.008836043165292918), (3400, 0.008832159072881998), (3763, 0.008823129326023273), (3081, 0.008810663695053627), (3524, 0.008808355327780898), (3585, 0.008802379862719353), (4534, 0.008783780782627156), (684, 0.008782305114377224), (982, 0.008777215449970215), (1967, 0.00877365682689054), (3677, 0.008758393210869948), (1245, 0.008754369007439108), (2912, 0.008744948540867561), (339, 0.008739710351372288), (1466, 0.00872758027254443), (87, 0.008718352426367877), (4061, 0.008715405809715648), (635, 0.008711281308467699), (2269, 0.008689011970962118), (3487, 0.008683306498998764), (396, 0.008678780891374173), (2261, 0.008677896280356482), (1248, 0.008677172638917038), (1997, 0.008668896186076837), (4332, 0.008656430609540357), (4567, 0.008631586735187406), (4587, 0.008607531607571765), (2252, 0.008596919430895912), (4599, 0.008587622630142792), (4516, 0.008584843472818855), (4312, 0.008572508252053874), (2751, 0.008564360890055894), (4431, 0.008533044132860572), (3014, 0.008525808118204348), (2555, 0.008513445142039716), (2223, 0.008512281219474442), (1713, 0.008501202840647367), (4737, 0.008488690515713005), (74, 0.008485943494019132), (311, 0.008476877801859482), (930, 0.008468994015767804), (4265, 0.008444261166780674), (418, 0.008439800533115764), (576, 0.008439491333505685), (220, 0.00843557031793341), (3452, 0.008421511317116381), (1649, 0.00841684285499863), (4160, 0.008393851862719577), (2810, 0.00839051645350662), (523, 0.008387513983170022), (2916, 0.00838578354789679), (2799, 0.008379283178092643), (308, 0.008371716530674875), (1689, 0.008371330629255559), (4624, 0.008366888504856312), (1919, 0.008365243970400314), (1192, 0.008359793656303955), (2381, 0.008347015428088949), (3080, 0.008344761880394147), (1396, 0.008344254303765786), (3558, 0.008337822165078067), (2399, 0.008336603413250938), (4397, 0.008331998136165076), (4259, 0.008315845660859439), (2845, 0.00831252200984775), (3682, 0.008312507402481559), (858, 0.008303644646254507), (2347, 0.008302200601483503), (3907, 0.00827815742817571), (4025, 0.008277761051238904), (686, 0.008274223540054873), (2176, 0.008264560118815281), (1766, 0.008261466067189749), (715, 0.008261362662106494), (3329, 0.00825647785197113), (2049, 0.008253526065850258), (218, 0.00824516768348204), (3581, 0.008229906308432353), (3265, 0.008222701511805087), (685, 0.008196474744454393), (1506, 0.008196171474980175), (1865, 0.008193138513167138), (1567, 0.008181012327867433), (285, 0.008179449897780302), (3813, 0.008168613710995276), (977, 0.008166213568083478), (3690, 0.008154130184405249), (1111, 0.008153608147121568), (2604, 0.008147401002138488), (2017, 0.008142956375322785), (1688, 0.008136259328206198), (2614, 0.008129040927541048), (56, 0.008123736192525086), (997, 0.008122453752839636), (2082, 0.008121841000138675), (3938, 0.008117320381892664), (1087, 0.008111853817928127), (2371, 0.00810995570658193), (2798, 0.008102414204792881), (2191, 0.008099474937511028), (1413, 0.00809770964899338), (3704, 0.008090379247009168), (1, 0.00806674385442584), (732, 0.008062248365034327), (3112, 0.008050383479440964), (1978, 0.008049443436513322), (340, 0.008043837672625039), (1977, 0.008041041118497865), (333, 0.008033174089155989), (2492, 0.008028925004318729), (1731, 0.008026463679191182), (405, 0.00802595156758494), (2935, 0.008020967270255855), (39, 0.00801173739882585), (1683, 0.008011303612852292), (1191, 0.00801045501197), (2260, 0.008008699460907232), (3728, 0.00800566584953259), (1141, 0.008000682271846905), (413, 0.007994345185436335), (4001, 0.007992419213387461), (4343, 0.007988341435180426), (749, 0.007983783539740923), (1304, 0.0079816382699051), (135, 0.007972124708847294), (92, 0.007947903374515584), (605, 0.007946811483265962), (1517, 0.007943907557714678), (460, 0.007941899329854516), (3084, 0.007940327361359571), (1213, 0.007933449163965989), (259, 0.007933300557534616), (2337, 0.007926223506189064), (647, 0.007924079982172602), (1013, 0.007910561610122381), (1531, 0.007910261466627608), (470, 0.007895959547886043), (1328, 0.007894863791512403), (1670, 0.007879683455866714), (3187, 0.007878329747347312), (1329, 0.007873777316590867), (3073, 0.007872341785852131), (3189, 0.007865639504123055), (2419, 0.00786540090408813), (1955, 0.007863887787528412), (2498, 0.007859425982144903), (727, 0.007839202877765877), (1249, 0.00782980567192652), (2520, 0.007829078460815604), (119, 0.007828109550456326), (3454, 0.007804992140903725), (2686, 0.007804250461170973), (1513, 0.007798774385507595), (2650, 0.007778335117089327), (2319, 0.007777370159410031), (1932, 0.0077738927603201525), (3765, 0.007750655166342681), (2422, 0.0077452169550966754), (4340, 0.007743016909582166), (4682, 0.007742266985955065), (1763, 0.007733924423198267), (2456, 0.00772699456009839), (4192, 0.007726516078924639), (120, 0.007721097140154415), (1697, 0.007706166782828025), (1113, 0.007702610474938289), (2466, 0.007688591497147473), (1668, 0.007682360964282422), (4459, 0.007676089083056547), (310, 0.007666064252617513), (1936, 0.0076515898295607294), (2035, 0.007650910301045191), (3912, 0.007648614033112868), (2680, 0.0076483172929190145), (1033, 0.007648064040313926), (1825, 0.007632473380849079), (528, 0.007622991148254432), (3122, 0.007611712424345638), (1361, 0.007604815638472246), (2896, 0.007602567529946121), (1889, 0.007600707624743307), (1204, 0.007595859168707435), (1915, 0.007588092746913418), (401, 0.007587741232399364), (221, 0.0075862960553452164), (2887, 0.007585844430712625), (2765, 0.007584344176096575), (2549, 0.007582572943354943), (2224, 0.00757131953530435), (1630, 0.00757085895608706), (3335, 0.007564250958092456), (4501, 0.007563756906382575), (3215, 0.007553015175525374), (4399, 0.007540718242458272), (2449, 0.007535049033259397), (2160, 0.007508127317544579), (3823, 0.007502056266139118), (2215, 0.007489315131915439), (2544, 0.007481169284417407), (963, 0.007458407801323752), (4568, 0.00745788054015843), (4328, 0.007453882956047904), (3807, 0.007447310031741887), (1746, 0.007446682727234684), (3940, 0.007446052808944364), (1196, 0.007437695490772334), (2862, 0.007435995192672182), (372, 0.007434376201619806), (3545, 0.007430913065708161), (113, 0.007426704734863766), (2071, 0.007422913387738661), (3058, 0.007419493113842261), (490, 0.00741342564262654), (1650, 0.007398766525656117), (2435, 0.007392766312176111), (1598, 0.007390322303233807), (1913, 0.007388065971638287), (1823, 0.007382353943562802), (1358, 0.007378436987472751), (117, 0.007373104046039395), (76, 0.007369060039065757), (306, 0.0073514923855407316), (1066, 0.007348671612262627), (4020, 0.007344659185559148), (1987, 0.007324165183012197), (2087, 0.007322386546396939), (2791, 0.007317566823972999), (440, 0.00731678598989484), (1270, 0.0073148369510086025), (1541, 0.007305118366062996), (2909, 0.007301516885465928), (124, 0.007285715994561955), (2401, 0.00727593992189783), (934, 0.007271882941794714), (522, 0.007267207791145117), (2461, 0.007258860242517711), (1039, 0.007253837721151038), (194, 0.007246038292236858), (2338, 0.007208872681586975), (2058, 0.007200378872433435), (720, 0.007200365821977732), (4055, 0.007196724513371982), (898, 0.007187789837948721), (2285, 0.007179661581257168), (2065, 0.0071684856104054576), (3327, 0.0071568746959193965), (1839, 0.0071494431898415185), (1854, 0.007147919949727281), (1744, 0.007142033614052712), (300, 0.0071324685184005155), (713, 0.007127621812651144), (3533, 0.007111926984402819), (2724, 0.007090108904651163), (859, 0.007076757169655111), (2972, 0.007056820003117181), (2047, 0.007050749981078624), (1783, 0.00704421749334062), (1608, 0.007042917669561254), (1553, 0.0070419302437144645), (4596, 0.007032449999657695), (4679, 0.007014794185742669), (2975, 0.007009850085146347), (1898, 0.0070003665939845534), (1136, 0.006995056460787123), (2052, 0.006981949856488849), (2590, 0.006969252389379995), (4356, 0.006962570668257454), (2593, 0.0069072514043485595), (733, 0.006903636068979427), (357, 0.0068853676557053016), (3923, 0.006878972549293708), (183, 0.006866041444533302), (2125, 0.006847112801769941), (199, 0.0068263637977986815), (1691, 0.0068081377933657), (3409, 0.006807361037866848), (2265, 0.006796455337828008), (4447, 0.0067921858316365), (1781, 0.006789034651056143), (4445, 0.006779890307528512), (288, 0.006776068194553098), (1310, 0.006757003864166676), (3726, 0.006752810415771054), (2389, 0.006678000715971365), (383, 0.006672299759279123), (2287, 0.006656786934867583), (2985, 0.006655365752070138), (3222, 0.006652612082166096), (1830, 0.006633572854961164), (2617, 0.006600579700798341), (2318, 0.006588022134004183), (738, 0.006573079996525148), (1684, 0.006557898162662699), (257, 0.006536450081741642), (412, 0.006518624938466797), (1943, 0.0065163458021609486), (4541, 0.006516261824250163), (2721, 0.006505185961954392), (3875, 0.006485358136145332), (242, 0.006481895910056992), (1863, 0.006465717067582156), (1370, 0.006455263916348608), (789, 0.006439125700741987), (2006, 0.006384686354055824), (2758, 0.006358274818904255), (2013, 0.0063572247952321265), (542, 0.006333171154370636), (1300, 0.006330440875171439), (159, 0.006244755249487865), (1418, 0.0061331494067136064), (4652, 0.006098762324608132), (1005, 0.006098717824502102), (2364, 0.006019344699240804), (1268, 0.005993504335937219), (1648, 0.005958614101552758), (1471, 0.00591690451087714), (929, 0.005755759510073164), (4635, 0.005674550879592116), (553, 0.005674279437465638), (4007, 0.005672742822257725), (1581, 0.005661408802407802), (243, 0.0056174501451630695), (2818, 0.005586731681018799), (2538, 0.005403709160891044), (2534, 0.0053390185259125575), (484, 0.005318370268553483), (2673, 0.005307111233950048), (2547, 0.005253538167413895), (940, 0.005239521564467215), (4444, 0.005226016931879759), (3145, 0.005183070731796478), (2645, 0.005134288421465356), (4646, 0.005086604610033374), (1208, 0.0050862446479315645), (1548, 0.005049930592648457), (2581, 0.004985352199621288), (3638, 0.004973992651269209), (4612, 0.004966542600388005), (2834, 0.004949488306185597), (4271, 0.004936515768826406), (3577, 0.004930353875051801), (2363, 0.004930190917623584), (4660, 0.00491953169742415), (1669, 0.004908751586698009), (3448, 0.004839629238132147), (4062, 0.00483210085085716), (3502, 0.00482883083678112), (368, 0.004788746254329026), (1343, 0.004742567750279676), (512, 0.004741734598176588), (2738, 0.004708022670320722), (4594, 0.004699094249174231), (904, 0.004696235572443555), (1968, 0.004685132503887968), (4449, 0.004681051654418395), (3384, 0.004677158418726656), (2032, 0.00467502522790464), (491, 0.004663972092945049), (4477, 0.004660869320101603), (3951, 0.0046550503511884845), (3172, 0.00464537682686343), (3450, 0.004633389951271544), (4002, 0.00463315055314067), (4281, 0.004610931201483614), (3230, 0.004605824038037839), (3364, 0.00460551175060223), (2012, 0.004588003585176294), (380, 0.004583148236317379), (1381, 0.004578176489772707), (614, 0.004577361631610407), (2785, 0.004567750758299282), (2180, 0.00456037132012672), (38, 0.004559222984603855), (2486, 0.00455494612962304), (2079, 0.004554246536325053), (3661, 0.004549999636937982), (4121, 0.004537519626511424), (2638, 0.004532874654370976), (2339, 0.004531162879672894), (424, 0.004529805276238035), (425, 0.004525875166351961), (1887, 0.0045210442402399765), (681, 0.004516708294610149), (3039, 0.004514483586038442), (1928, 0.0045102743555668085), (4462, 0.004508424330967047), (2470, 0.004505825091076091), (2518, 0.004503750324963964), (1349, 0.004495139560733855), (3587, 0.0044940453416171386), (2740, 0.0044919122821175305), (4368, 0.004489973687035592), (666, 0.0044893041807769095), (1716, 0.004474184979759685), (3469, 0.004467733630235373), (250, 0.004464210373176367), (4108, 0.004464064162773005), (1858, 0.00446405195155086), (2436, 0.004458924292992399), (701, 0.004453378432365944), (747, 0.00444788600560587), (3857, 0.0044311114257358395), (687, 0.004426198728133277), (4549, 0.004425682000122468), (2112, 0.0044032874210425), (4077, 0.004395866953991236), (48, 0.00439582423985352), (1486, 0.004393577790972237), (371, 0.004389997899182553), (4091, 0.004383574103009041), (1681, 0.004379959618740818), (2739, 0.004378117315767447), (2233, 0.00437808790935133), (3831, 0.0043748520539723165), (1733, 0.004374317467286457), (677, 0.00437216345552682), (1583, 0.004370765082416808), (123, 0.004364812244578101), (4226, 0.004361470890305315), (1043, 0.004359692309039706), (675, 0.004350686472996444), (2458, 0.004347636447275166), (1056, 0.004340617989122403), (3516, 0.004338852576820415), (704, 0.004313752696714953), (3271, 0.004310644160583386), (4659, 0.0043051335827940344), (1150, 0.004303019435527084), (4436, 0.004301932827034811), (1952, 0.004296001500267973), (3586, 0.004293480857798415), (420, 0.004289912737031914), (1798, 0.0042828652623763215), (4269, 0.004279267054314426), (1140, 0.004271648321389533), (3131, 0.004268232055034472), (4038, 0.004265104016338613), (2940, 0.004264130786309273), (12, 0.004260305191513622), (2963, 0.004259681670754197), (3780, 0.004259673867726893), (3438, 0.004259027501626991), (2609, 0.0042552803973743), (1619, 0.004251548597891478), (603, 0.004243313371986241), (680, 0.004242758116292071), (1031, 0.00424171913313962), (2147, 0.004234583693402103), (748, 0.004233344914724637), (1896, 0.004232274296666572), (913, 0.0042317816788533325), (3724, 0.004230171582392114), (1687, 0.004229930163847008), (3897, 0.004229847784121021), (2689, 0.004229081629408725), (2418, 0.004228836754968664), (3618, 0.004228810531040094), (3464, 0.004228156687934081), (1426, 0.004226729392342471), (2792, 0.0042266530443838), (1436, 0.004221160713139633), (4406, 0.004219852235778666), (2330, 0.0042180822392678076), (765, 0.0042163422104486), (2610, 0.004216173926008526), (3777, 0.004215167846155052), (1502, 0.004212960275747539), (3264, 0.004212527812101576), (483, 0.004212242296380203), (1893, 0.0042078287546474386), (1380, 0.004207451486926561), (3259, 0.004207392540916726), (654, 0.004204797680926479), (1185, 0.004203121530136804), (3277, 0.004200725325451118), (599, 0.004197111617904192), (3654, 0.004195743655625592), (2790, 0.004194626947621982), (2675, 0.0041821579312037475), (4363, 0.004178413388281971), (2640, 0.0041742495079745996), (3150, 0.004174087095932325), (3919, 0.00417046297632841), (211, 0.004170018319069774), (4621, 0.004168894925197958), (1660, 0.004168348664611486), (4448, 0.004166369544735572), (3018, 0.004166334670125144), (2015, 0.004165805460876568), (3599, 0.004165522388205851), (3378, 0.004163015154387707), (4629, 0.0041618023760682694), (1047, 0.0041565933574002085), (1851, 0.004153400395927886), (2546, 0.004153126623893516), (2911, 0.004152058420418908), (2691, 0.004150602242112316), (2241, 0.004148568675843649), (1702, 0.0041465211872657925), (1048, 0.004145739548953943), (588, 0.004145589456540652), (3778, 0.004143966779574452), (551, 0.004143261930291826), (4262, 0.004141867367760589), (3507, 0.004135690923459145), (2511, 0.004135220885972753), (4486, 0.0041351711479797205), (2072, 0.004133951694367745), (4379, 0.00413349480693472), (3920, 0.004132330671709671), (3959, 0.004132062834701352), (189, 0.004131285000191049), (11, 0.00413127987387888), (918, 0.004128615885410979), (2816, 0.004127925113142491), (3689, 0.004126519549624465), (3549, 0.004125926789892405), (4467, 0.004120951253226469), (3463, 0.004115406077263498), (2126, 0.004114313361808391), (1636, 0.004110491557978174), (2334, 0.004106275805723729), (2431, 0.004105994367912014), (3233, 0.004104228143594717), (631, 0.004101952738072445), (3446, 0.004097180514128733), (2977, 0.004084866364464328), (2784, 0.0040777201013824475), (908, 0.004075626752052217), (1266, 0.0040701528260303505), (2444, 0.0040694325556296885), (3810, 0.004065229653935853), (1322, 0.004061189652850337), (1587, 0.004060963471835857), (832, 0.004056451297005169), (2045, 0.004054438380472478), (919, 0.00405425100228298), (4068, 0.004053034135281978), (28, 0.004050565768066835), (2278, 0.0040473381997895895), (2277, 0.004044099913467183), (2487, 0.0040431674616409445), (83, 0.004042768190512572), (131, 0.0040419149990873265), (1751, 0.004036380306428958), (3739, 0.004033353585195512), (1985, 0.004031269107269129), (864, 0.004031252199287791), (1510, 0.004027538978333987), (3551, 0.004026529415062928), (4137, 0.004026112641089095), (2193, 0.004025784512913739), (209, 0.0040256331161363694), (4503, 0.004023519771994265), (897, 0.004019834309325167), (343, 0.004019747686020338), (993, 0.004018834673123643), (736, 0.004016243592516668), (1515, 0.004015488607561552), (2169, 0.0040152817976108444), (104, 0.0040146794661661935), (529, 0.004014151404243496), (4686, 0.0040138158215351615), (4755, 0.004013697099984725), (1346, 0.004012285171402766), (1908, 0.0040106956946240535), (3125, 0.004009199198684682), (2501, 0.004008681561144096), (3491, 0.004005155798938926), (3564, 0.0040049718224757875), (264, 0.003994984441792715), (1170, 0.0039939758933227555), (1297, 0.003992834546873604), (1179, 0.003988940253608913), (272, 0.003988300908311943), (4006, 0.003987143516992401), (305, 0.003985621693278819), (3492, 0.003984584495995964), (3955, 0.003981248738723304), (280, 0.0039790625239700395), (1262, 0.003978859632071832), (3174, 0.003978842621593819), (4592, 0.0039771395658413896), (2900, 0.003976806940383486), (525, 0.003968134306882131), (439, 0.003966014871725655), (3299, 0.003964282387867356), (1238, 0.0039622976347895794), (3963, 0.003959630122784791), (3374, 0.003959258282589303), (105, 0.003956643673830406), (3818, 0.003956365610786035), (65, 0.003956216193113259), (2503, 0.003956075149891471), (1239, 0.003953252608448102), (3435, 0.003950717348015181), (348, 0.003949261104395081), (1059, 0.003949099432266166), (1986, 0.003945505800778772), (613, 0.0039323445383708695), (2416, 0.003931948219114944), (1857, 0.003927501354774195), (2128, 0.003923105981353927), (2463, 0.003921502868886926), (1551, 0.00392103220027507), (215, 0.003919382264626687), (4685, 0.003916791046665959), (4284, 0.0039144357285786704), (1807, 0.003913205235808525), (3046, 0.003912883172965187), (84, 0.0039061970574294706), (2910, 0.0039033924270443815), (870, 0.003901000569985082), (4687, 0.003900914944862807), (3368, 0.0038950174383932386), (1653, 0.0038904313279811017), (4387, 0.0038900522960415586), (1422, 0.0038843867551250125), (2178, 0.003880494770665493), (1035, 0.0038756941170120783), (4442, 0.003869644857036126), (4550, 0.0038675734417611325), (2808, 0.0038657455124600916), (3127, 0.003864393678359861), (1146, 0.0038574466003677473), (3240, 0.003855204559115447), (2571, 0.003854433041030196), (2003, 0.0038542333897031203), (1347, 0.003853449650563951), (4217, 0.003853259286014573), (3641, 0.0038529692049307156), (3011, 0.003852431670568492), (3720, 0.0038499606068678476), (261, 0.0038490971620354754), (2432, 0.003845459864611052), (2056, 0.003844427993405955), (3998, 0.003843501237533369), (4564, 0.003841327708903179), (521, 0.0038410865769691444), (112, 0.003840822096503558), (2131, 0.0038324662113891433), (138, 0.003830607072873919), (3053, 0.0038284855271606168), (782, 0.0038282451416497025), (3786, 0.0038278863198653638), (3568, 0.0038260659391022326), (18, 0.0038254771243029333), (3246, 0.0038245844561252207), (1446, 0.0038231269108522097), (3567, 0.003822300018265257), (3504, 0.003821226365084901), (3868, 0.0038172680292372185), (4481, 0.0038117470848522067), (883, 0.003810966716381084), (1218, 0.0038058967270820383), (3784, 0.003797333507780437), (1273, 0.0037968732099118363), (2706, 0.003792798502014165), (1375, 0.003791795287284533), (644, 0.0037898481048937284), (3465, 0.003789380227319695), (1274, 0.00378875792717055), (2631, 0.0037886269027892637), (4428, 0.0037882303317396623), (1738, 0.0037873315281813156), (2892, 0.0037869951807065357), (171, 0.0037869666577747445), (4272, 0.0037847849950134486), (767, 0.003784448220552765), (260, 0.003783998911721504), (2859, 0.00378232485939556), (1988, 0.003780590379190589), (1710, 0.0037790832952518194), (3712, 0.0037790350213311305), (2094, 0.0037752503526820675), (1742, 0.003772187688624168), (408, 0.003771880316372371), (1054, 0.003767141657083965), (3819, 0.003766833341416298), (388, 0.00376615943184385), (4012, 0.0037652325440691603), (387, 0.0037625626131479735), (1756, 0.003762115592785001), (4257, 0.0037582170994099368), (1895, 0.0037581785831429263), (2023, 0.0037568858319314237), (3193, 0.0037476308567082166), (3566, 0.0037474647347305106), (2139, 0.0037442807335894865), (661, 0.003742505166395226), (1793, 0.0037392141910531453), (3071, 0.0037367758667309426), (974, 0.0037346743052568436), (426, 0.0037315285741625734), (4059, 0.0037308411089967465), (1620, 0.0037304044015510664), (492, 0.0037247484341578646), (4634, 0.003722637977153583), (2992, 0.003719834336713239), (3280, 0.0037142780742668775), (866, 0.0037088028061976796), (417, 0.0037057224992620946), (2446, 0.003705423880647029), (2874, 0.0037026937949861663), (916, 0.003696653271345903), (1052, 0.003693386401284325), (1642, 0.0036923317256976466), (9, 0.0036918949779389957), (2777, 0.003691453914610846), (3321, 0.003691298305600058), (2497, 0.0036845876535430717), (2491, 0.0036782507339257423), (2482, 0.003677324397567468), (590, 0.0036769710495015333), (669, 0.0036707831810607657), (907, 0.0036687827450014457), (4176, 0.0036683929049964635), (1984, 0.003666778669451711), (4649, 0.003663792872985915), (788, 0.0036630082704690085), (411, 0.0036618280279596955), (416, 0.003655864577765566), (4600, 0.0036509489284055467), (354, 0.0036509039773144486), (2920, 0.003650236784677325), (1782, 0.003648835355512617), (4339, 0.0036442644158944312), (776, 0.003641246397369046), (4689, 0.0036403418544364795), (291, 0.003636455463176442), (1990, 0.003634655911492819), (1360, 0.003630916641521823), (3295, 0.00363058521359041), (148, 0.003620322549599255), (583, 0.0036166945796557814), (1595, 0.0036103725439305357), (1173, 0.003610348022235965), (1220, 0.0036007806643220948), (1719, 0.00360049718331838), (3336, 0.003590857437172138), (722, 0.0035847223899806878), (3108, 0.0035806613411973904), (885, 0.003578389165388508), (4590, 0.0035723611802125216), (1384, 0.003550693541829363), (1994, 0.0035496878774239887), (2587, 0.0035403871875028838), (4450, 0.0035365033088380344), (3598, 0.003531596214194535), (2906, 0.00351230767395178), (1186, 0.0035030177884845656), (97, 0.003501052638292809), (4156, 0.0034971025713938764), (2608, 0.0034942533222744434), (2805, 0.003488633079823132), (1194, 0.0034856285851010693), (4473, 0.0034745883403784466), (3655, 0.003471948471639369), (4353, 0.0034645877730699252), (1772, 0.003461938311110261), (4748, 0.0034551696033716917), (3748, 0.003451794734190233), (2842, 0.003449261920709504), (2294, 0.0034465241427258718), (234, 0.0034335534881487716), (1546, 0.0034320720453905515), (2447, 0.003421685001394444), (2291, 0.003417941454224362), (60, 0.003412721286888717), (779, 0.0034102530280573904), (1565, 0.003410069043344546), (1707, 0.0034085570474196147), (2020, 0.0034030123666898083), (1120, 0.0034013092044969514), (3200, 0.003389746166858168), (2933, 0.003388012094407071), (3855, 0.0033851350964826015), (2855, 0.003383179358822988), (1971, 0.003381487319842254), (3164, 0.0033784649585778736), (970, 0.0033706767265422703), (1312, 0.0033667243843253664), (2076, 0.0033647353993183707), (2627, 0.003357377867739199), (1535, 0.0033546904900974865), (78, 0.003353508859046863), (195, 0.0033532981520461654), (2127, 0.0033491552549427027), (575, 0.003346821869536074), (3821, 0.0033457687090567394), (3928, 0.003332476354111318), (1981, 0.00333166835658522), (3713, 0.0033262295166495404), (3927, 0.0033206499945318676), (1221, 0.003316769862111134), (2969, 0.0033088403684764377), (442, 0.0033079801256251625), (1571, 0.0032983663236875876), (3957, 0.0032883354322910726), (1530, 0.003267169651889171), (1377, 0.003218202315821347), (3944, 0.003215893162165977), (1395, 0.003211318483652649), (3410, 0.003210379077050056), (2774, 0.0031879261492241727), (3538, 0.0031810897123472873), (294, 0.0031765225926344417), (2078, 0.0031728717734131008), (2377, 0.0031669321854172956), (3362, 0.003159098469864943), (3316, 0.003068839970988132), (3667, 0.0030501325026129154), (3356, 0.003009004773362074), (4373, 0.003003244395436149), (4, 0.0), (5, 0.0), (8, 0.0), (13, 0.0), (15, 0.0), (16, 0.0), (17, 0.0), (19, 0.0), (20, 0.0), (21, 0.0), (23, 0.0), (31, 0.0), (34, 0.0), (36, 0.0), (40, 0.0), (41, 0.0), (42, 0.0), (46, 0.0), (51, 0.0), (55, 0.0), (62, 0.0), (63, 0.0), (66, 0.0), (68, 0.0), (71, 0.0), (77, 0.0), (81, 0.0), (90, 0.0), (93, 0.0), (95, 0.0), (98, 0.0), (99, 0.0), (103, 0.0), (107, 0.0), (111, 0.0), (115, 0.0), (116, 0.0), (118, 0.0), (126, 0.0), (127, 0.0), (128, 0.0), (134, 0.0), (139, 0.0), (145, 0.0), (147, 0.0), (151, 0.0), (157, 0.0), (158, 0.0), (163, 0.0), (174, 0.0), (180, 0.0), (181, 0.0), (190, 0.0), (197, 0.0), (204, 0.0), (205, 0.0), (206, 0.0), (207, 0.0), (210, 0.0), (213, 0.0), (224, 0.0), (226, 0.0), (227, 0.0), (235, 0.0), (236, 0.0), (238, 0.0), (241, 0.0), (244, 0.0), (246, 0.0), (248, 0.0), (252, 0.0), (253, 0.0), (255, 0.0), (258, 0.0), (262, 0.0), (267, 0.0), (268, 0.0), (274, 0.0), (278, 0.0), (282, 0.0), (283, 0.0), (289, 0.0), (290, 0.0), (295, 0.0), (296, 0.0), (302, 0.0), (303, 0.0), (307, 0.0), (313, 0.0), (314, 0.0), (316, 0.0), (318, 0.0), (320, 0.0), (321, 0.0), (322, 0.0), (323, 0.0), (325, 0.0), (326, 0.0), (329, 0.0), (331, 0.0), (332, 0.0), (364, 0.0), (366, 0.0), (367, 0.0), (374, 0.0), (375, 0.0), (376, 0.0), (382, 0.0), (386, 0.0), (389, 0.0), (394, 0.0), (397, 0.0), (398, 0.0), (399, 0.0), (402, 0.0), (414, 0.0), (419, 0.0), (422, 0.0), (431, 0.0), (436, 0.0), (447, 0.0), (450, 0.0), (456, 0.0), (458, 0.0), (462, 0.0), (468, 0.0), (471, 0.0), (475, 0.0), (476, 0.0), (478, 0.0), (480, 0.0), (481, 0.0), (482, 0.0), (485, 0.0), (487, 0.0), (493, 0.0), (499, 0.0), (502, 0.0), (503, 0.0), (505, 0.0), (506, 0.0), (509, 0.0), (513, 0.0), (514, 0.0), (515, 0.0), (516, 0.0), (518, 0.0), (526, 0.0), (531, 0.0), (533, 0.0), (534, 0.0), (535, 0.0), (536, 0.0), (543, 0.0), (544, 0.0), (550, 0.0), (552, 0.0), (554, 0.0), (556, 0.0), (558, 0.0), (563, 0.0), (564, 0.0), (565, 0.0), (570, 0.0), (571, 0.0), (572, 0.0), (573, 0.0), (574, 0.0), (579, 0.0), (580, 0.0), (581, 0.0), (586, 0.0), (587, 0.0), (589, 0.0), (591, 0.0), (592, 0.0), (593, 0.0), (595, 0.0), (598, 0.0), (601, 0.0), (602, 0.0), (606, 0.0), (608, 0.0), (616, 0.0), (617, 0.0), (623, 0.0), (625, 0.0), (626, 0.0), (627, 0.0), (632, 0.0), (633, 0.0), (634, 0.0), (636, 0.0), (638, 0.0), (645, 0.0), (649, 0.0), (650, 0.0), (652, 0.0), (655, 0.0), (658, 0.0), (659, 0.0), (660, 0.0), (667, 0.0), (673, 0.0), (679, 0.0), (682, 0.0), (688, 0.0), (694, 0.0), (707, 0.0), (710, 0.0), (711, 0.0), (716, 0.0), (718, 0.0), (721, 0.0), (729, 0.0), (734, 0.0), (735, 0.0), (739, 0.0), (741, 0.0), (746, 0.0), (751, 0.0), (754, 0.0), (758, 0.0), (759, 0.0), (760, 0.0), (761, 0.0), (764, 0.0), (766, 0.0), (770, 0.0), (771, 0.0), (772, 0.0), (774, 0.0), (777, 0.0), (783, 0.0), (784, 0.0), (791, 0.0), (795, 0.0), (796, 0.0), (799, 0.0), (800, 0.0), (801, 0.0), (808, 0.0), (809, 0.0), (814, 0.0), (816, 0.0), (818, 0.0), (823, 0.0), (825, 0.0), (826, 0.0), (828, 0.0), (830, 0.0), (837, 0.0), (841, 0.0), (842, 0.0), (844, 0.0), (845, 0.0), (848, 0.0), (851, 0.0), (857, 0.0), (860, 0.0), (865, 0.0), (867, 0.0), (869, 0.0), (871, 0.0), (873, 0.0), (875, 0.0), (876, 0.0), (877, 0.0), (886, 0.0), (888, 0.0), (889, 0.0), (896, 0.0), (902, 0.0), (903, 0.0), (910, 0.0), (914, 0.0), (917, 0.0), (921, 0.0), (922, 0.0), (925, 0.0), (927, 0.0), (933, 0.0), (937, 0.0), (941, 0.0), (942, 0.0), (943, 0.0), (947, 0.0), (949, 0.0), (950, 0.0), (951, 0.0), (952, 0.0), (955, 0.0), (956, 0.0), (959, 0.0), (960, 0.0), (964, 0.0), (965, 0.0), (967, 0.0), (968, 0.0), (969, 0.0), (972, 0.0), (979, 0.0), (983, 0.0), (984, 0.0), (986, 0.0), (987, 0.0), (990, 0.0), (992, 0.0), (996, 0.0), (999, 0.0), (1003, 0.0), (1007, 0.0), (1012, 0.0), (1015, 0.0), (1017, 0.0), (1019, 0.0), (1020, 0.0), (1024, 0.0), (1027, 0.0), (1030, 0.0), (1032, 0.0), (1034, 0.0), (1036, 0.0), (1037, 0.0), (1044, 0.0), (1051, 0.0), (1053, 0.0), (1055, 0.0), (1058, 0.0), (1061, 0.0), (1063, 0.0), (1064, 0.0), (1065, 0.0), (1069, 0.0), (1070, 0.0), (1074, 0.0), (1075, 0.0), (1078, 0.0), (1083, 0.0), (1086, 0.0), (1091, 0.0), (1096, 0.0), (1097, 0.0), (1098, 0.0), (1099, 0.0), (1102, 0.0), (1108, 0.0), (1110, 0.0), (1119, 0.0), (1121, 0.0), (1123, 0.0), (1124, 0.0), (1125, 0.0), (1126, 0.0), (1128, 0.0), (1131, 0.0), (1138, 0.0), (1139, 0.0), (1143, 0.0), (1145, 0.0), (1147, 0.0), (1148, 0.0), (1149, 0.0), (1151, 0.0), (1154, 0.0), (1156, 0.0), (1158, 0.0), (1159, 0.0), (1160, 0.0), (1164, 0.0), (1167, 0.0), (1169, 0.0), (1174, 0.0), (1177, 0.0), (1181, 0.0), (1183, 0.0), (1184, 0.0), (1187, 0.0), (1188, 0.0), (1190, 0.0), (1193, 0.0), (1199, 0.0), (1200, 0.0), (1201, 0.0), (1203, 0.0), (1205, 0.0), (1224, 0.0), (1225, 0.0), (1229, 0.0), (1230, 0.0), (1233, 0.0), (1234, 0.0), (1236, 0.0), (1240, 0.0), (1243, 0.0), (1244, 0.0), (1252, 0.0), (1256, 0.0), (1258, 0.0), (1260, 0.0), (1261, 0.0), (1264, 0.0), (1265, 0.0), (1271, 0.0), (1272, 0.0), (1275, 0.0), (1280, 0.0), (1281, 0.0), (1283, 0.0), (1286, 0.0), (1287, 0.0), (1289, 0.0), (1290, 0.0), (1293, 0.0), (1294, 0.0), (1299, 0.0), (1302, 0.0), (1303, 0.0), (1313, 0.0), (1316, 0.0), (1317, 0.0), (1318, 0.0), (1320, 0.0), (1324, 0.0), (1325, 0.0), (1326, 0.0), (1331, 0.0), (1332, 0.0), (1335, 0.0), (1337, 0.0), (1340, 0.0), (1342, 0.0), (1350, 0.0), (1355, 0.0), (1357, 0.0), (1359, 0.0), (1362, 0.0), (1363, 0.0), (1371, 0.0), (1378, 0.0), (1382, 0.0), (1386, 0.0), (1388, 0.0), (1391, 0.0), (1398, 0.0), (1399, 0.0), (1400, 0.0), (1408, 0.0), (1415, 0.0), (1416, 0.0), (1417, 0.0), (1424, 0.0), (1429, 0.0), (1432, 0.0), (1434, 0.0), (1435, 0.0), (1437, 0.0), (1438, 0.0), (1439, 0.0), (1441, 0.0), (1444, 0.0), (1448, 0.0), (1449, 0.0), (1452, 0.0), (1455, 0.0), (1457, 0.0), (1462, 0.0), (1469, 0.0), (1470, 0.0), (1476, 0.0), (1483, 0.0), (1490, 0.0), (1491, 0.0), (1497, 0.0), (1498, 0.0), (1499, 0.0), (1504, 0.0), (1508, 0.0), (1512, 0.0), (1514, 0.0), (1516, 0.0), (1518, 0.0), (1519, 0.0), (1527, 0.0), (1528, 0.0), (1533, 0.0), (1534, 0.0), (1536, 0.0), (1540, 0.0), (1545, 0.0), (1547, 0.0), (1554, 0.0), (1556, 0.0), (1560, 0.0), (1566, 0.0), (1573, 0.0), (1585, 0.0), (1589, 0.0), (1590, 0.0), (1591, 0.0), (1593, 0.0), (1596, 0.0), (1605, 0.0), (1611, 0.0), (1612, 0.0), (1618, 0.0), (1622, 0.0), (1623, 0.0), (1624, 0.0), (1628, 0.0), (1631, 0.0), (1633, 0.0), (1635, 0.0), (1637, 0.0), (1638, 0.0), (1639, 0.0), (1641, 0.0), (1644, 0.0), (1651, 0.0), (1656, 0.0), (1657, 0.0), (1658, 0.0), (1659, 0.0), (1661, 0.0), (1665, 0.0), (1671, 0.0), (1674, 0.0), (1685, 0.0), (1693, 0.0), (1705, 0.0), (1708, 0.0), (1717, 0.0), (1722, 0.0), (1727, 0.0), (1728, 0.0), (1729, 0.0), (1730, 0.0), (1732, 0.0), (1735, 0.0), (1736, 0.0), (1739, 0.0), (1740, 0.0), (1745, 0.0), (1747, 0.0), (1748, 0.0), (1749, 0.0), (1750, 0.0), (1752, 0.0), (1753, 0.0), (1754, 0.0), (1761, 0.0), (1765, 0.0), (1767, 0.0), (1770, 0.0), (1773, 0.0), (1775, 0.0), (1780, 0.0), (1785, 0.0), (1786, 0.0), (1790, 0.0), (1792, 0.0), (1795, 0.0), (1796, 0.0), (1801, 0.0), (1803, 0.0), (1805, 0.0), (1806, 0.0), (1815, 0.0), (1819, 0.0), (1822, 0.0), (1826, 0.0), (1829, 0.0), (1831, 0.0), (1832, 0.0), (1838, 0.0), (1840, 0.0), (1847, 0.0), (1848, 0.0), (1853, 0.0), (1856, 0.0), (1867, 0.0), (1870, 0.0), (1872, 0.0), (1874, 0.0), (1879, 0.0), (1880, 0.0), (1882, 0.0), (1884, 0.0), (1885, 0.0), (1890, 0.0), (1892, 0.0), (1894, 0.0), (1900, 0.0), (1901, 0.0), (1904, 0.0), (1905, 0.0), (1906, 0.0), (1909, 0.0), (1916, 0.0), (1917, 0.0), (1918, 0.0), (1922, 0.0), (1923, 0.0), (1924, 0.0), (1929, 0.0), (1930, 0.0), (1939, 0.0), (1940, 0.0), (1941, 0.0), (1945, 0.0), (1946, 0.0), (1947, 0.0), (1949, 0.0), (1956, 0.0), (1960, 0.0), (1962, 0.0), (1965, 0.0), (1966, 0.0), (1970, 0.0), (1975, 0.0), (1976, 0.0), (1980, 0.0), (1983, 0.0), (1989, 0.0), (1991, 0.0), (1995, 0.0), (2001, 0.0), (2002, 0.0), (2004, 0.0), (2008, 0.0), (2010, 0.0), (2011, 0.0), (2021, 0.0), (2024, 0.0), (2025, 0.0), (2028, 0.0), (2033, 0.0), (2042, 0.0), (2044, 0.0), (2048, 0.0), (2054, 0.0), (2057, 0.0), (2063, 0.0), (2066, 0.0), (2067, 0.0), (2068, 0.0), (2069, 0.0), (2075, 0.0), (2077, 0.0), (2080, 0.0), (2081, 0.0), (2083, 0.0), (2084, 0.0), (2089, 0.0), (2090, 0.0), (2093, 0.0), (2096, 0.0), (2101, 0.0), (2105, 0.0), (2106, 0.0), (2108, 0.0), (2110, 0.0), (2115, 0.0), (2120, 0.0), (2123, 0.0), (2124, 0.0), (2130, 0.0), (2132, 0.0), (2133, 0.0), (2134, 0.0), (2136, 0.0), (2137, 0.0), (2141, 0.0), (2142, 0.0), (2146, 0.0), (2148, 0.0), (2151, 0.0), (2152, 0.0), (2162, 0.0), (2163, 0.0), (2164, 0.0), (2165, 0.0), (2166, 0.0), (2168, 0.0), (2172, 0.0), (2173, 0.0), (2181, 0.0), (2182, 0.0), (2186, 0.0), (2187, 0.0), (2188, 0.0), (2189, 0.0), (2194, 0.0), (2202, 0.0), (2203, 0.0), (2205, 0.0), (2208, 0.0), (2209, 0.0), (2213, 0.0), (2214, 0.0), (2216, 0.0), (2217, 0.0), (2219, 0.0), (2225, 0.0), (2228, 0.0), (2229, 0.0), (2230, 0.0), (2231, 0.0), (2238, 0.0), (2240, 0.0), (2242, 0.0), (2243, 0.0), (2244, 0.0), (2247, 0.0), (2248, 0.0), (2249, 0.0), (2251, 0.0), (2253, 0.0), (2255, 0.0), (2256, 0.0), (2258, 0.0), (2270, 0.0), (2271, 0.0), (2272, 0.0), (2273, 0.0), (2275, 0.0), (2276, 0.0), (2279, 0.0), (2282, 0.0), (2286, 0.0), (2288, 0.0), (2289, 0.0), (2293, 0.0), (2295, 0.0), (2298, 0.0), (2300, 0.0), (2302, 0.0), (2304, 0.0), (2305, 0.0), (2306, 0.0), (2308, 0.0), (2309, 0.0), (2310, 0.0), (2312, 0.0), (2313, 0.0), (2314, 0.0), (2315, 0.0), (2323, 0.0), (2324, 0.0), (2325, 0.0), (2328, 0.0), (2333, 0.0), (2336, 0.0), (2341, 0.0), (2342, 0.0), (2343, 0.0), (2344, 0.0), (2345, 0.0), (2346, 0.0), (2348, 0.0), (2349, 0.0), (2350, 0.0), (2355, 0.0), (2356, 0.0), (2357, 0.0), (2361, 0.0), (2362, 0.0), (2369, 0.0), (2373, 0.0), (2374, 0.0), (2380, 0.0), (2382, 0.0), (2383, 0.0), (2384, 0.0), (2385, 0.0), (2386, 0.0), (2388, 0.0), (2394, 0.0), (2395, 0.0), (2396, 0.0), (2397, 0.0), (2400, 0.0), (2403, 0.0), (2404, 0.0), (2407, 0.0), (2410, 0.0), (2415, 0.0), (2417, 0.0), (2420, 0.0), (2424, 0.0), (2425, 0.0), (2426, 0.0), (2428, 0.0), (2429, 0.0), (2434, 0.0), (2437, 0.0), (2438, 0.0), (2439, 0.0), (2452, 0.0), (2453, 0.0), (2454, 0.0), (2455, 0.0), (2464, 0.0), (2467, 0.0), (2468, 0.0), (2469, 0.0), (2471, 0.0), (2475, 0.0), (2477, 0.0), (2478, 0.0), (2483, 0.0), (2488, 0.0), (2489, 0.0), (2490, 0.0), (2493, 0.0), (2495, 0.0), (2499, 0.0), (2500, 0.0), (2505, 0.0), (2506, 0.0), (2508, 0.0), (2512, 0.0), (2515, 0.0), (2519, 0.0), (2522, 0.0), (2523, 0.0), (2527, 0.0), (2529, 0.0), (2535, 0.0), (2536, 0.0), (2537, 0.0), (2542, 0.0), (2543, 0.0), (2545, 0.0), (2551, 0.0), (2556, 0.0), (2557, 0.0), (2558, 0.0), (2559, 0.0), (2561, 0.0), (2564, 0.0), (2565, 0.0), (2566, 0.0), (2567, 0.0), (2569, 0.0), (2572, 0.0), (2575, 0.0), (2576, 0.0), (2596, 0.0), (2597, 0.0), (2598, 0.0), (2599, 0.0), (2600, 0.0), (2602, 0.0), (2606, 0.0), (2607, 0.0), (2613, 0.0), (2619, 0.0), (2620, 0.0), (2621, 0.0), (2624, 0.0), (2628, 0.0), (2630, 0.0), (2635, 0.0), (2639, 0.0), (2641, 0.0), (2648, 0.0), (2651, 0.0), (2655, 0.0), (2657, 0.0), (2658, 0.0), (2659, 0.0), (2669, 0.0), (2670, 0.0), (2674, 0.0), (2676, 0.0), (2678, 0.0), (2679, 0.0), (2681, 0.0), (2684, 0.0), (2690, 0.0), (2692, 0.0), (2693, 0.0), (2694, 0.0), (2695, 0.0), (2699, 0.0), (2700, 0.0), (2701, 0.0), (2702, 0.0), (2703, 0.0), (2705, 0.0), (2707, 0.0), (2709, 0.0), (2714, 0.0), (2716, 0.0), (2718, 0.0), (2722, 0.0), (2726, 0.0), (2727, 0.0), (2728, 0.0), (2731, 0.0), (2735, 0.0), (2736, 0.0), (2737, 0.0), (2742, 0.0), (2743, 0.0), (2744, 0.0), (2745, 0.0), (2748, 0.0), (2754, 0.0), (2757, 0.0), (2764, 0.0), (2767, 0.0), (2768, 0.0), (2769, 0.0), (2773, 0.0), (2775, 0.0), (2778, 0.0), (2779, 0.0), (2780, 0.0), (2786, 0.0), (2787, 0.0), (2794, 0.0), (2795, 0.0), (2797, 0.0), (2800, 0.0), (2802, 0.0), (2803, 0.0), (2811, 0.0), (2815, 0.0), (2819, 0.0), (2820, 0.0), (2823, 0.0), (2825, 0.0), (2827, 0.0), (2828, 0.0), (2830, 0.0), (2832, 0.0), (2833, 0.0), (2837, 0.0), (2838, 0.0), (2843, 0.0), (2846, 0.0), (2847, 0.0), (2848, 0.0), (2849, 0.0), (2850, 0.0), (2853, 0.0), (2858, 0.0), (2860, 0.0), (2861, 0.0), (2863, 0.0), (2866, 0.0), (2868, 0.0), (2869, 0.0), (2870, 0.0), (2871, 0.0), (2872, 0.0), (2875, 0.0), (2877, 0.0), (2879, 0.0), (2880, 0.0), (2881, 0.0), (2883, 0.0), (2886, 0.0), (2888, 0.0), (2889, 0.0), (2890, 0.0), (2891, 0.0), (2893, 0.0), (2894, 0.0), (2895, 0.0), (2898, 0.0), (2902, 0.0), (2903, 0.0), (2905, 0.0), (2907, 0.0), (2914, 0.0), (2917, 0.0), (2919, 0.0), (2922, 0.0), (2923, 0.0), (2926, 0.0), (2928, 0.0), (2930, 0.0), (2932, 0.0), (2934, 0.0), (2936, 0.0), (2937, 0.0), (2939, 0.0), (2941, 0.0), (2943, 0.0), (2945, 0.0), (2946, 0.0), (2947, 0.0), (2948, 0.0), (2949, 0.0), (2950, 0.0), (2953, 0.0), (2955, 0.0), (2956, 0.0), (2959, 0.0), (2960, 0.0), (2961, 0.0), (2966, 0.0), (2967, 0.0), (2968, 0.0), (2970, 0.0), (2971, 0.0), (2973, 0.0), (2974, 0.0), (2978, 0.0), (2979, 0.0), (2983, 0.0), (2984, 0.0), (2986, 0.0), (2987, 0.0), (2988, 0.0), (2989, 0.0), (2990, 0.0), (2991, 0.0), (2993, 0.0), (2994, 0.0), (2995, 0.0), (2997, 0.0), (3001, 0.0), (3002, 0.0), (3004, 0.0), (3005, 0.0), (3006, 0.0), (3007, 0.0), (3008, 0.0), (3009, 0.0), (3012, 0.0), (3013, 0.0), (3016, 0.0), (3017, 0.0), (3019, 0.0), (3020, 0.0), (3021, 0.0), (3023, 0.0), (3025, 0.0), (3026, 0.0), (3029, 0.0), (3031, 0.0), (3032, 0.0), (3035, 0.0), (3036, 0.0), (3037, 0.0), (3038, 0.0), (3040, 0.0), (3041, 0.0), (3042, 0.0), (3044, 0.0), (3048, 0.0), (3049, 0.0), (3050, 0.0), (3051, 0.0), (3052, 0.0), (3054, 0.0), (3055, 0.0), (3056, 0.0), (3059, 0.0), (3061, 0.0), (3062, 0.0), (3063, 0.0), (3064, 0.0), (3067, 0.0), (3068, 0.0), (3069, 0.0), (3070, 0.0), (3072, 0.0), (3075, 0.0), (3076, 0.0), (3079, 0.0), (3082, 0.0), (3085, 0.0), (3086, 0.0), (3087, 0.0), (3088, 0.0), (3090, 0.0), (3093, 0.0), (3095, 0.0), (3097, 0.0), (3099, 0.0), (3100, 0.0), (3102, 0.0), (3105, 0.0), (3107, 0.0), (3114, 0.0), (3115, 0.0), (3118, 0.0), (3123, 0.0), (3124, 0.0), (3126, 0.0), (3130, 0.0), (3132, 0.0), (3134, 0.0), (3135, 0.0), (3136, 0.0), (3139, 0.0), (3140, 0.0), (3143, 0.0), (3146, 0.0), (3147, 0.0), (3153, 0.0), (3154, 0.0), (3157, 0.0), (3158, 0.0), (3159, 0.0), (3160, 0.0), (3161, 0.0), (3163, 0.0), (3165, 0.0), (3166, 0.0), (3168, 0.0), (3169, 0.0), (3170, 0.0), (3171, 0.0), (3176, 0.0), (3177, 0.0), (3178, 0.0), (3182, 0.0), (3184, 0.0), (3185, 0.0), (3186, 0.0), (3190, 0.0), (3191, 0.0), (3192, 0.0), (3194, 0.0), (3196, 0.0), (3197, 0.0), (3198, 0.0), (3202, 0.0), (3203, 0.0), (3207, 0.0), (3210, 0.0), (3220, 0.0), (3223, 0.0), (3227, 0.0), (3232, 0.0), (3239, 0.0), (3241, 0.0), (3242, 0.0), (3245, 0.0), (3248, 0.0), (3249, 0.0), (3250, 0.0), (3253, 0.0), (3255, 0.0), (3258, 0.0), (3261, 0.0), (3262, 0.0), (3266, 0.0), (3267, 0.0), (3268, 0.0), (3274, 0.0), (3275, 0.0), (3276, 0.0), (3278, 0.0), (3281, 0.0), (3285, 0.0), (3290, 0.0), (3291, 0.0), (3292, 0.0), (3296, 0.0), (3300, 0.0), (3301, 0.0), (3304, 0.0), (3305, 0.0), (3307, 0.0), (3309, 0.0), (3310, 0.0), (3314, 0.0), (3319, 0.0), (3322, 0.0), (3323, 0.0), (3324, 0.0), (3326, 0.0), (3332, 0.0), (3333, 0.0), (3334, 0.0), (3337, 0.0), (3339, 0.0), (3340, 0.0), (3341, 0.0), (3347, 0.0), (3348, 0.0), (3349, 0.0), (3351, 0.0), (3352, 0.0), (3353, 0.0), (3354, 0.0), (3355, 0.0), (3357, 0.0), (3358, 0.0), (3359, 0.0), (3363, 0.0), (3371, 0.0), (3372, 0.0), (3377, 0.0), (3381, 0.0), (3382, 0.0), (3383, 0.0), (3385, 0.0), (3388, 0.0), (3391, 0.0), (3394, 0.0), (3396, 0.0), (3398, 0.0), (3401, 0.0), (3402, 0.0), (3404, 0.0), (3405, 0.0), (3406, 0.0), (3417, 0.0), (3418, 0.0), (3419, 0.0), (3423, 0.0), (3426, 0.0), (3428, 0.0), (3429, 0.0), (3431, 0.0), (3432, 0.0), (3433, 0.0), (3434, 0.0), (3436, 0.0), (3437, 0.0), (3439, 0.0), (3440, 0.0), (3445, 0.0), (3449, 0.0), (3453, 0.0), (3455, 0.0), (3460, 0.0), (3462, 0.0), (3470, 0.0), (3475, 0.0), (3478, 0.0), (3479, 0.0), (3480, 0.0), (3486, 0.0), (3490, 0.0), (3493, 0.0), (3494, 0.0), (3496, 0.0), (3497, 0.0), (3498, 0.0), (3499, 0.0), (3500, 0.0), (3510, 0.0), (3513, 0.0), (3514, 0.0), (3519, 0.0), (3521, 0.0), (3522, 0.0), (3523, 0.0), (3525, 0.0), (3527, 0.0), (3528, 0.0), (3530, 0.0), (3532, 0.0), (3534, 0.0), (3535, 0.0), (3542, 0.0), (3543, 0.0), (3544, 0.0), (3547, 0.0), (3552, 0.0), (3560, 0.0), (3561, 0.0), (3565, 0.0), (3569, 0.0), (3570, 0.0), (3572, 0.0), (3573, 0.0), (3575, 0.0), (3576, 0.0), (3580, 0.0), (3583, 0.0), (3584, 0.0), (3588, 0.0), (3590, 0.0), (3591, 0.0), (3592, 0.0), (3595, 0.0), (3596, 0.0), (3597, 0.0), (3600, 0.0), (3601, 0.0), (3603, 0.0), (3605, 0.0), (3608, 0.0), (3609, 0.0), (3614, 0.0), (3617, 0.0), (3622, 0.0), (3623, 0.0), (3624, 0.0), (3625, 0.0), (3629, 0.0), (3634, 0.0), (3635, 0.0), (3636, 0.0), (3639, 0.0), (3640, 0.0), (3642, 0.0), (3645, 0.0), (3649, 0.0), (3652, 0.0), (3663, 0.0), (3664, 0.0), (3669, 0.0), (3670, 0.0), (3672, 0.0), (3675, 0.0), (3676, 0.0), (3679, 0.0), (3680, 0.0), (3686, 0.0), (3687, 0.0), (3688, 0.0), (3691, 0.0), (3692, 0.0), (3693, 0.0), (3694, 0.0), (3700, 0.0), (3702, 0.0), (3703, 0.0), (3707, 0.0), (3708, 0.0), (3714, 0.0), (3715, 0.0), (3717, 0.0), (3719, 0.0), (3721, 0.0), (3723, 0.0), (3725, 0.0), (3727, 0.0), (3729, 0.0), (3732, 0.0), (3733, 0.0), (3740, 0.0), (3742, 0.0), (3744, 0.0), (3745, 0.0), (3749, 0.0), (3750, 0.0), (3755, 0.0), (3756, 0.0), (3757, 0.0), (3758, 0.0), (3760, 0.0), (3761, 0.0), (3762, 0.0), (3764, 0.0), (3766, 0.0), (3767, 0.0), (3770, 0.0), (3771, 0.0), (3774, 0.0), (3775, 0.0), (3779, 0.0), (3783, 0.0), (3787, 0.0), (3788, 0.0), (3789, 0.0), (3791, 0.0), (3793, 0.0), (3795, 0.0), (3798, 0.0), (3799, 0.0), (3800, 0.0), (3804, 0.0), (3806, 0.0), (3811, 0.0), (3814, 0.0), (3815, 0.0), (3820, 0.0), (3827, 0.0), (3828, 0.0), (3832, 0.0), (3833, 0.0), (3834, 0.0), (3836, 0.0), (3837, 0.0), (3842, 0.0), (3844, 0.0), (3845, 0.0), (3848, 0.0), (3850, 0.0), (3853, 0.0), (3859, 0.0), (3862, 0.0), (3867, 0.0), (3869, 0.0), (3872, 0.0), (3873, 0.0), (3874, 0.0), (3879, 0.0), (3880, 0.0), (3881, 0.0), (3883, 0.0), (3884, 0.0), (3885, 0.0), (3887, 0.0), (3888, 0.0), (3896, 0.0), (3898, 0.0), (3900, 0.0), (3901, 0.0), (3902, 0.0), (3904, 0.0), (3908, 0.0), (3911, 0.0), (3915, 0.0), (3918, 0.0), (3922, 0.0), (3925, 0.0), (3929, 0.0), (3931, 0.0), (3932, 0.0), (3933, 0.0), (3934, 0.0), (3935, 0.0), (3936, 0.0), (3937, 0.0), (3939, 0.0), (3941, 0.0), (3942, 0.0), (3945, 0.0), (3946, 0.0), (3947, 0.0), (3949, 0.0), (3952, 0.0), (3953, 0.0), (3954, 0.0), (3958, 0.0), (3961, 0.0), (3962, 0.0), (3965, 0.0), (3967, 0.0), (3968, 0.0), (3971, 0.0), (3974, 0.0), (3975, 0.0), (3976, 0.0), (3977, 0.0), (3978, 0.0), (3981, 0.0), (3982, 0.0), (3985, 0.0), (3987, 0.0), (3988, 0.0), (3989, 0.0), (3992, 0.0), (3996, 0.0), (3999, 0.0), (4000, 0.0), (4005, 0.0), (4008, 0.0), (4011, 0.0), (4014, 0.0), (4016, 0.0), (4017, 0.0), (4018, 0.0), (4019, 0.0), (4024, 0.0), (4026, 0.0), (4027, 0.0), (4028, 0.0), (4029, 0.0), (4030, 0.0), (4033, 0.0), (4035, 0.0), (4036, 0.0), (4039, 0.0), (4040, 0.0), (4041, 0.0), (4042, 0.0), (4043, 0.0), (4044, 0.0), (4045, 0.0), (4048, 0.0), (4049, 0.0), (4052, 0.0), (4053, 0.0), (4056, 0.0), (4058, 0.0), (4060, 0.0), (4065, 0.0), (4067, 0.0), (4069, 0.0), (4071, 0.0), (4072, 0.0), (4073, 0.0), (4075, 0.0), (4078, 0.0), (4080, 0.0), (4082, 0.0), (4083, 0.0), (4084, 0.0), (4085, 0.0), (4087, 0.0), (4088, 0.0), (4092, 0.0), (4093, 0.0), (4094, 0.0), (4096, 0.0), (4097, 0.0), (4100, 0.0), (4101, 0.0), (4102, 0.0), (4103, 0.0), (4105, 0.0), (4107, 0.0), (4115, 0.0), (4116, 0.0), (4123, 0.0), (4126, 0.0), (4127, 0.0), (4128, 0.0), (4129, 0.0), (4130, 0.0), (4131, 0.0), (4133, 0.0), (4139, 0.0), (4141, 0.0), (4142, 0.0), (4145, 0.0), (4148, 0.0), (4150, 0.0), (4151, 0.0), (4153, 0.0), (4154, 0.0), (4159, 0.0), (4161, 0.0), (4163, 0.0), (4166, 0.0), (4167, 0.0), (4170, 0.0), (4172, 0.0), (4175, 0.0), (4179, 0.0), (4180, 0.0), (4181, 0.0), (4184, 0.0), (4185, 0.0), (4187, 0.0), (4188, 0.0), (4193, 0.0), (4198, 0.0), (4200, 0.0), (4202, 0.0), (4204, 0.0), (4206, 0.0), (4208, 0.0), (4209, 0.0), (4211, 0.0), (4212, 0.0), (4213, 0.0), (4215, 0.0), (4216, 0.0), (4219, 0.0), (4221, 0.0), (4222, 0.0), (4223, 0.0), (4224, 0.0), (4227, 0.0), (4228, 0.0), (4229, 0.0), (4230, 0.0), (4231, 0.0), (4232, 0.0), (4234, 0.0), (4235, 0.0), (4236, 0.0), (4238, 0.0), (4239, 0.0), (4243, 0.0), (4244, 0.0), (4246, 0.0), (4248, 0.0), (4249, 0.0), (4251, 0.0), (4253, 0.0), (4255, 0.0), (4256, 0.0), (4261, 0.0), (4264, 0.0), (4266, 0.0), (4273, 0.0), (4274, 0.0), (4275, 0.0), (4278, 0.0), (4285, 0.0), (4288, 0.0), (4291, 0.0), (4293, 0.0), (4294, 0.0), (4296, 0.0), (4298, 0.0), (4299, 0.0), (4300, 0.0), (4301, 0.0), (4302, 0.0), (4305, 0.0), (4306, 0.0), (4308, 0.0), (4310, 0.0), (4311, 0.0), (4313, 0.0), (4315, 0.0), (4316, 0.0), (4317, 0.0), (4318, 0.0), (4319, 0.0), (4321, 0.0), (4322, 0.0), (4326, 0.0), (4331, 0.0), (4333, 0.0), (4335, 0.0), (4349, 0.0), (4352, 0.0), (4354, 0.0), (4355, 0.0), (4357, 0.0), (4359, 0.0), (4360, 0.0), (4361, 0.0), (4365, 0.0), (4367, 0.0), (4369, 0.0), (4370, 0.0), (4375, 0.0), (4377, 0.0), (4381, 0.0), (4382, 0.0), (4383, 0.0), (4384, 0.0), (4385, 0.0), (4386, 0.0), (4389, 0.0), (4390, 0.0), (4391, 0.0), (4392, 0.0), (4393, 0.0), (4398, 0.0), (4400, 0.0), (4403, 0.0), (4404, 0.0), (4408, 0.0), (4412, 0.0), (4413, 0.0), (4415, 0.0), (4416, 0.0), (4417, 0.0), (4418, 0.0), (4419, 0.0), (4423, 0.0), (4424, 0.0), (4425, 0.0), (4429, 0.0), (4434, 0.0), (4435, 0.0), (4437, 0.0), (4439, 0.0), (4446, 0.0), (4452, 0.0), (4453, 0.0), (4458, 0.0), (4461, 0.0), (4463, 0.0), (4464, 0.0), (4465, 0.0), (4468, 0.0), (4469, 0.0), (4470, 0.0), (4471, 0.0), (4474, 0.0), (4475, 0.0), (4476, 0.0), (4480, 0.0), (4484, 0.0), (4488, 0.0), (4489, 0.0), (4490, 0.0), (4491, 0.0), (4493, 0.0), (4494, 0.0), (4495, 0.0), (4497, 0.0), (4499, 0.0), (4505, 0.0), (4506, 0.0), (4507, 0.0), (4508, 0.0), (4509, 0.0), (4510, 0.0), (4512, 0.0), (4513, 0.0), (4514, 0.0), (4517, 0.0), (4520, 0.0), (4521, 0.0), (4522, 0.0), (4525, 0.0), (4527, 0.0), (4528, 0.0), (4529, 0.0), (4532, 0.0), (4533, 0.0), (4535, 0.0), (4536, 0.0), (4537, 0.0), (4538, 0.0), (4539, 0.0), (4540, 0.0), (4542, 0.0), (4543, 0.0), (4544, 0.0), (4545, 0.0), (4546, 0.0), (4547, 0.0), (4552, 0.0), (4556, 0.0), (4557, 0.0), (4560, 0.0), (4561, 0.0), (4563, 0.0), (4565, 0.0), (4571, 0.0), (4572, 0.0), (4573, 0.0), (4574, 0.0), (4575, 0.0), (4577, 0.0), (4578, 0.0), (4580, 0.0), (4581, 0.0), (4583, 0.0), (4584, 0.0), (4585, 0.0), (4586, 0.0), (4588, 0.0), (4593, 0.0), (4595, 0.0), (4597, 0.0), (4601, 0.0), (4602, 0.0), (4603, 0.0), (4608, 0.0), (4611, 0.0), (4614, 0.0), (4615, 0.0), (4617, 0.0), (4618, 0.0), (4619, 0.0), (4620, 0.0), (4622, 0.0), (4626, 0.0), (4631, 0.0), (4632, 0.0), (4636, 0.0), (4637, 0.0), (4638, 0.0), (4639, 0.0), (4642, 0.0), (4643, 0.0), (4644, 0.0), (4645, 0.0), (4648, 0.0), (4651, 0.0), (4653, 0.0), (4654, 0.0), (4655, 0.0), (4656, 0.0), (4657, 0.0), (4664, 0.0), (4666, 0.0), (4667, 0.0), (4668, 0.0), (4669, 0.0), (4670, 0.0), (4671, 0.0), (4672, 0.0), (4673, 0.0), (4678, 0.0), (4680, 0.0), (4681, 0.0), (4684, 0.0), (4690, 0.0), (4691, 0.0), (4692, 0.0), (4693, 0.0), (4694, 0.0), (4696, 0.0), (4697, 0.0), (4698, 0.0), (4699, 0.0), (4700, 0.0), (4701, 0.0), (4702, 0.0), (4704, 0.0), (4705, 0.0), (4706, 0.0), (4707, 0.0), (4708, 0.0), (4709, 0.0), (4710, 0.0), (4712, 0.0), (4713, 0.0), (4714, 0.0), (4715, 0.0), (4717, 0.0), (4719, 0.0), (4720, 0.0), (4722, 0.0), (4723, 0.0), (4724, 0.0), (4725, 0.0), (4727, 0.0), (4729, 0.0), (4731, 0.0), (4733, 0.0), (4734, 0.0), (4739, 0.0), (4741, 0.0), (4742, 0.0), (4744, 0.0), (4749, 0.0), (4750, 0.0), (4751, 0.0), (4753, 0.0), (4757, 0.0), (4759, 0.0)]\n"
          ]
        }
      ]
    },
    {
      "cell_type": "code",
      "source": [
        "print('Top 30 Movies Suggested for you: \\n')\n",
        "\n",
        "i = 1\n",
        "\n",
        "for movie in Sorted_Similar_Movies:\n",
        "    index = movie[0]\n",
        "    title_from_index = df[df.index==index]['Movie_Title'].values[0]\n",
        "    if (i<31):\n",
        "        print(i, '.',title_from_index)\n",
        "        i+=1"
      ],
      "metadata": {
        "colab": {
          "base_uri": "https://localhost:8080/"
        },
        "id": "gh0OaX7qBK8U",
        "outputId": "c692d017-5b45-44b5-8bd9-81c0404a5449"
      },
      "execution_count": 34,
      "outputs": [
        {
          "output_type": "stream",
          "name": "stdout",
          "text": [
            "Top 30 Movies Suggested for you: \n",
            "\n",
            "1 . Finding Nemo\n",
            "2 . Shark Tale\n",
            "3 . Big Fish\n",
            "4 . John Carter\n",
            "5 . The Muse\n",
            "6 . Megamind\n",
            "7 . Mallrats\n",
            "8 . Spider-Man\n",
            "9 . Happy Feet\n",
            "10 . The Last Temptation of Christ\n",
            "11 . Meet the Deedles\n",
            "12 . The English Patient\n",
            "13 . Death Sentence\n",
            "14 . When Did You Last See Your Father?\n",
            "15 . The Life Aquatic with Steve Zissou\n",
            "16 . Flight of the Intruder\n",
            "17 . El Mariachi\n",
            "18 . Treading Water\n",
            "19 . Silent Movie\n",
            "20 . Bottle Rocket\n",
            "21 . WALL·E\n",
            "22 . The Outsiders\n",
            "23 . He Got Game\n",
            "24 . Ponyo\n",
            "25 . American Dreamz\n",
            "26 . Zoom\n",
            "27 . Shooting Fish\n",
            "28 . Bambi\n",
            "29 . Dear Frankie\n",
            "30 . Freaky Friday\n"
          ]
        }
      ]
    },
    {
      "cell_type": "markdown",
      "source": [
        "# **Top 10 Movie Recommendation System**"
      ],
      "metadata": {
        "id": "2XfaBkeKHQmG"
      }
    },
    {
      "cell_type": "code",
      "source": [
        "Movie_Name = input('Enter your favorite movie name: ')\n",
        "\n",
        "list_of_all_titles = df['Movie_Title'].tolist()\n",
        "\n",
        "Find_Close_Match = difflib.get_close_matches(Movie_Name, list_of_all_titles)\n",
        "\n",
        "Close_Match = Find_Close_Match[0]\n",
        "\n",
        "Index_of_Movie = df[df.Movie_Title == Close_Match]['Movie_ID'].values[0]\n",
        "\n",
        "Recommendation_Score = list(enumerate(Similarity_Score[Index_of_Movie]))\n",
        "\n",
        "sorted_similar_movies = sorted(Recommendation_Score, key = lambda x:x[1], reverse = True)\n",
        "\n",
        "print('Top 10 Movies suggested for you : \\n')\n",
        "\n",
        "i = 1\n",
        "\n",
        "for movie in sorted_similar_movies:\n",
        "    index = movie[0]\n",
        "    title_from_index = df[df.Movie_ID==index]['Movie_Title'].values\n",
        "    if (i<11):\n",
        "        print(i,'.',title_from_index)\n",
        "        i+=1"
      ],
      "metadata": {
        "colab": {
          "base_uri": "https://localhost:8080/"
        },
        "id": "Apn2Z2QDBK-s",
        "outputId": "04894d3b-5a17-445b-8366-e549e21884a3"
      },
      "execution_count": 35,
      "outputs": [
        {
          "output_type": "stream",
          "name": "stdout",
          "text": [
            "Enter your favorite movie name: star wars\n",
            "Top 10 Movies suggested for you : \n",
            "\n",
            "1 . ['Star Wars']\n",
            "2 . ['Ballistic: Ecks vs. Sever']\n",
            "3 . ['Wag the Dog']\n",
            "4 . ['R.I.P.D.']\n",
            "5 . ['The Tourist']\n",
            "6 . ['The Adjustment Bureau']\n",
            "7 . ['Clerks']\n",
            "8 . ['Fight Club']\n",
            "9 . ['The Phantom of the Opera']\n",
            "10 . ['The Barbarian Invasions']\n"
          ]
        }
      ]
    }
  ]
}